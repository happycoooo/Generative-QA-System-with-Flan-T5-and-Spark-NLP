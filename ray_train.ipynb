{
 "cells": [
  {
   "cell_type": "code",
   "execution_count": 3,
   "metadata": {
    "tags": []
   },
   "outputs": [],
   "source": [
    "from transformers import T5ForConditionalGeneration, T5Tokenizer, Seq2SeqTrainer, Seq2SeqTrainingArguments\n",
    "import ray\n",
    "from ray.train.huggingface.transformers import (\n",
    "    RayTrainReportCallback,\n",
    "    prepare_trainer,\n",
    ")\n",
    "from ray.train import ScalingConfig\n",
    "from ray.train.torch import TorchTrainer\n",
    "import datasets\n",
    "from config import *"
   ]
  },
  {
   "cell_type": "code",
   "execution_count": 4,
   "metadata": {
    "tags": []
   },
   "outputs": [],
   "source": [
    "dataset = datasets.load_from_disk(\"/data/lab/project2/squad_v2_tokenized_datasets\")\n",
    "dataset = dataset.train_test_split(test_size=test_size,seed=666)\n",
    "ray_train_ds = ray.data.from_huggingface(dataset[\"train\"])\n",
    "ray_eval_ds = ray.data.from_huggingface(dataset[\"test\"])\n",
    "\n",
    "max_steps_per_epoch = ray_train_ds.count() // (batch_size * num_workers)"
   ]
  },
  {
   "cell_type": "code",
   "execution_count": 22,
   "metadata": {},
   "outputs": [
    {
     "name": "stderr",
     "output_type": "stream",
     "text": [
      "2024-05-29 07:12:59,569\tINFO tune.py:614 -- [output] This uses the legacy output and progress reporter, as Jupyter notebooks are not supported by the new engine, yet. For more information, please see https://github.com/ray-project/ray/issues/36949\n"
     ]
    },
    {
     "name": "stdout",
     "output_type": "stream",
     "text": [
      "== Status ==\n",
      "Current time: 2024-05-29 07:12:59 (running for 00:00:00.11)\n",
      "Using FIFO scheduling algorithm.\n",
      "Logical resource usage: 0/128 CPUs, 0/0 GPUs\n",
      "Result logdir: /tmp/ray/session_2024-05-29_06-54-58_814481_446177/artifacts/2024-05-29_07-12-59/TorchTrainer_2024-05-29_07-12-59/driver_artifacts\n",
      "Number of trials: 1/1 (1 PENDING)\n",
      "\n",
      "\n"
     ]
    },
    {
     "name": "stderr",
     "output_type": "stream",
     "text": [
      "\u001b[33m(raylet)\u001b[0m [2024-05-29 07:13:01,546 E 446902 446902] (raylet) node_manager.cc:3041: 4 Workers (tasks / actors) killed due to memory pressure (OOM), 0 Workers crashed due to other reasons at node (ID: 0ac244d9accc6191d92a062bf4ed6ac2bf10561f4e25aea2208bfce1, IP: 172.17.0.38) over the last time period. To see more information about the Workers killed on this node, use `ray logs raylet.out -ip 172.17.0.38`\n",
      "\u001b[33m(raylet)\u001b[0m \n",
      "\u001b[33m(raylet)\u001b[0m Refer to the documentation on how to address the out of memory issue: https://docs.ray.io/en/latest/ray-core/scheduling/ray-oom-prevention.html. Consider provisioning more memory on this node or reducing task parallelism by requesting more CPUs per task. To adjust the kill threshold, set the environment variable `RAY_memory_usage_threshold` when starting Ray. To disable worker killing, set the environment variable `RAY_memory_monitor_refresh_ms` to zero.\n"
     ]
    },
    {
     "name": "stdout",
     "output_type": "stream",
     "text": [
      "== Status ==\n",
      "Current time: 2024-05-29 07:13:04 (running for 00:00:05.17)\n",
      "Using FIFO scheduling algorithm.\n",
      "Logical resource usage: 2.0/128 CPUs, 0/0 GPUs\n",
      "Result logdir: /tmp/ray/session_2024-05-29_06-54-58_814481_446177/artifacts/2024-05-29_07-12-59/TorchTrainer_2024-05-29_07-12-59/driver_artifacts\n",
      "Number of trials: 1/1 (1 RUNNING)\n",
      "\n",
      "\n"
     ]
    },
    {
     "name": "stderr",
     "output_type": "stream",
     "text": [
      "\u001b[36m(TorchTrainer pid=468003)\u001b[0m Started distributed worker processes: \n",
      "\u001b[36m(TorchTrainer pid=468003)\u001b[0m - (ip=172.17.0.38, pid=468095) world_rank=0, local_rank=0, node_rank=0\n",
      "\u001b[36m(RayTrainWorker pid=468095)\u001b[0m Setting up process group for: env:// [rank=0, world_size=1]\n",
      "\u001b[36m(RayTrainWorker pid=468095)\u001b[0m You are using the default legacy behaviour of the <class 'transformers.models.t5.tokenization_t5.T5Tokenizer'>. This is expected, and simply means that the `legacy` (previous) behavior will be used so nothing changes for you. If you want to use the new behaviour, set `legacy=False`. This should only be set if you understand what it means, and thoroughly read the reason why this was added as explained in https://github.com/huggingface/transformers/pull/24565\n",
      "\u001b[36m(RayTrainWorker pid=468095)\u001b[0m Special tokens have been added in the vocabulary, make sure the associated word embeddings are fine-tuned or trained.\n",
      "\u001b[36m(RayTrainWorker pid=468095)\u001b[0m /root/anaconda3/envs/sp/lib/python3.11/site-packages/transformers/training_args.py:1474: FutureWarning: `evaluation_strategy` is deprecated and will be removed in version 4.46 of 🤗 Transformers. Use `eval_strategy` instead\n",
      "\u001b[36m(RayTrainWorker pid=468095)\u001b[0m   warnings.warn(\n",
      "\u001b[36m(RayTrainWorker pid=468095)\u001b[0m max_steps is given, it will override any value given in num_train_epochs\n",
      "  0%|          | 0/996 [00:00<?, ?it/s]\n"
     ]
    },
    {
     "name": "stdout",
     "output_type": "stream",
     "text": [
      "== Status ==\n",
      "Current time: 2024-05-29 07:13:09 (running for 00:00:10.19)\n",
      "Using FIFO scheduling algorithm.\n",
      "Logical resource usage: 2.0/128 CPUs, 0/0 GPUs\n",
      "Result logdir: /tmp/ray/session_2024-05-29_06-54-58_814481_446177/artifacts/2024-05-29_07-12-59/TorchTrainer_2024-05-29_07-12-59/driver_artifacts\n",
      "Number of trials: 1/1 (1 RUNNING)\n",
      "\n",
      "\n",
      "== Status ==\n",
      "Current time: 2024-05-29 07:13:14 (running for 00:00:15.21)\n",
      "Using FIFO scheduling algorithm.\n",
      "Logical resource usage: 2.0/128 CPUs, 0/0 GPUs\n",
      "Result logdir: /tmp/ray/session_2024-05-29_06-54-58_814481_446177/artifacts/2024-05-29_07-12-59/TorchTrainer_2024-05-29_07-12-59/driver_artifacts\n",
      "Number of trials: 1/1 (1 RUNNING)\n",
      "\n",
      "\n"
     ]
    },
    {
     "name": "stderr",
     "output_type": "stream",
     "text": [
      "\u001b[36m(RayTrainWorker pid=468095)\u001b[0m [rank0]:[W reducer.cpp:1389] Warning: find_unused_parameters=True was specified in DDP constructor, but did not find any unused parameters in the forward pass. This flag results in an extra traversal of the autograd graph every iteration,  which can adversely affect performance. If your model indeed never has any unused parameters in the forward pass, consider turning this flag off. Note that this warning may be a false positive if your model has flow control causing later iterations to have unused parameters. (function operator())\n"
     ]
    },
    {
     "name": "stdout",
     "output_type": "stream",
     "text": [
      "== Status ==\n",
      "Current time: 2024-05-29 07:13:19 (running for 00:00:20.23)\n",
      "Using FIFO scheduling algorithm.\n",
      "Logical resource usage: 2.0/128 CPUs, 0/0 GPUs\n",
      "Result logdir: /tmp/ray/session_2024-05-29_06-54-58_814481_446177/artifacts/2024-05-29_07-12-59/TorchTrainer_2024-05-29_07-12-59/driver_artifacts\n",
      "Number of trials: 1/1 (1 RUNNING)\n",
      "\n",
      "\n",
      "== Status ==\n",
      "Current time: 2024-05-29 07:13:24 (running for 00:00:25.25)\n",
      "Using FIFO scheduling algorithm.\n",
      "Logical resource usage: 2.0/128 CPUs, 0/0 GPUs\n",
      "Result logdir: /tmp/ray/session_2024-05-29_06-54-58_814481_446177/artifacts/2024-05-29_07-12-59/TorchTrainer_2024-05-29_07-12-59/driver_artifacts\n",
      "Number of trials: 1/1 (1 RUNNING)\n",
      "\n",
      "\n",
      "== Status ==\n",
      "Current time: 2024-05-29 07:13:29 (running for 00:00:30.27)\n",
      "Using FIFO scheduling algorithm.\n",
      "Logical resource usage: 2.0/128 CPUs, 0/0 GPUs\n",
      "Result logdir: /tmp/ray/session_2024-05-29_06-54-58_814481_446177/artifacts/2024-05-29_07-12-59/TorchTrainer_2024-05-29_07-12-59/driver_artifacts\n",
      "Number of trials: 1/1 (1 RUNNING)\n",
      "\n",
      "\n",
      "== Status ==\n",
      "Current time: 2024-05-29 07:13:34 (running for 00:00:35.29)\n",
      "Using FIFO scheduling algorithm.\n",
      "Logical resource usage: 2.0/128 CPUs, 0/0 GPUs\n",
      "Result logdir: /tmp/ray/session_2024-05-29_06-54-58_814481_446177/artifacts/2024-05-29_07-12-59/TorchTrainer_2024-05-29_07-12-59/driver_artifacts\n",
      "Number of trials: 1/1 (1 RUNNING)\n",
      "\n",
      "\n",
      "== Status ==\n",
      "Current time: 2024-05-29 07:13:39 (running for 00:00:40.31)\n",
      "Using FIFO scheduling algorithm.\n",
      "Logical resource usage: 2.0/128 CPUs, 0/0 GPUs\n",
      "Result logdir: /tmp/ray/session_2024-05-29_06-54-58_814481_446177/artifacts/2024-05-29_07-12-59/TorchTrainer_2024-05-29_07-12-59/driver_artifacts\n",
      "Number of trials: 1/1 (1 RUNNING)\n",
      "\n",
      "\n",
      "== Status ==\n",
      "Current time: 2024-05-29 07:13:44 (running for 00:00:45.33)\n",
      "Using FIFO scheduling algorithm.\n",
      "Logical resource usage: 2.0/128 CPUs, 0/0 GPUs\n",
      "Result logdir: /tmp/ray/session_2024-05-29_06-54-58_814481_446177/artifacts/2024-05-29_07-12-59/TorchTrainer_2024-05-29_07-12-59/driver_artifacts\n",
      "Number of trials: 1/1 (1 RUNNING)\n",
      "\n",
      "\n",
      "== Status ==\n",
      "Current time: 2024-05-29 07:13:49 (running for 00:00:50.35)\n",
      "Using FIFO scheduling algorithm.\n",
      "Logical resource usage: 2.0/128 CPUs, 0/0 GPUs\n",
      "Result logdir: /tmp/ray/session_2024-05-29_06-54-58_814481_446177/artifacts/2024-05-29_07-12-59/TorchTrainer_2024-05-29_07-12-59/driver_artifacts\n",
      "Number of trials: 1/1 (1 RUNNING)\n",
      "\n",
      "\n",
      "== Status ==\n",
      "Current time: 2024-05-29 07:13:54 (running for 00:00:55.37)\n",
      "Using FIFO scheduling algorithm.\n",
      "Logical resource usage: 2.0/128 CPUs, 0/0 GPUs\n",
      "Result logdir: /tmp/ray/session_2024-05-29_06-54-58_814481_446177/artifacts/2024-05-29_07-12-59/TorchTrainer_2024-05-29_07-12-59/driver_artifacts\n",
      "Number of trials: 1/1 (1 RUNNING)\n",
      "\n",
      "\n",
      "== Status ==\n",
      "Current time: 2024-05-29 07:13:59 (running for 00:01:00.39)\n",
      "Using FIFO scheduling algorithm.\n",
      "Logical resource usage: 2.0/128 CPUs, 0/0 GPUs\n",
      "Result logdir: /tmp/ray/session_2024-05-29_06-54-58_814481_446177/artifacts/2024-05-29_07-12-59/TorchTrainer_2024-05-29_07-12-59/driver_artifacts\n",
      "Number of trials: 1/1 (1 RUNNING)\n",
      "\n",
      "\n",
      "== Status ==\n",
      "Current time: 2024-05-29 07:14:04 (running for 00:01:05.41)\n",
      "Using FIFO scheduling algorithm.\n",
      "Logical resource usage: 2.0/128 CPUs, 0/0 GPUs\n",
      "Result logdir: /tmp/ray/session_2024-05-29_06-54-58_814481_446177/artifacts/2024-05-29_07-12-59/TorchTrainer_2024-05-29_07-12-59/driver_artifacts\n",
      "Number of trials: 1/1 (1 RUNNING)\n",
      "\n",
      "\n",
      "== Status ==\n",
      "Current time: 2024-05-29 07:14:10 (running for 00:01:10.43)\n",
      "Using FIFO scheduling algorithm.\n",
      "Logical resource usage: 2.0/128 CPUs, 0/0 GPUs\n",
      "Result logdir: /tmp/ray/session_2024-05-29_06-54-58_814481_446177/artifacts/2024-05-29_07-12-59/TorchTrainer_2024-05-29_07-12-59/driver_artifacts\n",
      "Number of trials: 1/1 (1 RUNNING)\n",
      "\n",
      "\n",
      "== Status ==\n",
      "Current time: 2024-05-29 07:14:15 (running for 00:01:15.45)\n",
      "Using FIFO scheduling algorithm.\n",
      "Logical resource usage: 2.0/128 CPUs, 0/0 GPUs\n",
      "Result logdir: /tmp/ray/session_2024-05-29_06-54-58_814481_446177/artifacts/2024-05-29_07-12-59/TorchTrainer_2024-05-29_07-12-59/driver_artifacts\n",
      "Number of trials: 1/1 (1 RUNNING)\n",
      "\n",
      "\n",
      "== Status ==\n",
      "Current time: 2024-05-29 07:14:20 (running for 00:01:20.47)\n",
      "Using FIFO scheduling algorithm.\n",
      "Logical resource usage: 2.0/128 CPUs, 0/0 GPUs\n",
      "Result logdir: /tmp/ray/session_2024-05-29_06-54-58_814481_446177/artifacts/2024-05-29_07-12-59/TorchTrainer_2024-05-29_07-12-59/driver_artifacts\n",
      "Number of trials: 1/1 (1 RUNNING)\n",
      "\n",
      "\n",
      "== Status ==\n",
      "Current time: 2024-05-29 07:14:25 (running for 00:01:25.49)\n",
      "Using FIFO scheduling algorithm.\n",
      "Logical resource usage: 2.0/128 CPUs, 0/0 GPUs\n",
      "Result logdir: /tmp/ray/session_2024-05-29_06-54-58_814481_446177/artifacts/2024-05-29_07-12-59/TorchTrainer_2024-05-29_07-12-59/driver_artifacts\n",
      "Number of trials: 1/1 (1 RUNNING)\n",
      "\n",
      "\n",
      "== Status ==\n",
      "Current time: 2024-05-29 07:14:30 (running for 00:01:30.51)\n",
      "Using FIFO scheduling algorithm.\n",
      "Logical resource usage: 2.0/128 CPUs, 0/0 GPUs\n",
      "Result logdir: /tmp/ray/session_2024-05-29_06-54-58_814481_446177/artifacts/2024-05-29_07-12-59/TorchTrainer_2024-05-29_07-12-59/driver_artifacts\n",
      "Number of trials: 1/1 (1 RUNNING)\n",
      "\n",
      "\n",
      "== Status ==\n",
      "Current time: 2024-05-29 07:14:35 (running for 00:01:35.53)\n",
      "Using FIFO scheduling algorithm.\n",
      "Logical resource usage: 2.0/128 CPUs, 0/0 GPUs\n",
      "Result logdir: /tmp/ray/session_2024-05-29_06-54-58_814481_446177/artifacts/2024-05-29_07-12-59/TorchTrainer_2024-05-29_07-12-59/driver_artifacts\n",
      "Number of trials: 1/1 (1 RUNNING)\n",
      "\n",
      "\n",
      "== Status ==\n",
      "Current time: 2024-05-29 07:14:40 (running for 00:01:40.55)\n",
      "Using FIFO scheduling algorithm.\n",
      "Logical resource usage: 2.0/128 CPUs, 0/0 GPUs\n",
      "Result logdir: /tmp/ray/session_2024-05-29_06-54-58_814481_446177/artifacts/2024-05-29_07-12-59/TorchTrainer_2024-05-29_07-12-59/driver_artifacts\n",
      "Number of trials: 1/1 (1 RUNNING)\n",
      "\n",
      "\n",
      "== Status ==\n",
      "Current time: 2024-05-29 07:14:45 (running for 00:01:45.57)\n",
      "Using FIFO scheduling algorithm.\n",
      "Logical resource usage: 2.0/128 CPUs, 0/0 GPUs\n",
      "Result logdir: /tmp/ray/session_2024-05-29_06-54-58_814481_446177/artifacts/2024-05-29_07-12-59/TorchTrainer_2024-05-29_07-12-59/driver_artifacts\n",
      "Number of trials: 1/1 (1 RUNNING)\n",
      "\n",
      "\n",
      "== Status ==\n",
      "Current time: 2024-05-29 07:14:50 (running for 00:01:50.59)\n",
      "Using FIFO scheduling algorithm.\n",
      "Logical resource usage: 2.0/128 CPUs, 0/0 GPUs\n",
      "Result logdir: /tmp/ray/session_2024-05-29_06-54-58_814481_446177/artifacts/2024-05-29_07-12-59/TorchTrainer_2024-05-29_07-12-59/driver_artifacts\n",
      "Number of trials: 1/1 (1 RUNNING)\n",
      "\n",
      "\n",
      "== Status ==\n",
      "Current time: 2024-05-29 07:14:55 (running for 00:01:55.61)\n",
      "Using FIFO scheduling algorithm.\n",
      "Logical resource usage: 2.0/128 CPUs, 0/0 GPUs\n",
      "Result logdir: /tmp/ray/session_2024-05-29_06-54-58_814481_446177/artifacts/2024-05-29_07-12-59/TorchTrainer_2024-05-29_07-12-59/driver_artifacts\n",
      "Number of trials: 1/1 (1 RUNNING)\n",
      "\n",
      "\n",
      "== Status ==\n",
      "Current time: 2024-05-29 07:15:00 (running for 00:02:00.63)\n",
      "Using FIFO scheduling algorithm.\n",
      "Logical resource usage: 2.0/128 CPUs, 0/0 GPUs\n",
      "Result logdir: /tmp/ray/session_2024-05-29_06-54-58_814481_446177/artifacts/2024-05-29_07-12-59/TorchTrainer_2024-05-29_07-12-59/driver_artifacts\n",
      "Number of trials: 1/1 (1 RUNNING)\n",
      "\n",
      "\n",
      "== Status ==\n",
      "Current time: 2024-05-29 07:15:05 (running for 00:02:05.65)\n",
      "Using FIFO scheduling algorithm.\n",
      "Logical resource usage: 2.0/128 CPUs, 0/0 GPUs\n",
      "Result logdir: /tmp/ray/session_2024-05-29_06-54-58_814481_446177/artifacts/2024-05-29_07-12-59/TorchTrainer_2024-05-29_07-12-59/driver_artifacts\n",
      "Number of trials: 1/1 (1 RUNNING)\n",
      "\n",
      "\n",
      "== Status ==\n",
      "Current time: 2024-05-29 07:15:10 (running for 00:02:10.67)\n",
      "Using FIFO scheduling algorithm.\n",
      "Logical resource usage: 2.0/128 CPUs, 0/0 GPUs\n",
      "Result logdir: /tmp/ray/session_2024-05-29_06-54-58_814481_446177/artifacts/2024-05-29_07-12-59/TorchTrainer_2024-05-29_07-12-59/driver_artifacts\n",
      "Number of trials: 1/1 (1 RUNNING)\n",
      "\n",
      "\n",
      "== Status ==\n",
      "Current time: 2024-05-29 07:15:15 (running for 00:02:15.69)\n",
      "Using FIFO scheduling algorithm.\n",
      "Logical resource usage: 2.0/128 CPUs, 0/0 GPUs\n",
      "Result logdir: /tmp/ray/session_2024-05-29_06-54-58_814481_446177/artifacts/2024-05-29_07-12-59/TorchTrainer_2024-05-29_07-12-59/driver_artifacts\n",
      "Number of trials: 1/1 (1 RUNNING)\n",
      "\n",
      "\n",
      "== Status ==\n",
      "Current time: 2024-05-29 07:15:20 (running for 00:02:20.71)\n",
      "Using FIFO scheduling algorithm.\n",
      "Logical resource usage: 2.0/128 CPUs, 0/0 GPUs\n",
      "Result logdir: /tmp/ray/session_2024-05-29_06-54-58_814481_446177/artifacts/2024-05-29_07-12-59/TorchTrainer_2024-05-29_07-12-59/driver_artifacts\n",
      "Number of trials: 1/1 (1 RUNNING)\n",
      "\n",
      "\n",
      "== Status ==\n",
      "Current time: 2024-05-29 07:15:25 (running for 00:02:25.73)\n",
      "Using FIFO scheduling algorithm.\n",
      "Logical resource usage: 2.0/128 CPUs, 0/0 GPUs\n",
      "Result logdir: /tmp/ray/session_2024-05-29_06-54-58_814481_446177/artifacts/2024-05-29_07-12-59/TorchTrainer_2024-05-29_07-12-59/driver_artifacts\n",
      "Number of trials: 1/1 (1 RUNNING)\n",
      "\n",
      "\n",
      "== Status ==\n",
      "Current time: 2024-05-29 07:15:30 (running for 00:02:30.75)\n",
      "Using FIFO scheduling algorithm.\n",
      "Logical resource usage: 2.0/128 CPUs, 0/0 GPUs\n",
      "Result logdir: /tmp/ray/session_2024-05-29_06-54-58_814481_446177/artifacts/2024-05-29_07-12-59/TorchTrainer_2024-05-29_07-12-59/driver_artifacts\n",
      "Number of trials: 1/1 (1 RUNNING)\n",
      "\n",
      "\n",
      "== Status ==\n",
      "Current time: 2024-05-29 07:15:35 (running for 00:02:35.77)\n",
      "Using FIFO scheduling algorithm.\n",
      "Logical resource usage: 2.0/128 CPUs, 0/0 GPUs\n",
      "Result logdir: /tmp/ray/session_2024-05-29_06-54-58_814481_446177/artifacts/2024-05-29_07-12-59/TorchTrainer_2024-05-29_07-12-59/driver_artifacts\n",
      "Number of trials: 1/1 (1 RUNNING)\n",
      "\n",
      "\n",
      "== Status ==\n",
      "Current time: 2024-05-29 07:15:40 (running for 00:02:40.79)\n",
      "Using FIFO scheduling algorithm.\n",
      "Logical resource usage: 2.0/128 CPUs, 0/0 GPUs\n",
      "Result logdir: /tmp/ray/session_2024-05-29_06-54-58_814481_446177/artifacts/2024-05-29_07-12-59/TorchTrainer_2024-05-29_07-12-59/driver_artifacts\n",
      "Number of trials: 1/1 (1 RUNNING)\n",
      "\n",
      "\n",
      "== Status ==\n",
      "Current time: 2024-05-29 07:15:45 (running for 00:02:45.81)\n",
      "Using FIFO scheduling algorithm.\n",
      "Logical resource usage: 2.0/128 CPUs, 0/0 GPUs\n",
      "Result logdir: /tmp/ray/session_2024-05-29_06-54-58_814481_446177/artifacts/2024-05-29_07-12-59/TorchTrainer_2024-05-29_07-12-59/driver_artifacts\n",
      "Number of trials: 1/1 (1 RUNNING)\n",
      "\n",
      "\n",
      "== Status ==\n",
      "Current time: 2024-05-29 07:15:50 (running for 00:02:50.83)\n",
      "Using FIFO scheduling algorithm.\n",
      "Logical resource usage: 2.0/128 CPUs, 0/0 GPUs\n",
      "Result logdir: /tmp/ray/session_2024-05-29_06-54-58_814481_446177/artifacts/2024-05-29_07-12-59/TorchTrainer_2024-05-29_07-12-59/driver_artifacts\n",
      "Number of trials: 1/1 (1 RUNNING)\n",
      "\n",
      "\n",
      "== Status ==\n",
      "Current time: 2024-05-29 07:15:55 (running for 00:02:55.85)\n",
      "Using FIFO scheduling algorithm.\n",
      "Logical resource usage: 2.0/128 CPUs, 0/0 GPUs\n",
      "Result logdir: /tmp/ray/session_2024-05-29_06-54-58_814481_446177/artifacts/2024-05-29_07-12-59/TorchTrainer_2024-05-29_07-12-59/driver_artifacts\n",
      "Number of trials: 1/1 (1 RUNNING)\n",
      "\n",
      "\n"
     ]
    },
    {
     "name": "stderr",
     "output_type": "stream",
     "text": [
      "  0%|          | 1/996 [02:49<46:46:57, 169.26s/it]\n"
     ]
    },
    {
     "name": "stdout",
     "output_type": "stream",
     "text": [
      "== Status ==\n",
      "Current time: 2024-05-29 07:16:00 (running for 00:03:00.87)\n",
      "Using FIFO scheduling algorithm.\n",
      "Logical resource usage: 2.0/128 CPUs, 0/0 GPUs\n",
      "Result logdir: /tmp/ray/session_2024-05-29_06-54-58_814481_446177/artifacts/2024-05-29_07-12-59/TorchTrainer_2024-05-29_07-12-59/driver_artifacts\n",
      "Number of trials: 1/1 (1 RUNNING)\n",
      "\n",
      "\n",
      "== Status ==\n",
      "Current time: 2024-05-29 07:16:05 (running for 00:03:05.88)\n",
      "Using FIFO scheduling algorithm.\n",
      "Logical resource usage: 2.0/128 CPUs, 0/0 GPUs\n",
      "Result logdir: /tmp/ray/session_2024-05-29_06-54-58_814481_446177/artifacts/2024-05-29_07-12-59/TorchTrainer_2024-05-29_07-12-59/driver_artifacts\n",
      "Number of trials: 1/1 (1 RUNNING)\n",
      "\n",
      "\n",
      "== Status ==\n",
      "Current time: 2024-05-29 07:16:10 (running for 00:03:10.91)\n",
      "Using FIFO scheduling algorithm.\n",
      "Logical resource usage: 2.0/128 CPUs, 0/0 GPUs\n",
      "Result logdir: /tmp/ray/session_2024-05-29_06-54-58_814481_446177/artifacts/2024-05-29_07-12-59/TorchTrainer_2024-05-29_07-12-59/driver_artifacts\n",
      "Number of trials: 1/1 (1 RUNNING)\n",
      "\n",
      "\n",
      "== Status ==\n",
      "Current time: 2024-05-29 07:16:15 (running for 00:03:15.93)\n",
      "Using FIFO scheduling algorithm.\n",
      "Logical resource usage: 2.0/128 CPUs, 0/0 GPUs\n",
      "Result logdir: /tmp/ray/session_2024-05-29_06-54-58_814481_446177/artifacts/2024-05-29_07-12-59/TorchTrainer_2024-05-29_07-12-59/driver_artifacts\n",
      "Number of trials: 1/1 (1 RUNNING)\n",
      "\n",
      "\n",
      "== Status ==\n",
      "Current time: 2024-05-29 07:16:20 (running for 00:03:20.95)\n",
      "Using FIFO scheduling algorithm.\n",
      "Logical resource usage: 2.0/128 CPUs, 0/0 GPUs\n",
      "Result logdir: /tmp/ray/session_2024-05-29_06-54-58_814481_446177/artifacts/2024-05-29_07-12-59/TorchTrainer_2024-05-29_07-12-59/driver_artifacts\n",
      "Number of trials: 1/1 (1 RUNNING)\n",
      "\n",
      "\n",
      "== Status ==\n",
      "Current time: 2024-05-29 07:16:25 (running for 00:03:25.97)\n",
      "Using FIFO scheduling algorithm.\n",
      "Logical resource usage: 2.0/128 CPUs, 0/0 GPUs\n",
      "Result logdir: /tmp/ray/session_2024-05-29_06-54-58_814481_446177/artifacts/2024-05-29_07-12-59/TorchTrainer_2024-05-29_07-12-59/driver_artifacts\n",
      "Number of trials: 1/1 (1 RUNNING)\n",
      "\n",
      "\n",
      "== Status ==\n",
      "Current time: 2024-05-29 07:16:30 (running for 00:03:30.99)\n",
      "Using FIFO scheduling algorithm.\n",
      "Logical resource usage: 2.0/128 CPUs, 0/0 GPUs\n",
      "Result logdir: /tmp/ray/session_2024-05-29_06-54-58_814481_446177/artifacts/2024-05-29_07-12-59/TorchTrainer_2024-05-29_07-12-59/driver_artifacts\n",
      "Number of trials: 1/1 (1 RUNNING)\n",
      "\n",
      "\n",
      "== Status ==\n",
      "Current time: 2024-05-29 07:16:35 (running for 00:03:36.01)\n",
      "Using FIFO scheduling algorithm.\n",
      "Logical resource usage: 2.0/128 CPUs, 0/0 GPUs\n",
      "Result logdir: /tmp/ray/session_2024-05-29_06-54-58_814481_446177/artifacts/2024-05-29_07-12-59/TorchTrainer_2024-05-29_07-12-59/driver_artifacts\n",
      "Number of trials: 1/1 (1 RUNNING)\n",
      "\n",
      "\n",
      "== Status ==\n",
      "Current time: 2024-05-29 07:16:40 (running for 00:03:41.03)\n",
      "Using FIFO scheduling algorithm.\n",
      "Logical resource usage: 2.0/128 CPUs, 0/0 GPUs\n",
      "Result logdir: /tmp/ray/session_2024-05-29_06-54-58_814481_446177/artifacts/2024-05-29_07-12-59/TorchTrainer_2024-05-29_07-12-59/driver_artifacts\n",
      "Number of trials: 1/1 (1 RUNNING)\n",
      "\n",
      "\n",
      "== Status ==\n",
      "Current time: 2024-05-29 07:16:45 (running for 00:03:46.05)\n",
      "Using FIFO scheduling algorithm.\n",
      "Logical resource usage: 2.0/128 CPUs, 0/0 GPUs\n",
      "Result logdir: /tmp/ray/session_2024-05-29_06-54-58_814481_446177/artifacts/2024-05-29_07-12-59/TorchTrainer_2024-05-29_07-12-59/driver_artifacts\n",
      "Number of trials: 1/1 (1 RUNNING)\n",
      "\n",
      "\n",
      "== Status ==\n",
      "Current time: 2024-05-29 07:16:50 (running for 00:03:51.07)\n",
      "Using FIFO scheduling algorithm.\n",
      "Logical resource usage: 2.0/128 CPUs, 0/0 GPUs\n",
      "Result logdir: /tmp/ray/session_2024-05-29_06-54-58_814481_446177/artifacts/2024-05-29_07-12-59/TorchTrainer_2024-05-29_07-12-59/driver_artifacts\n",
      "Number of trials: 1/1 (1 RUNNING)\n",
      "\n",
      "\n",
      "== Status ==\n",
      "Current time: 2024-05-29 07:16:55 (running for 00:03:56.09)\n",
      "Using FIFO scheduling algorithm.\n",
      "Logical resource usage: 2.0/128 CPUs, 0/0 GPUs\n",
      "Result logdir: /tmp/ray/session_2024-05-29_06-54-58_814481_446177/artifacts/2024-05-29_07-12-59/TorchTrainer_2024-05-29_07-12-59/driver_artifacts\n",
      "Number of trials: 1/1 (1 RUNNING)\n",
      "\n",
      "\n",
      "== Status ==\n",
      "Current time: 2024-05-29 07:17:00 (running for 00:04:01.11)\n",
      "Using FIFO scheduling algorithm.\n",
      "Logical resource usage: 2.0/128 CPUs, 0/0 GPUs\n",
      "Result logdir: /tmp/ray/session_2024-05-29_06-54-58_814481_446177/artifacts/2024-05-29_07-12-59/TorchTrainer_2024-05-29_07-12-59/driver_artifacts\n",
      "Number of trials: 1/1 (1 RUNNING)\n",
      "\n",
      "\n",
      "== Status ==\n",
      "Current time: 2024-05-29 07:17:05 (running for 00:04:06.13)\n",
      "Using FIFO scheduling algorithm.\n",
      "Logical resource usage: 2.0/128 CPUs, 0/0 GPUs\n",
      "Result logdir: /tmp/ray/session_2024-05-29_06-54-58_814481_446177/artifacts/2024-05-29_07-12-59/TorchTrainer_2024-05-29_07-12-59/driver_artifacts\n",
      "Number of trials: 1/1 (1 RUNNING)\n",
      "\n",
      "\n",
      "== Status ==\n",
      "Current time: 2024-05-29 07:17:10 (running for 00:04:11.15)\n",
      "Using FIFO scheduling algorithm.\n",
      "Logical resource usage: 2.0/128 CPUs, 0/0 GPUs\n",
      "Result logdir: /tmp/ray/session_2024-05-29_06-54-58_814481_446177/artifacts/2024-05-29_07-12-59/TorchTrainer_2024-05-29_07-12-59/driver_artifacts\n",
      "Number of trials: 1/1 (1 RUNNING)\n",
      "\n",
      "\n",
      "== Status ==\n",
      "Current time: 2024-05-29 07:17:15 (running for 00:04:16.17)\n",
      "Using FIFO scheduling algorithm.\n",
      "Logical resource usage: 2.0/128 CPUs, 0/0 GPUs\n",
      "Result logdir: /tmp/ray/session_2024-05-29_06-54-58_814481_446177/artifacts/2024-05-29_07-12-59/TorchTrainer_2024-05-29_07-12-59/driver_artifacts\n",
      "Number of trials: 1/1 (1 RUNNING)\n",
      "\n",
      "\n",
      "== Status ==\n",
      "Current time: 2024-05-29 07:17:20 (running for 00:04:21.19)\n",
      "Using FIFO scheduling algorithm.\n",
      "Logical resource usage: 2.0/128 CPUs, 0/0 GPUs\n",
      "Result logdir: /tmp/ray/session_2024-05-29_06-54-58_814481_446177/artifacts/2024-05-29_07-12-59/TorchTrainer_2024-05-29_07-12-59/driver_artifacts\n",
      "Number of trials: 1/1 (1 RUNNING)\n",
      "\n",
      "\n",
      "== Status ==\n",
      "Current time: 2024-05-29 07:17:25 (running for 00:04:26.21)\n",
      "Using FIFO scheduling algorithm.\n",
      "Logical resource usage: 2.0/128 CPUs, 0/0 GPUs\n",
      "Result logdir: /tmp/ray/session_2024-05-29_06-54-58_814481_446177/artifacts/2024-05-29_07-12-59/TorchTrainer_2024-05-29_07-12-59/driver_artifacts\n",
      "Number of trials: 1/1 (1 RUNNING)\n",
      "\n",
      "\n",
      "== Status ==\n",
      "Current time: 2024-05-29 07:17:30 (running for 00:04:31.23)\n",
      "Using FIFO scheduling algorithm.\n",
      "Logical resource usage: 2.0/128 CPUs, 0/0 GPUs\n",
      "Result logdir: /tmp/ray/session_2024-05-29_06-54-58_814481_446177/artifacts/2024-05-29_07-12-59/TorchTrainer_2024-05-29_07-12-59/driver_artifacts\n",
      "Number of trials: 1/1 (1 RUNNING)\n",
      "\n",
      "\n",
      "== Status ==\n",
      "Current time: 2024-05-29 07:17:35 (running for 00:04:36.25)\n",
      "Using FIFO scheduling algorithm.\n",
      "Logical resource usage: 2.0/128 CPUs, 0/0 GPUs\n",
      "Result logdir: /tmp/ray/session_2024-05-29_06-54-58_814481_446177/artifacts/2024-05-29_07-12-59/TorchTrainer_2024-05-29_07-12-59/driver_artifacts\n",
      "Number of trials: 1/1 (1 RUNNING)\n",
      "\n",
      "\n",
      "== Status ==\n",
      "Current time: 2024-05-29 07:17:40 (running for 00:04:41.27)\n",
      "Using FIFO scheduling algorithm.\n",
      "Logical resource usage: 2.0/128 CPUs, 0/0 GPUs\n",
      "Result logdir: /tmp/ray/session_2024-05-29_06-54-58_814481_446177/artifacts/2024-05-29_07-12-59/TorchTrainer_2024-05-29_07-12-59/driver_artifacts\n",
      "Number of trials: 1/1 (1 RUNNING)\n",
      "\n",
      "\n",
      "== Status ==\n",
      "Current time: 2024-05-29 07:17:45 (running for 00:04:46.29)\n",
      "Using FIFO scheduling algorithm.\n",
      "Logical resource usage: 2.0/128 CPUs, 0/0 GPUs\n",
      "Result logdir: /tmp/ray/session_2024-05-29_06-54-58_814481_446177/artifacts/2024-05-29_07-12-59/TorchTrainer_2024-05-29_07-12-59/driver_artifacts\n",
      "Number of trials: 1/1 (1 RUNNING)\n",
      "\n",
      "\n",
      "== Status ==\n",
      "Current time: 2024-05-29 07:17:50 (running for 00:04:51.31)\n",
      "Using FIFO scheduling algorithm.\n",
      "Logical resource usage: 2.0/128 CPUs, 0/0 GPUs\n",
      "Result logdir: /tmp/ray/session_2024-05-29_06-54-58_814481_446177/artifacts/2024-05-29_07-12-59/TorchTrainer_2024-05-29_07-12-59/driver_artifacts\n",
      "Number of trials: 1/1 (1 RUNNING)\n",
      "\n",
      "\n",
      "== Status ==\n",
      "Current time: 2024-05-29 07:17:55 (running for 00:04:56.33)\n",
      "Using FIFO scheduling algorithm.\n",
      "Logical resource usage: 2.0/128 CPUs, 0/0 GPUs\n",
      "Result logdir: /tmp/ray/session_2024-05-29_06-54-58_814481_446177/artifacts/2024-05-29_07-12-59/TorchTrainer_2024-05-29_07-12-59/driver_artifacts\n",
      "Number of trials: 1/1 (1 RUNNING)\n",
      "\n",
      "\n",
      "== Status ==\n",
      "Current time: 2024-05-29 07:18:00 (running for 00:05:01.35)\n",
      "Using FIFO scheduling algorithm.\n",
      "Logical resource usage: 2.0/128 CPUs, 0/0 GPUs\n",
      "Result logdir: /tmp/ray/session_2024-05-29_06-54-58_814481_446177/artifacts/2024-05-29_07-12-59/TorchTrainer_2024-05-29_07-12-59/driver_artifacts\n",
      "Number of trials: 1/1 (1 RUNNING)\n",
      "\n",
      "\n",
      "== Status ==\n",
      "Current time: 2024-05-29 07:18:05 (running for 00:05:06.37)\n",
      "Using FIFO scheduling algorithm.\n",
      "Logical resource usage: 2.0/128 CPUs, 0/0 GPUs\n",
      "Result logdir: /tmp/ray/session_2024-05-29_06-54-58_814481_446177/artifacts/2024-05-29_07-12-59/TorchTrainer_2024-05-29_07-12-59/driver_artifacts\n",
      "Number of trials: 1/1 (1 RUNNING)\n",
      "\n",
      "\n",
      "== Status ==\n",
      "Current time: 2024-05-29 07:18:10 (running for 00:05:11.39)\n",
      "Using FIFO scheduling algorithm.\n",
      "Logical resource usage: 2.0/128 CPUs, 0/0 GPUs\n",
      "Result logdir: /tmp/ray/session_2024-05-29_06-54-58_814481_446177/artifacts/2024-05-29_07-12-59/TorchTrainer_2024-05-29_07-12-59/driver_artifacts\n",
      "Number of trials: 1/1 (1 RUNNING)\n",
      "\n",
      "\n",
      "== Status ==\n",
      "Current time: 2024-05-29 07:18:15 (running for 00:05:16.41)\n",
      "Using FIFO scheduling algorithm.\n",
      "Logical resource usage: 2.0/128 CPUs, 0/0 GPUs\n",
      "Result logdir: /tmp/ray/session_2024-05-29_06-54-58_814481_446177/artifacts/2024-05-29_07-12-59/TorchTrainer_2024-05-29_07-12-59/driver_artifacts\n",
      "Number of trials: 1/1 (1 RUNNING)\n",
      "\n",
      "\n",
      "== Status ==\n",
      "Current time: 2024-05-29 07:18:21 (running for 00:05:21.43)\n",
      "Using FIFO scheduling algorithm.\n",
      "Logical resource usage: 2.0/128 CPUs, 0/0 GPUs\n",
      "Result logdir: /tmp/ray/session_2024-05-29_06-54-58_814481_446177/artifacts/2024-05-29_07-12-59/TorchTrainer_2024-05-29_07-12-59/driver_artifacts\n",
      "Number of trials: 1/1 (1 RUNNING)\n",
      "\n",
      "\n",
      "== Status ==\n",
      "Current time: 2024-05-29 07:18:26 (running for 00:05:26.45)\n",
      "Using FIFO scheduling algorithm.\n",
      "Logical resource usage: 2.0/128 CPUs, 0/0 GPUs\n",
      "Result logdir: /tmp/ray/session_2024-05-29_06-54-58_814481_446177/artifacts/2024-05-29_07-12-59/TorchTrainer_2024-05-29_07-12-59/driver_artifacts\n",
      "Number of trials: 1/1 (1 RUNNING)\n",
      "\n",
      "\n",
      "== Status ==\n",
      "Current time: 2024-05-29 07:18:31 (running for 00:05:31.47)\n",
      "Using FIFO scheduling algorithm.\n",
      "Logical resource usage: 2.0/128 CPUs, 0/0 GPUs\n",
      "Result logdir: /tmp/ray/session_2024-05-29_06-54-58_814481_446177/artifacts/2024-05-29_07-12-59/TorchTrainer_2024-05-29_07-12-59/driver_artifacts\n",
      "Number of trials: 1/1 (1 RUNNING)\n",
      "\n",
      "\n"
     ]
    },
    {
     "name": "stderr",
     "output_type": "stream",
     "text": [
      "  0%|          | 2/996 [05:25<44:38:48, 161.70s/it]\n"
     ]
    },
    {
     "name": "stdout",
     "output_type": "stream",
     "text": [
      "\u001b[36m(RayTrainWorker pid=468095)\u001b[0m {'loss': 1.2004, 'grad_norm': 3.7617990970611572, 'learning_rate': 5e-05, 'epoch': 0.0}\n",
      "== Status ==\n",
      "Current time: 2024-05-29 07:18:36 (running for 00:05:36.49)\n",
      "Using FIFO scheduling algorithm.\n",
      "Logical resource usage: 2.0/128 CPUs, 0/0 GPUs\n",
      "Result logdir: /tmp/ray/session_2024-05-29_06-54-58_814481_446177/artifacts/2024-05-29_07-12-59/TorchTrainer_2024-05-29_07-12-59/driver_artifacts\n",
      "Number of trials: 1/1 (1 RUNNING)\n",
      "\n",
      "\n"
     ]
    },
    {
     "name": "stderr",
     "output_type": "stream",
     "text": [
      "\u001b[36m(RayTrainWorker pid=468095)\u001b[0m \n",
      "  0%|          | 0/163 [00:00<?, ?it/s]\u001b[A\n"
     ]
    },
    {
     "name": "stdout",
     "output_type": "stream",
     "text": [
      "== Status ==\n",
      "Current time: 2024-05-29 07:18:41 (running for 00:05:41.51)\n",
      "Using FIFO scheduling algorithm.\n",
      "Logical resource usage: 2.0/128 CPUs, 0/0 GPUs\n",
      "Result logdir: /tmp/ray/session_2024-05-29_06-54-58_814481_446177/artifacts/2024-05-29_07-12-59/TorchTrainer_2024-05-29_07-12-59/driver_artifacts\n",
      "Number of trials: 1/1 (1 RUNNING)\n",
      "\n",
      "\n",
      "== Status ==\n",
      "Current time: 2024-05-29 07:18:46 (running for 00:05:46.53)\n",
      "Using FIFO scheduling algorithm.\n",
      "Logical resource usage: 2.0/128 CPUs, 0/0 GPUs\n",
      "Result logdir: /tmp/ray/session_2024-05-29_06-54-58_814481_446177/artifacts/2024-05-29_07-12-59/TorchTrainer_2024-05-29_07-12-59/driver_artifacts\n",
      "Number of trials: 1/1 (1 RUNNING)\n",
      "\n",
      "\n"
     ]
    },
    {
     "name": "stderr",
     "output_type": "stream",
     "text": [
      "\u001b[36m(RayTrainWorker pid=468095)\u001b[0m \n",
      "  1%|          | 2/163 [00:05<08:02,  3.00s/it]\u001b[A\n"
     ]
    },
    {
     "name": "stdout",
     "output_type": "stream",
     "text": [
      "== Status ==\n",
      "Current time: 2024-05-29 07:18:51 (running for 00:05:51.55)\n",
      "Using FIFO scheduling algorithm.\n",
      "Logical resource usage: 2.0/128 CPUs, 0/0 GPUs\n",
      "Result logdir: /tmp/ray/session_2024-05-29_06-54-58_814481_446177/artifacts/2024-05-29_07-12-59/TorchTrainer_2024-05-29_07-12-59/driver_artifacts\n",
      "Number of trials: 1/1 (1 RUNNING)\n",
      "\n",
      "\n"
     ]
    },
    {
     "name": "stderr",
     "output_type": "stream",
     "text": [
      "\u001b[36m(RayTrainWorker pid=468095)\u001b[0m \n",
      "  2%|▏         | 3/163 [00:11<11:20,  4.25s/it]\u001b[A\n"
     ]
    },
    {
     "name": "stdout",
     "output_type": "stream",
     "text": [
      "== Status ==\n",
      "Current time: 2024-05-29 07:18:56 (running for 00:05:56.57)\n",
      "Using FIFO scheduling algorithm.\n",
      "Logical resource usage: 2.0/128 CPUs, 0/0 GPUs\n",
      "Result logdir: /tmp/ray/session_2024-05-29_06-54-58_814481_446177/artifacts/2024-05-29_07-12-59/TorchTrainer_2024-05-29_07-12-59/driver_artifacts\n",
      "Number of trials: 1/1 (1 RUNNING)\n",
      "\n",
      "\n"
     ]
    },
    {
     "name": "stderr",
     "output_type": "stream",
     "text": [
      "\u001b[36m(RayTrainWorker pid=468095)\u001b[0m \n",
      "  2%|▏         | 4/163 [00:17<12:51,  4.85s/it]\u001b[A\n"
     ]
    },
    {
     "name": "stdout",
     "output_type": "stream",
     "text": [
      "== Status ==\n",
      "Current time: 2024-05-29 07:19:01 (running for 00:06:01.59)\n",
      "Using FIFO scheduling algorithm.\n",
      "Logical resource usage: 2.0/128 CPUs, 0/0 GPUs\n",
      "Result logdir: /tmp/ray/session_2024-05-29_06-54-58_814481_446177/artifacts/2024-05-29_07-12-59/TorchTrainer_2024-05-29_07-12-59/driver_artifacts\n",
      "Number of trials: 1/1 (1 RUNNING)\n",
      "\n",
      "\n"
     ]
    },
    {
     "name": "stderr",
     "output_type": "stream",
     "text": [
      "\u001b[36m(RayTrainWorker pid=468095)\u001b[0m \n",
      "  3%|▎         | 5/163 [00:23<13:37,  5.17s/it]\u001b[A\n"
     ]
    },
    {
     "name": "stdout",
     "output_type": "stream",
     "text": [
      "== Status ==\n",
      "Current time: 2024-05-29 07:19:06 (running for 00:06:06.60)\n",
      "Using FIFO scheduling algorithm.\n",
      "Logical resource usage: 2.0/128 CPUs, 0/0 GPUs\n",
      "Result logdir: /tmp/ray/session_2024-05-29_06-54-58_814481_446177/artifacts/2024-05-29_07-12-59/TorchTrainer_2024-05-29_07-12-59/driver_artifacts\n",
      "Number of trials: 1/1 (1 RUNNING)\n",
      "\n",
      "\n"
     ]
    },
    {
     "name": "stderr",
     "output_type": "stream",
     "text": [
      "\u001b[36m(RayTrainWorker pid=468095)\u001b[0m \n",
      "  4%|▎         | 6/163 [00:29<14:06,  5.39s/it]\u001b[A\n"
     ]
    },
    {
     "name": "stdout",
     "output_type": "stream",
     "text": [
      "== Status ==\n",
      "Current time: 2024-05-29 07:19:11 (running for 00:06:11.63)\n",
      "Using FIFO scheduling algorithm.\n",
      "Logical resource usage: 2.0/128 CPUs, 0/0 GPUs\n",
      "Result logdir: /tmp/ray/session_2024-05-29_06-54-58_814481_446177/artifacts/2024-05-29_07-12-59/TorchTrainer_2024-05-29_07-12-59/driver_artifacts\n",
      "Number of trials: 1/1 (1 RUNNING)\n",
      "\n",
      "\n"
     ]
    },
    {
     "name": "stderr",
     "output_type": "stream",
     "text": [
      "\u001b[36m(RayTrainWorker pid=468095)\u001b[0m \n",
      "  4%|▍         | 7/163 [00:35<14:19,  5.51s/it]\u001b[A\n"
     ]
    },
    {
     "name": "stdout",
     "output_type": "stream",
     "text": [
      "== Status ==\n",
      "Current time: 2024-05-29 07:19:16 (running for 00:06:16.64)\n",
      "Using FIFO scheduling algorithm.\n",
      "Logical resource usage: 2.0/128 CPUs, 0/0 GPUs\n",
      "Result logdir: /tmp/ray/session_2024-05-29_06-54-58_814481_446177/artifacts/2024-05-29_07-12-59/TorchTrainer_2024-05-29_07-12-59/driver_artifacts\n",
      "Number of trials: 1/1 (1 RUNNING)\n",
      "\n",
      "\n"
     ]
    },
    {
     "name": "stderr",
     "output_type": "stream",
     "text": [
      "\u001b[36m(RayTrainWorker pid=468095)\u001b[0m \n",
      "  5%|▍         | 8/163 [00:40<14:25,  5.59s/it]\u001b[A\n"
     ]
    },
    {
     "name": "stdout",
     "output_type": "stream",
     "text": [
      "== Status ==\n",
      "Current time: 2024-05-29 07:19:21 (running for 00:06:21.66)\n",
      "Using FIFO scheduling algorithm.\n",
      "Logical resource usage: 2.0/128 CPUs, 0/0 GPUs\n",
      "Result logdir: /tmp/ray/session_2024-05-29_06-54-58_814481_446177/artifacts/2024-05-29_07-12-59/TorchTrainer_2024-05-29_07-12-59/driver_artifacts\n",
      "Number of trials: 1/1 (1 RUNNING)\n",
      "\n",
      "\n",
      "== Status ==\n",
      "Current time: 2024-05-29 07:19:26 (running for 00:06:26.68)\n",
      "Using FIFO scheduling algorithm.\n",
      "Logical resource usage: 2.0/128 CPUs, 0/0 GPUs\n",
      "Result logdir: /tmp/ray/session_2024-05-29_06-54-58_814481_446177/artifacts/2024-05-29_07-12-59/TorchTrainer_2024-05-29_07-12-59/driver_artifacts\n",
      "Number of trials: 1/1 (1 RUNNING)\n",
      "\n",
      "\n"
     ]
    },
    {
     "name": "stderr",
     "output_type": "stream",
     "text": [
      "\u001b[36m(RayTrainWorker pid=468095)\u001b[0m \n",
      "  6%|▌         | 9/163 [00:46<14:28,  5.64s/it]\u001b[A\n"
     ]
    },
    {
     "name": "stdout",
     "output_type": "stream",
     "text": [
      "== Status ==\n",
      "Current time: 2024-05-29 07:19:31 (running for 00:06:31.70)\n",
      "Using FIFO scheduling algorithm.\n",
      "Logical resource usage: 2.0/128 CPUs, 0/0 GPUs\n",
      "Result logdir: /tmp/ray/session_2024-05-29_06-54-58_814481_446177/artifacts/2024-05-29_07-12-59/TorchTrainer_2024-05-29_07-12-59/driver_artifacts\n",
      "Number of trials: 1/1 (1 RUNNING)\n",
      "\n",
      "\n"
     ]
    },
    {
     "name": "stderr",
     "output_type": "stream",
     "text": [
      "\u001b[36m(RayTrainWorker pid=468095)\u001b[0m \n",
      "  6%|▌         | 10/163 [00:52<14:31,  5.70s/it]\u001b[A\n"
     ]
    },
    {
     "name": "stdout",
     "output_type": "stream",
     "text": [
      "== Status ==\n",
      "Current time: 2024-05-29 07:19:36 (running for 00:06:36.72)\n",
      "Using FIFO scheduling algorithm.\n",
      "Logical resource usage: 2.0/128 CPUs, 0/0 GPUs\n",
      "Result logdir: /tmp/ray/session_2024-05-29_06-54-58_814481_446177/artifacts/2024-05-29_07-12-59/TorchTrainer_2024-05-29_07-12-59/driver_artifacts\n",
      "Number of trials: 1/1 (1 RUNNING)\n",
      "\n",
      "\n"
     ]
    },
    {
     "name": "stderr",
     "output_type": "stream",
     "text": [
      "\u001b[36m(RayTrainWorker pid=468095)\u001b[0m \n",
      "  7%|▋         | 11/163 [00:58<14:49,  5.85s/it]\u001b[A\n"
     ]
    },
    {
     "name": "stdout",
     "output_type": "stream",
     "text": [
      "== Status ==\n",
      "Current time: 2024-05-29 07:19:41 (running for 00:06:41.74)\n",
      "Using FIFO scheduling algorithm.\n",
      "Logical resource usage: 2.0/128 CPUs, 0/0 GPUs\n",
      "Result logdir: /tmp/ray/session_2024-05-29_06-54-58_814481_446177/artifacts/2024-05-29_07-12-59/TorchTrainer_2024-05-29_07-12-59/driver_artifacts\n",
      "Number of trials: 1/1 (1 RUNNING)\n",
      "\n",
      "\n"
     ]
    },
    {
     "name": "stderr",
     "output_type": "stream",
     "text": [
      "\u001b[36m(RayTrainWorker pid=468095)\u001b[0m \n",
      "  7%|▋         | 12/163 [01:04<14:39,  5.83s/it]\u001b[A\n"
     ]
    },
    {
     "name": "stdout",
     "output_type": "stream",
     "text": [
      "== Status ==\n",
      "Current time: 2024-05-29 07:19:46 (running for 00:06:46.76)\n",
      "Using FIFO scheduling algorithm.\n",
      "Logical resource usage: 2.0/128 CPUs, 0/0 GPUs\n",
      "Result logdir: /tmp/ray/session_2024-05-29_06-54-58_814481_446177/artifacts/2024-05-29_07-12-59/TorchTrainer_2024-05-29_07-12-59/driver_artifacts\n",
      "Number of trials: 1/1 (1 RUNNING)\n",
      "\n",
      "\n"
     ]
    },
    {
     "name": "stderr",
     "output_type": "stream",
     "text": [
      "\u001b[36m(RayTrainWorker pid=468095)\u001b[0m \n",
      "  8%|▊         | 13/163 [01:10<14:32,  5.82s/it]\u001b[A\n"
     ]
    },
    {
     "name": "stdout",
     "output_type": "stream",
     "text": [
      "== Status ==\n",
      "Current time: 2024-05-29 07:19:51 (running for 00:06:51.78)\n",
      "Using FIFO scheduling algorithm.\n",
      "Logical resource usage: 2.0/128 CPUs, 0/0 GPUs\n",
      "Result logdir: /tmp/ray/session_2024-05-29_06-54-58_814481_446177/artifacts/2024-05-29_07-12-59/TorchTrainer_2024-05-29_07-12-59/driver_artifacts\n",
      "Number of trials: 1/1 (1 RUNNING)\n",
      "\n",
      "\n"
     ]
    },
    {
     "name": "stderr",
     "output_type": "stream",
     "text": [
      "\u001b[36m(RayTrainWorker pid=468095)\u001b[0m \n",
      "  9%|▊         | 14/163 [01:16<14:27,  5.82s/it]\u001b[A\n"
     ]
    },
    {
     "name": "stdout",
     "output_type": "stream",
     "text": [
      "== Status ==\n",
      "Current time: 2024-05-29 07:19:56 (running for 00:06:56.80)\n",
      "Using FIFO scheduling algorithm.\n",
      "Logical resource usage: 2.0/128 CPUs, 0/0 GPUs\n",
      "Result logdir: /tmp/ray/session_2024-05-29_06-54-58_814481_446177/artifacts/2024-05-29_07-12-59/TorchTrainer_2024-05-29_07-12-59/driver_artifacts\n",
      "Number of trials: 1/1 (1 RUNNING)\n",
      "\n",
      "\n",
      "== Status ==\n",
      "Current time: 2024-05-29 07:20:01 (running for 00:07:01.82)\n",
      "Using FIFO scheduling algorithm.\n",
      "Logical resource usage: 2.0/128 CPUs, 0/0 GPUs\n",
      "Result logdir: /tmp/ray/session_2024-05-29_06-54-58_814481_446177/artifacts/2024-05-29_07-12-59/TorchTrainer_2024-05-29_07-12-59/driver_artifacts\n",
      "Number of trials: 1/1 (1 RUNNING)\n",
      "\n",
      "\n"
     ]
    },
    {
     "name": "stderr",
     "output_type": "stream",
     "text": [
      "\u001b[36m(RayTrainWorker pid=468095)\u001b[0m \n",
      "  9%|▉         | 15/163 [01:21<14:20,  5.82s/it]\u001b[A\n"
     ]
    },
    {
     "name": "stdout",
     "output_type": "stream",
     "text": [
      "== Status ==\n",
      "Current time: 2024-05-29 07:20:06 (running for 00:07:06.84)\n",
      "Using FIFO scheduling algorithm.\n",
      "Logical resource usage: 2.0/128 CPUs, 0/0 GPUs\n",
      "Result logdir: /tmp/ray/session_2024-05-29_06-54-58_814481_446177/artifacts/2024-05-29_07-12-59/TorchTrainer_2024-05-29_07-12-59/driver_artifacts\n",
      "Number of trials: 1/1 (1 RUNNING)\n",
      "\n",
      "\n"
     ]
    },
    {
     "name": "stderr",
     "output_type": "stream",
     "text": [
      "\u001b[36m(RayTrainWorker pid=468095)\u001b[0m \n",
      " 10%|▉         | 16/163 [01:27<14:21,  5.86s/it]\u001b[A\n"
     ]
    },
    {
     "name": "stdout",
     "output_type": "stream",
     "text": [
      "== Status ==\n",
      "Current time: 2024-05-29 07:20:11 (running for 00:07:11.86)\n",
      "Using FIFO scheduling algorithm.\n",
      "Logical resource usage: 2.0/128 CPUs, 0/0 GPUs\n",
      "Result logdir: /tmp/ray/session_2024-05-29_06-54-58_814481_446177/artifacts/2024-05-29_07-12-59/TorchTrainer_2024-05-29_07-12-59/driver_artifacts\n",
      "Number of trials: 1/1 (1 RUNNING)\n",
      "\n",
      "\n"
     ]
    },
    {
     "name": "stderr",
     "output_type": "stream",
     "text": [
      "\u001b[36m(RayTrainWorker pid=468095)\u001b[0m \n",
      " 10%|█         | 17/163 [01:33<14:11,  5.83s/it]\u001b[A\n"
     ]
    },
    {
     "name": "stdout",
     "output_type": "stream",
     "text": [
      "== Status ==\n",
      "Current time: 2024-05-29 07:20:16 (running for 00:07:16.88)\n",
      "Using FIFO scheduling algorithm.\n",
      "Logical resource usage: 2.0/128 CPUs, 0/0 GPUs\n",
      "Result logdir: /tmp/ray/session_2024-05-29_06-54-58_814481_446177/artifacts/2024-05-29_07-12-59/TorchTrainer_2024-05-29_07-12-59/driver_artifacts\n",
      "Number of trials: 1/1 (1 RUNNING)\n",
      "\n",
      "\n"
     ]
    },
    {
     "name": "stderr",
     "output_type": "stream",
     "text": [
      "\u001b[36m(RayTrainWorker pid=468095)\u001b[0m \n",
      " 11%|█         | 18/163 [01:39<14:04,  5.83s/it]\u001b[A\n"
     ]
    },
    {
     "name": "stdout",
     "output_type": "stream",
     "text": [
      "== Status ==\n",
      "Current time: 2024-05-29 07:20:21 (running for 00:07:21.90)\n",
      "Using FIFO scheduling algorithm.\n",
      "Logical resource usage: 2.0/128 CPUs, 0/0 GPUs\n",
      "Result logdir: /tmp/ray/session_2024-05-29_06-54-58_814481_446177/artifacts/2024-05-29_07-12-59/TorchTrainer_2024-05-29_07-12-59/driver_artifacts\n",
      "Number of trials: 1/1 (1 RUNNING)\n",
      "\n",
      "\n"
     ]
    },
    {
     "name": "stderr",
     "output_type": "stream",
     "text": [
      "\u001b[36m(RayTrainWorker pid=468095)\u001b[0m \n",
      " 12%|█▏        | 19/163 [01:45<14:06,  5.88s/it]\u001b[A\n"
     ]
    },
    {
     "name": "stdout",
     "output_type": "stream",
     "text": [
      "== Status ==\n",
      "Current time: 2024-05-29 07:20:26 (running for 00:07:26.92)\n",
      "Using FIFO scheduling algorithm.\n",
      "Logical resource usage: 2.0/128 CPUs, 0/0 GPUs\n",
      "Result logdir: /tmp/ray/session_2024-05-29_06-54-58_814481_446177/artifacts/2024-05-29_07-12-59/TorchTrainer_2024-05-29_07-12-59/driver_artifacts\n",
      "Number of trials: 1/1 (1 RUNNING)\n",
      "\n",
      "\n",
      "== Status ==\n",
      "Current time: 2024-05-29 07:20:31 (running for 00:07:31.94)\n",
      "Using FIFO scheduling algorithm.\n",
      "Logical resource usage: 2.0/128 CPUs, 0/0 GPUs\n",
      "Result logdir: /tmp/ray/session_2024-05-29_06-54-58_814481_446177/artifacts/2024-05-29_07-12-59/TorchTrainer_2024-05-29_07-12-59/driver_artifacts\n",
      "Number of trials: 1/1 (1 RUNNING)\n",
      "\n",
      "\n"
     ]
    },
    {
     "name": "stderr",
     "output_type": "stream",
     "text": [
      "\u001b[36m(RayTrainWorker pid=468095)\u001b[0m \n",
      " 12%|█▏        | 20/163 [01:51<14:01,  5.89s/it]\u001b[A\n"
     ]
    },
    {
     "name": "stdout",
     "output_type": "stream",
     "text": [
      "== Status ==\n",
      "Current time: 2024-05-29 07:20:36 (running for 00:07:36.96)\n",
      "Using FIFO scheduling algorithm.\n",
      "Logical resource usage: 2.0/128 CPUs, 0/0 GPUs\n",
      "Result logdir: /tmp/ray/session_2024-05-29_06-54-58_814481_446177/artifacts/2024-05-29_07-12-59/TorchTrainer_2024-05-29_07-12-59/driver_artifacts\n",
      "Number of trials: 1/1 (1 RUNNING)\n",
      "\n",
      "\n"
     ]
    },
    {
     "name": "stderr",
     "output_type": "stream",
     "text": [
      "\u001b[36m(RayTrainWorker pid=468095)\u001b[0m \n",
      " 13%|█▎        | 21/163 [01:57<13:50,  5.85s/it]\u001b[A\n"
     ]
    },
    {
     "name": "stdout",
     "output_type": "stream",
     "text": [
      "== Status ==\n",
      "Current time: 2024-05-29 07:20:41 (running for 00:07:41.98)\n",
      "Using FIFO scheduling algorithm.\n",
      "Logical resource usage: 2.0/128 CPUs, 0/0 GPUs\n",
      "Result logdir: /tmp/ray/session_2024-05-29_06-54-58_814481_446177/artifacts/2024-05-29_07-12-59/TorchTrainer_2024-05-29_07-12-59/driver_artifacts\n",
      "Number of trials: 1/1 (1 RUNNING)\n",
      "\n",
      "\n"
     ]
    },
    {
     "name": "stderr",
     "output_type": "stream",
     "text": [
      "\u001b[36m(RayTrainWorker pid=468095)\u001b[0m \n",
      " 13%|█▎        | 22/163 [02:02<13:43,  5.84s/it]\u001b[A\n"
     ]
    },
    {
     "name": "stdout",
     "output_type": "stream",
     "text": [
      "== Status ==\n",
      "Current time: 2024-05-29 07:20:46 (running for 00:07:47.00)\n",
      "Using FIFO scheduling algorithm.\n",
      "Logical resource usage: 2.0/128 CPUs, 0/0 GPUs\n",
      "Result logdir: /tmp/ray/session_2024-05-29_06-54-58_814481_446177/artifacts/2024-05-29_07-12-59/TorchTrainer_2024-05-29_07-12-59/driver_artifacts\n",
      "Number of trials: 1/1 (1 RUNNING)\n",
      "\n",
      "\n"
     ]
    },
    {
     "name": "stderr",
     "output_type": "stream",
     "text": [
      "\u001b[36m(RayTrainWorker pid=468095)\u001b[0m \n",
      " 14%|█▍        | 23/163 [02:08<13:36,  5.83s/it]\u001b[A\n"
     ]
    },
    {
     "name": "stdout",
     "output_type": "stream",
     "text": [
      "== Status ==\n",
      "Current time: 2024-05-29 07:20:51 (running for 00:07:52.03)\n",
      "Using FIFO scheduling algorithm.\n",
      "Logical resource usage: 2.0/128 CPUs, 0/0 GPUs\n",
      "Result logdir: /tmp/ray/session_2024-05-29_06-54-58_814481_446177/artifacts/2024-05-29_07-12-59/TorchTrainer_2024-05-29_07-12-59/driver_artifacts\n",
      "Number of trials: 1/1 (1 RUNNING)\n",
      "\n",
      "\n"
     ]
    },
    {
     "name": "stderr",
     "output_type": "stream",
     "text": [
      "\u001b[36m(RayTrainWorker pid=468095)\u001b[0m \n",
      " 15%|█▍        | 24/163 [02:14<13:33,  5.85s/it]\u001b[A\n"
     ]
    },
    {
     "name": "stdout",
     "output_type": "stream",
     "text": [
      "== Status ==\n",
      "Current time: 2024-05-29 07:20:56 (running for 00:07:57.05)\n",
      "Using FIFO scheduling algorithm.\n",
      "Logical resource usage: 2.0/128 CPUs, 0/0 GPUs\n",
      "Result logdir: /tmp/ray/session_2024-05-29_06-54-58_814481_446177/artifacts/2024-05-29_07-12-59/TorchTrainer_2024-05-29_07-12-59/driver_artifacts\n",
      "Number of trials: 1/1 (1 RUNNING)\n",
      "\n",
      "\n"
     ]
    },
    {
     "name": "stderr",
     "output_type": "stream",
     "text": [
      "\u001b[36m(RayTrainWorker pid=468095)\u001b[0m \n",
      " 15%|█▌        | 25/163 [02:20<13:31,  5.88s/it]\u001b[A\n"
     ]
    },
    {
     "name": "stdout",
     "output_type": "stream",
     "text": [
      "== Status ==\n",
      "Current time: 2024-05-29 07:21:01 (running for 00:08:02.07)\n",
      "Using FIFO scheduling algorithm.\n",
      "Logical resource usage: 2.0/128 CPUs, 0/0 GPUs\n",
      "Result logdir: /tmp/ray/session_2024-05-29_06-54-58_814481_446177/artifacts/2024-05-29_07-12-59/TorchTrainer_2024-05-29_07-12-59/driver_artifacts\n",
      "Number of trials: 1/1 (1 RUNNING)\n",
      "\n",
      "\n",
      "== Status ==\n",
      "Current time: 2024-05-29 07:21:06 (running for 00:08:07.09)\n",
      "Using FIFO scheduling algorithm.\n",
      "Logical resource usage: 2.0/128 CPUs, 0/0 GPUs\n",
      "Result logdir: /tmp/ray/session_2024-05-29_06-54-58_814481_446177/artifacts/2024-05-29_07-12-59/TorchTrainer_2024-05-29_07-12-59/driver_artifacts\n",
      "Number of trials: 1/1 (1 RUNNING)\n",
      "\n",
      "\n"
     ]
    },
    {
     "name": "stderr",
     "output_type": "stream",
     "text": [
      "\u001b[36m(RayTrainWorker pid=468095)\u001b[0m \n",
      " 16%|█▌        | 26/163 [02:26<13:22,  5.86s/it]\u001b[A\n"
     ]
    },
    {
     "name": "stdout",
     "output_type": "stream",
     "text": [
      "== Status ==\n",
      "Current time: 2024-05-29 07:21:11 (running for 00:08:12.11)\n",
      "Using FIFO scheduling algorithm.\n",
      "Logical resource usage: 2.0/128 CPUs, 0/0 GPUs\n",
      "Result logdir: /tmp/ray/session_2024-05-29_06-54-58_814481_446177/artifacts/2024-05-29_07-12-59/TorchTrainer_2024-05-29_07-12-59/driver_artifacts\n",
      "Number of trials: 1/1 (1 RUNNING)\n",
      "\n",
      "\n"
     ]
    },
    {
     "name": "stderr",
     "output_type": "stream",
     "text": [
      "\u001b[36m(RayTrainWorker pid=468095)\u001b[0m \n",
      " 17%|█▋        | 27/163 [02:32<13:10,  5.81s/it]\u001b[A\n"
     ]
    },
    {
     "name": "stdout",
     "output_type": "stream",
     "text": [
      "== Status ==\n",
      "Current time: 2024-05-29 07:21:16 (running for 00:08:17.13)\n",
      "Using FIFO scheduling algorithm.\n",
      "Logical resource usage: 2.0/128 CPUs, 0/0 GPUs\n",
      "Result logdir: /tmp/ray/session_2024-05-29_06-54-58_814481_446177/artifacts/2024-05-29_07-12-59/TorchTrainer_2024-05-29_07-12-59/driver_artifacts\n",
      "Number of trials: 1/1 (1 RUNNING)\n",
      "\n",
      "\n"
     ]
    },
    {
     "name": "stderr",
     "output_type": "stream",
     "text": [
      "\u001b[36m(RayTrainWorker pid=468095)\u001b[0m \n",
      " 17%|█▋        | 28/163 [02:37<13:03,  5.80s/it]\u001b[A\n"
     ]
    },
    {
     "name": "stdout",
     "output_type": "stream",
     "text": [
      "== Status ==\n",
      "Current time: 2024-05-29 07:21:21 (running for 00:08:22.15)\n",
      "Using FIFO scheduling algorithm.\n",
      "Logical resource usage: 2.0/128 CPUs, 0/0 GPUs\n",
      "Result logdir: /tmp/ray/session_2024-05-29_06-54-58_814481_446177/artifacts/2024-05-29_07-12-59/TorchTrainer_2024-05-29_07-12-59/driver_artifacts\n",
      "Number of trials: 1/1 (1 RUNNING)\n",
      "\n",
      "\n"
     ]
    },
    {
     "name": "stderr",
     "output_type": "stream",
     "text": [
      "\u001b[36m(RayTrainWorker pid=468095)\u001b[0m \n",
      " 18%|█▊        | 29/163 [02:43<12:58,  5.81s/it]\u001b[A\n"
     ]
    },
    {
     "name": "stdout",
     "output_type": "stream",
     "text": [
      "== Status ==\n",
      "Current time: 2024-05-29 07:21:26 (running for 00:08:27.17)\n",
      "Using FIFO scheduling algorithm.\n",
      "Logical resource usage: 2.0/128 CPUs, 0/0 GPUs\n",
      "Result logdir: /tmp/ray/session_2024-05-29_06-54-58_814481_446177/artifacts/2024-05-29_07-12-59/TorchTrainer_2024-05-29_07-12-59/driver_artifacts\n",
      "Number of trials: 1/1 (1 RUNNING)\n",
      "\n",
      "\n"
     ]
    },
    {
     "name": "stderr",
     "output_type": "stream",
     "text": [
      "\u001b[36m(RayTrainWorker pid=468095)\u001b[0m \n",
      " 18%|█▊        | 30/163 [02:49<12:48,  5.78s/it]\u001b[A\n"
     ]
    },
    {
     "name": "stdout",
     "output_type": "stream",
     "text": [
      "== Status ==\n",
      "Current time: 2024-05-29 07:21:31 (running for 00:08:32.19)\n",
      "Using FIFO scheduling algorithm.\n",
      "Logical resource usage: 2.0/128 CPUs, 0/0 GPUs\n",
      "Result logdir: /tmp/ray/session_2024-05-29_06-54-58_814481_446177/artifacts/2024-05-29_07-12-59/TorchTrainer_2024-05-29_07-12-59/driver_artifacts\n",
      "Number of trials: 1/1 (1 RUNNING)\n",
      "\n",
      "\n"
     ]
    },
    {
     "name": "stderr",
     "output_type": "stream",
     "text": [
      "\u001b[36m(RayTrainWorker pid=468095)\u001b[0m \n",
      " 19%|█▉        | 31/163 [02:55<12:40,  5.76s/it]\u001b[A\n"
     ]
    },
    {
     "name": "stdout",
     "output_type": "stream",
     "text": [
      "== Status ==\n",
      "Current time: 2024-05-29 07:21:36 (running for 00:08:37.20)\n",
      "Using FIFO scheduling algorithm.\n",
      "Logical resource usage: 2.0/128 CPUs, 0/0 GPUs\n",
      "Result logdir: /tmp/ray/session_2024-05-29_06-54-58_814481_446177/artifacts/2024-05-29_07-12-59/TorchTrainer_2024-05-29_07-12-59/driver_artifacts\n",
      "Number of trials: 1/1 (1 RUNNING)\n",
      "\n",
      "\n"
     ]
    },
    {
     "name": "stderr",
     "output_type": "stream",
     "text": [
      "\u001b[36m(RayTrainWorker pid=468095)\u001b[0m \n",
      " 20%|█▉        | 32/163 [03:00<12:34,  5.76s/it]\u001b[A\n"
     ]
    },
    {
     "name": "stdout",
     "output_type": "stream",
     "text": [
      "== Status ==\n",
      "Current time: 2024-05-29 07:21:41 (running for 00:08:42.23)\n",
      "Using FIFO scheduling algorithm.\n",
      "Logical resource usage: 2.0/128 CPUs, 0/0 GPUs\n",
      "Result logdir: /tmp/ray/session_2024-05-29_06-54-58_814481_446177/artifacts/2024-05-29_07-12-59/TorchTrainer_2024-05-29_07-12-59/driver_artifacts\n",
      "Number of trials: 1/1 (1 RUNNING)\n",
      "\n",
      "\n"
     ]
    },
    {
     "name": "stderr",
     "output_type": "stream",
     "text": [
      "\u001b[36m(RayTrainWorker pid=468095)\u001b[0m \n",
      " 20%|██        | 33/163 [03:06<12:25,  5.74s/it]\u001b[A\n"
     ]
    },
    {
     "name": "stdout",
     "output_type": "stream",
     "text": [
      "== Status ==\n",
      "Current time: 2024-05-29 07:21:46 (running for 00:08:47.24)\n",
      "Using FIFO scheduling algorithm.\n",
      "Logical resource usage: 2.0/128 CPUs, 0/0 GPUs\n",
      "Result logdir: /tmp/ray/session_2024-05-29_06-54-58_814481_446177/artifacts/2024-05-29_07-12-59/TorchTrainer_2024-05-29_07-12-59/driver_artifacts\n",
      "Number of trials: 1/1 (1 RUNNING)\n",
      "\n",
      "\n",
      "== Status ==\n",
      "Current time: 2024-05-29 07:21:51 (running for 00:08:52.26)\n",
      "Using FIFO scheduling algorithm.\n",
      "Logical resource usage: 2.0/128 CPUs, 0/0 GPUs\n",
      "Result logdir: /tmp/ray/session_2024-05-29_06-54-58_814481_446177/artifacts/2024-05-29_07-12-59/TorchTrainer_2024-05-29_07-12-59/driver_artifacts\n",
      "Number of trials: 1/1 (1 RUNNING)\n",
      "\n",
      "\n"
     ]
    },
    {
     "name": "stderr",
     "output_type": "stream",
     "text": [
      "\u001b[36m(RayTrainWorker pid=468095)\u001b[0m \n",
      " 21%|██        | 34/163 [03:12<12:21,  5.75s/it]\u001b[A\n"
     ]
    },
    {
     "name": "stdout",
     "output_type": "stream",
     "text": [
      "== Status ==\n",
      "Current time: 2024-05-29 07:21:56 (running for 00:08:57.28)\n",
      "Using FIFO scheduling algorithm.\n",
      "Logical resource usage: 2.0/128 CPUs, 0/0 GPUs\n",
      "Result logdir: /tmp/ray/session_2024-05-29_06-54-58_814481_446177/artifacts/2024-05-29_07-12-59/TorchTrainer_2024-05-29_07-12-59/driver_artifacts\n",
      "Number of trials: 1/1 (1 RUNNING)\n",
      "\n",
      "\n"
     ]
    },
    {
     "name": "stderr",
     "output_type": "stream",
     "text": [
      "\u001b[36m(RayTrainWorker pid=468095)\u001b[0m \n",
      " 21%|██▏       | 35/163 [03:18<12:13,  5.73s/it]\u001b[A\n"
     ]
    },
    {
     "name": "stdout",
     "output_type": "stream",
     "text": [
      "== Status ==\n",
      "Current time: 2024-05-29 07:22:01 (running for 00:09:02.30)\n",
      "Using FIFO scheduling algorithm.\n",
      "Logical resource usage: 2.0/128 CPUs, 0/0 GPUs\n",
      "Result logdir: /tmp/ray/session_2024-05-29_06-54-58_814481_446177/artifacts/2024-05-29_07-12-59/TorchTrainer_2024-05-29_07-12-59/driver_artifacts\n",
      "Number of trials: 1/1 (1 RUNNING)\n",
      "\n",
      "\n"
     ]
    },
    {
     "name": "stderr",
     "output_type": "stream",
     "text": [
      "\u001b[36m(RayTrainWorker pid=468095)\u001b[0m \n",
      " 22%|██▏       | 36/163 [03:23<12:06,  5.72s/it]\u001b[A\n"
     ]
    },
    {
     "name": "stdout",
     "output_type": "stream",
     "text": [
      "== Status ==\n",
      "Current time: 2024-05-29 07:22:06 (running for 00:09:07.33)\n",
      "Using FIFO scheduling algorithm.\n",
      "Logical resource usage: 2.0/128 CPUs, 0/0 GPUs\n",
      "Result logdir: /tmp/ray/session_2024-05-29_06-54-58_814481_446177/artifacts/2024-05-29_07-12-59/TorchTrainer_2024-05-29_07-12-59/driver_artifacts\n",
      "Number of trials: 1/1 (1 RUNNING)\n",
      "\n",
      "\n"
     ]
    },
    {
     "name": "stderr",
     "output_type": "stream",
     "text": [
      "\u001b[36m(RayTrainWorker pid=468095)\u001b[0m \n",
      " 23%|██▎       | 37/163 [03:29<12:02,  5.74s/it]\u001b[A\n"
     ]
    },
    {
     "name": "stdout",
     "output_type": "stream",
     "text": [
      "== Status ==\n",
      "Current time: 2024-05-29 07:22:11 (running for 00:09:12.35)\n",
      "Using FIFO scheduling algorithm.\n",
      "Logical resource usage: 2.0/128 CPUs, 0/0 GPUs\n",
      "Result logdir: /tmp/ray/session_2024-05-29_06-54-58_814481_446177/artifacts/2024-05-29_07-12-59/TorchTrainer_2024-05-29_07-12-59/driver_artifacts\n",
      "Number of trials: 1/1 (1 RUNNING)\n",
      "\n",
      "\n"
     ]
    },
    {
     "name": "stderr",
     "output_type": "stream",
     "text": [
      "\u001b[36m(RayTrainWorker pid=468095)\u001b[0m \n",
      " 23%|██▎       | 38/163 [03:35<11:55,  5.72s/it]\u001b[A\n"
     ]
    },
    {
     "name": "stdout",
     "output_type": "stream",
     "text": [
      "== Status ==\n",
      "Current time: 2024-05-29 07:22:16 (running for 00:09:17.37)\n",
      "Using FIFO scheduling algorithm.\n",
      "Logical resource usage: 2.0/128 CPUs, 0/0 GPUs\n",
      "Result logdir: /tmp/ray/session_2024-05-29_06-54-58_814481_446177/artifacts/2024-05-29_07-12-59/TorchTrainer_2024-05-29_07-12-59/driver_artifacts\n",
      "Number of trials: 1/1 (1 RUNNING)\n",
      "\n",
      "\n"
     ]
    },
    {
     "name": "stderr",
     "output_type": "stream",
     "text": [
      "\u001b[36m(RayTrainWorker pid=468095)\u001b[0m \n",
      " 24%|██▍       | 39/163 [03:40<11:50,  5.73s/it]\u001b[A\n"
     ]
    },
    {
     "name": "stdout",
     "output_type": "stream",
     "text": [
      "== Status ==\n",
      "Current time: 2024-05-29 07:22:21 (running for 00:09:22.39)\n",
      "Using FIFO scheduling algorithm.\n",
      "Logical resource usage: 2.0/128 CPUs, 0/0 GPUs\n",
      "Result logdir: /tmp/ray/session_2024-05-29_06-54-58_814481_446177/artifacts/2024-05-29_07-12-59/TorchTrainer_2024-05-29_07-12-59/driver_artifacts\n",
      "Number of trials: 1/1 (1 RUNNING)\n",
      "\n",
      "\n",
      "== Status ==\n",
      "Current time: 2024-05-29 07:22:26 (running for 00:09:27.41)\n",
      "Using FIFO scheduling algorithm.\n",
      "Logical resource usage: 2.0/128 CPUs, 0/0 GPUs\n",
      "Result logdir: /tmp/ray/session_2024-05-29_06-54-58_814481_446177/artifacts/2024-05-29_07-12-59/TorchTrainer_2024-05-29_07-12-59/driver_artifacts\n",
      "Number of trials: 1/1 (1 RUNNING)\n",
      "\n",
      "\n"
     ]
    },
    {
     "name": "stderr",
     "output_type": "stream",
     "text": [
      "\u001b[36m(RayTrainWorker pid=468095)\u001b[0m \n",
      " 25%|██▍       | 40/163 [03:46<11:48,  5.76s/it]\u001b[A\n"
     ]
    },
    {
     "name": "stdout",
     "output_type": "stream",
     "text": [
      "== Status ==\n",
      "Current time: 2024-05-29 07:22:32 (running for 00:09:32.43)\n",
      "Using FIFO scheduling algorithm.\n",
      "Logical resource usage: 2.0/128 CPUs, 0/0 GPUs\n",
      "Result logdir: /tmp/ray/session_2024-05-29_06-54-58_814481_446177/artifacts/2024-05-29_07-12-59/TorchTrainer_2024-05-29_07-12-59/driver_artifacts\n",
      "Number of trials: 1/1 (1 RUNNING)\n",
      "\n",
      "\n"
     ]
    },
    {
     "name": "stderr",
     "output_type": "stream",
     "text": [
      "\u001b[36m(RayTrainWorker pid=468095)\u001b[0m \n",
      " 25%|██▌       | 41/163 [03:52<11:45,  5.79s/it]\u001b[A\n"
     ]
    },
    {
     "name": "stdout",
     "output_type": "stream",
     "text": [
      "== Status ==\n",
      "Current time: 2024-05-29 07:22:37 (running for 00:09:37.45)\n",
      "Using FIFO scheduling algorithm.\n",
      "Logical resource usage: 2.0/128 CPUs, 0/0 GPUs\n",
      "Result logdir: /tmp/ray/session_2024-05-29_06-54-58_814481_446177/artifacts/2024-05-29_07-12-59/TorchTrainer_2024-05-29_07-12-59/driver_artifacts\n",
      "Number of trials: 1/1 (1 RUNNING)\n",
      "\n",
      "\n"
     ]
    },
    {
     "name": "stderr",
     "output_type": "stream",
     "text": [
      "\u001b[36m(RayTrainWorker pid=468095)\u001b[0m \n",
      " 26%|██▌       | 42/163 [03:58<11:40,  5.79s/it]\u001b[A\n"
     ]
    },
    {
     "name": "stdout",
     "output_type": "stream",
     "text": [
      "== Status ==\n",
      "Current time: 2024-05-29 07:22:42 (running for 00:09:42.47)\n",
      "Using FIFO scheduling algorithm.\n",
      "Logical resource usage: 2.0/128 CPUs, 0/0 GPUs\n",
      "Result logdir: /tmp/ray/session_2024-05-29_06-54-58_814481_446177/artifacts/2024-05-29_07-12-59/TorchTrainer_2024-05-29_07-12-59/driver_artifacts\n",
      "Number of trials: 1/1 (1 RUNNING)\n",
      "\n",
      "\n"
     ]
    },
    {
     "name": "stderr",
     "output_type": "stream",
     "text": [
      "\u001b[36m(RayTrainWorker pid=468095)\u001b[0m \n",
      " 26%|██▋       | 43/163 [04:04<11:40,  5.84s/it]\u001b[A\n"
     ]
    },
    {
     "name": "stdout",
     "output_type": "stream",
     "text": [
      "== Status ==\n",
      "Current time: 2024-05-29 07:22:47 (running for 00:09:47.49)\n",
      "Using FIFO scheduling algorithm.\n",
      "Logical resource usage: 2.0/128 CPUs, 0/0 GPUs\n",
      "Result logdir: /tmp/ray/session_2024-05-29_06-54-58_814481_446177/artifacts/2024-05-29_07-12-59/TorchTrainer_2024-05-29_07-12-59/driver_artifacts\n",
      "Number of trials: 1/1 (1 RUNNING)\n",
      "\n",
      "\n"
     ]
    },
    {
     "name": "stderr",
     "output_type": "stream",
     "text": [
      "\u001b[36m(RayTrainWorker pid=468095)\u001b[0m \n",
      " 27%|██▋       | 44/163 [04:10<11:38,  5.87s/it]\u001b[A\n"
     ]
    },
    {
     "name": "stdout",
     "output_type": "stream",
     "text": [
      "== Status ==\n",
      "Current time: 2024-05-29 07:22:52 (running for 00:09:52.51)\n",
      "Using FIFO scheduling algorithm.\n",
      "Logical resource usage: 2.0/128 CPUs, 0/0 GPUs\n",
      "Result logdir: /tmp/ray/session_2024-05-29_06-54-58_814481_446177/artifacts/2024-05-29_07-12-59/TorchTrainer_2024-05-29_07-12-59/driver_artifacts\n",
      "Number of trials: 1/1 (1 RUNNING)\n",
      "\n",
      "\n"
     ]
    },
    {
     "name": "stderr",
     "output_type": "stream",
     "text": [
      "\u001b[36m(RayTrainWorker pid=468095)\u001b[0m \n",
      " 28%|██▊       | 45/163 [04:16<11:29,  5.84s/it]\u001b[A\n"
     ]
    },
    {
     "name": "stdout",
     "output_type": "stream",
     "text": [
      "== Status ==\n",
      "Current time: 2024-05-29 07:22:57 (running for 00:09:57.53)\n",
      "Using FIFO scheduling algorithm.\n",
      "Logical resource usage: 2.0/128 CPUs, 0/0 GPUs\n",
      "Result logdir: /tmp/ray/session_2024-05-29_06-54-58_814481_446177/artifacts/2024-05-29_07-12-59/TorchTrainer_2024-05-29_07-12-59/driver_artifacts\n",
      "Number of trials: 1/1 (1 RUNNING)\n",
      "\n",
      "\n",
      "== Status ==\n",
      "Current time: 2024-05-29 07:23:02 (running for 00:10:02.55)\n",
      "Using FIFO scheduling algorithm.\n",
      "Logical resource usage: 2.0/128 CPUs, 0/0 GPUs\n",
      "Result logdir: /tmp/ray/session_2024-05-29_06-54-58_814481_446177/artifacts/2024-05-29_07-12-59/TorchTrainer_2024-05-29_07-12-59/driver_artifacts\n",
      "Number of trials: 1/1 (1 RUNNING)\n",
      "\n",
      "\n"
     ]
    },
    {
     "name": "stderr",
     "output_type": "stream",
     "text": [
      "\u001b[36m(RayTrainWorker pid=468095)\u001b[0m \n",
      " 28%|██▊       | 46/163 [04:21<11:20,  5.82s/it]\u001b[A\n"
     ]
    },
    {
     "name": "stdout",
     "output_type": "stream",
     "text": [
      "== Status ==\n",
      "Current time: 2024-05-29 07:23:07 (running for 00:10:07.57)\n",
      "Using FIFO scheduling algorithm.\n",
      "Logical resource usage: 2.0/128 CPUs, 0/0 GPUs\n",
      "Result logdir: /tmp/ray/session_2024-05-29_06-54-58_814481_446177/artifacts/2024-05-29_07-12-59/TorchTrainer_2024-05-29_07-12-59/driver_artifacts\n",
      "Number of trials: 1/1 (1 RUNNING)\n",
      "\n",
      "\n"
     ]
    },
    {
     "name": "stderr",
     "output_type": "stream",
     "text": [
      "\u001b[36m(RayTrainWorker pid=468095)\u001b[0m \n",
      " 29%|██▉       | 47/163 [04:27<11:12,  5.80s/it]\u001b[A\n"
     ]
    },
    {
     "name": "stdout",
     "output_type": "stream",
     "text": [
      "== Status ==\n",
      "Current time: 2024-05-29 07:23:12 (running for 00:10:12.59)\n",
      "Using FIFO scheduling algorithm.\n",
      "Logical resource usage: 2.0/128 CPUs, 0/0 GPUs\n",
      "Result logdir: /tmp/ray/session_2024-05-29_06-54-58_814481_446177/artifacts/2024-05-29_07-12-59/TorchTrainer_2024-05-29_07-12-59/driver_artifacts\n",
      "Number of trials: 1/1 (1 RUNNING)\n",
      "\n",
      "\n"
     ]
    },
    {
     "name": "stderr",
     "output_type": "stream",
     "text": [
      "\u001b[36m(RayTrainWorker pid=468095)\u001b[0m \n",
      " 29%|██▉       | 48/163 [04:33<11:10,  5.83s/it]\u001b[A\n"
     ]
    },
    {
     "name": "stdout",
     "output_type": "stream",
     "text": [
      "== Status ==\n",
      "Current time: 2024-05-29 07:23:17 (running for 00:10:17.61)\n",
      "Using FIFO scheduling algorithm.\n",
      "Logical resource usage: 2.0/128 CPUs, 0/0 GPUs\n",
      "Result logdir: /tmp/ray/session_2024-05-29_06-54-58_814481_446177/artifacts/2024-05-29_07-12-59/TorchTrainer_2024-05-29_07-12-59/driver_artifacts\n",
      "Number of trials: 1/1 (1 RUNNING)\n",
      "\n",
      "\n"
     ]
    },
    {
     "name": "stderr",
     "output_type": "stream",
     "text": [
      "\u001b[36m(RayTrainWorker pid=468095)\u001b[0m \n",
      " 30%|███       | 49/163 [04:39<11:03,  5.82s/it]\u001b[A\n"
     ]
    },
    {
     "name": "stdout",
     "output_type": "stream",
     "text": [
      "== Status ==\n",
      "Current time: 2024-05-29 07:23:22 (running for 00:10:22.63)\n",
      "Using FIFO scheduling algorithm.\n",
      "Logical resource usage: 2.0/128 CPUs, 0/0 GPUs\n",
      "Result logdir: /tmp/ray/session_2024-05-29_06-54-58_814481_446177/artifacts/2024-05-29_07-12-59/TorchTrainer_2024-05-29_07-12-59/driver_artifacts\n",
      "Number of trials: 1/1 (1 RUNNING)\n",
      "\n",
      "\n"
     ]
    },
    {
     "name": "stderr",
     "output_type": "stream",
     "text": [
      "\u001b[36m(RayTrainWorker pid=468095)\u001b[0m \n",
      " 31%|███       | 50/163 [04:45<11:01,  5.85s/it]\u001b[A\n"
     ]
    },
    {
     "name": "stdout",
     "output_type": "stream",
     "text": [
      "== Status ==\n",
      "Current time: 2024-05-29 07:23:27 (running for 00:10:27.65)\n",
      "Using FIFO scheduling algorithm.\n",
      "Logical resource usage: 2.0/128 CPUs, 0/0 GPUs\n",
      "Result logdir: /tmp/ray/session_2024-05-29_06-54-58_814481_446177/artifacts/2024-05-29_07-12-59/TorchTrainer_2024-05-29_07-12-59/driver_artifacts\n",
      "Number of trials: 1/1 (1 RUNNING)\n",
      "\n",
      "\n"
     ]
    },
    {
     "name": "stderr",
     "output_type": "stream",
     "text": [
      "\u001b[36m(RayTrainWorker pid=468095)\u001b[0m \n",
      " 31%|███▏      | 51/163 [04:51<10:55,  5.85s/it]\u001b[A\n"
     ]
    },
    {
     "name": "stdout",
     "output_type": "stream",
     "text": [
      "== Status ==\n",
      "Current time: 2024-05-29 07:23:32 (running for 00:10:32.67)\n",
      "Using FIFO scheduling algorithm.\n",
      "Logical resource usage: 2.0/128 CPUs, 0/0 GPUs\n",
      "Result logdir: /tmp/ray/session_2024-05-29_06-54-58_814481_446177/artifacts/2024-05-29_07-12-59/TorchTrainer_2024-05-29_07-12-59/driver_artifacts\n",
      "Number of trials: 1/1 (1 RUNNING)\n",
      "\n",
      "\n"
     ]
    },
    {
     "name": "stderr",
     "output_type": "stream",
     "text": [
      "\u001b[36m(RayTrainWorker pid=468095)\u001b[0m \n",
      " 32%|███▏      | 52/163 [04:56<10:47,  5.84s/it]\u001b[A\n"
     ]
    },
    {
     "name": "stdout",
     "output_type": "stream",
     "text": [
      "== Status ==\n",
      "Current time: 2024-05-29 07:23:37 (running for 00:10:37.69)\n",
      "Using FIFO scheduling algorithm.\n",
      "Logical resource usage: 2.0/128 CPUs, 0/0 GPUs\n",
      "Result logdir: /tmp/ray/session_2024-05-29_06-54-58_814481_446177/artifacts/2024-05-29_07-12-59/TorchTrainer_2024-05-29_07-12-59/driver_artifacts\n",
      "Number of trials: 1/1 (1 RUNNING)\n",
      "\n",
      "\n",
      "== Status ==\n",
      "Current time: 2024-05-29 07:23:42 (running for 00:10:42.71)\n",
      "Using FIFO scheduling algorithm.\n",
      "Logical resource usage: 2.0/128 CPUs, 0/0 GPUs\n",
      "Result logdir: /tmp/ray/session_2024-05-29_06-54-58_814481_446177/artifacts/2024-05-29_07-12-59/TorchTrainer_2024-05-29_07-12-59/driver_artifacts\n",
      "Number of trials: 1/1 (1 RUNNING)\n",
      "\n",
      "\n"
     ]
    },
    {
     "name": "stderr",
     "output_type": "stream",
     "text": [
      "\u001b[36m(RayTrainWorker pid=468095)\u001b[0m \n",
      " 33%|███▎      | 53/163 [05:02<10:42,  5.84s/it]\u001b[A\n"
     ]
    },
    {
     "name": "stdout",
     "output_type": "stream",
     "text": [
      "== Status ==\n",
      "Current time: 2024-05-29 07:23:47 (running for 00:10:47.72)\n",
      "Using FIFO scheduling algorithm.\n",
      "Logical resource usage: 2.0/128 CPUs, 0/0 GPUs\n",
      "Result logdir: /tmp/ray/session_2024-05-29_06-54-58_814481_446177/artifacts/2024-05-29_07-12-59/TorchTrainer_2024-05-29_07-12-59/driver_artifacts\n",
      "Number of trials: 1/1 (1 RUNNING)\n",
      "\n",
      "\n"
     ]
    },
    {
     "name": "stderr",
     "output_type": "stream",
     "text": [
      "\u001b[36m(RayTrainWorker pid=468095)\u001b[0m \n",
      " 33%|███▎      | 54/163 [05:08<10:32,  5.80s/it]\u001b[A\n"
     ]
    },
    {
     "name": "stdout",
     "output_type": "stream",
     "text": [
      "== Status ==\n",
      "Current time: 2024-05-29 07:23:52 (running for 00:10:52.74)\n",
      "Using FIFO scheduling algorithm.\n",
      "Logical resource usage: 2.0/128 CPUs, 0/0 GPUs\n",
      "Result logdir: /tmp/ray/session_2024-05-29_06-54-58_814481_446177/artifacts/2024-05-29_07-12-59/TorchTrainer_2024-05-29_07-12-59/driver_artifacts\n",
      "Number of trials: 1/1 (1 RUNNING)\n",
      "\n",
      "\n"
     ]
    },
    {
     "name": "stderr",
     "output_type": "stream",
     "text": [
      "\u001b[36m(RayTrainWorker pid=468095)\u001b[0m \n",
      " 34%|███▎      | 55/163 [05:14<10:22,  5.77s/it]\u001b[A\n"
     ]
    },
    {
     "name": "stdout",
     "output_type": "stream",
     "text": [
      "== Status ==\n",
      "Current time: 2024-05-29 07:23:57 (running for 00:10:57.76)\n",
      "Using FIFO scheduling algorithm.\n",
      "Logical resource usage: 2.0/128 CPUs, 0/0 GPUs\n",
      "Result logdir: /tmp/ray/session_2024-05-29_06-54-58_814481_446177/artifacts/2024-05-29_07-12-59/TorchTrainer_2024-05-29_07-12-59/driver_artifacts\n",
      "Number of trials: 1/1 (1 RUNNING)\n",
      "\n",
      "\n"
     ]
    },
    {
     "name": "stderr",
     "output_type": "stream",
     "text": [
      "\u001b[36m(RayTrainWorker pid=468095)\u001b[0m \n",
      " 34%|███▍      | 56/163 [05:20<10:18,  5.78s/it]\u001b[A\n"
     ]
    },
    {
     "name": "stdout",
     "output_type": "stream",
     "text": [
      "== Status ==\n",
      "Current time: 2024-05-29 07:24:02 (running for 00:11:02.78)\n",
      "Using FIFO scheduling algorithm.\n",
      "Logical resource usage: 2.0/128 CPUs, 0/0 GPUs\n",
      "Result logdir: /tmp/ray/session_2024-05-29_06-54-58_814481_446177/artifacts/2024-05-29_07-12-59/TorchTrainer_2024-05-29_07-12-59/driver_artifacts\n",
      "Number of trials: 1/1 (1 RUNNING)\n",
      "\n",
      "\n"
     ]
    },
    {
     "name": "stderr",
     "output_type": "stream",
     "text": [
      "\u001b[36m(RayTrainWorker pid=468095)\u001b[0m \n",
      " 35%|███▍      | 57/163 [05:25<10:14,  5.79s/it]\u001b[A\n"
     ]
    },
    {
     "name": "stdout",
     "output_type": "stream",
     "text": [
      "== Status ==\n",
      "Current time: 2024-05-29 07:24:07 (running for 00:11:07.80)\n",
      "Using FIFO scheduling algorithm.\n",
      "Logical resource usage: 2.0/128 CPUs, 0/0 GPUs\n",
      "Result logdir: /tmp/ray/session_2024-05-29_06-54-58_814481_446177/artifacts/2024-05-29_07-12-59/TorchTrainer_2024-05-29_07-12-59/driver_artifacts\n",
      "Number of trials: 1/1 (1 RUNNING)\n",
      "\n",
      "\n"
     ]
    },
    {
     "name": "stderr",
     "output_type": "stream",
     "text": [
      "\u001b[36m(RayTrainWorker pid=468095)\u001b[0m \n",
      " 36%|███▌      | 58/163 [05:31<10:05,  5.77s/it]\u001b[A\n"
     ]
    },
    {
     "name": "stdout",
     "output_type": "stream",
     "text": [
      "== Status ==\n",
      "Current time: 2024-05-29 07:24:12 (running for 00:11:12.82)\n",
      "Using FIFO scheduling algorithm.\n",
      "Logical resource usage: 2.0/128 CPUs, 0/0 GPUs\n",
      "Result logdir: /tmp/ray/session_2024-05-29_06-54-58_814481_446177/artifacts/2024-05-29_07-12-59/TorchTrainer_2024-05-29_07-12-59/driver_artifacts\n",
      "Number of trials: 1/1 (1 RUNNING)\n",
      "\n",
      "\n",
      "== Status ==\n",
      "Current time: 2024-05-29 07:24:17 (running for 00:11:17.84)\n",
      "Using FIFO scheduling algorithm.\n",
      "Logical resource usage: 2.0/128 CPUs, 0/0 GPUs\n",
      "Result logdir: /tmp/ray/session_2024-05-29_06-54-58_814481_446177/artifacts/2024-05-29_07-12-59/TorchTrainer_2024-05-29_07-12-59/driver_artifacts\n",
      "Number of trials: 1/1 (1 RUNNING)\n",
      "\n",
      "\n"
     ]
    },
    {
     "name": "stderr",
     "output_type": "stream",
     "text": [
      "\u001b[36m(RayTrainWorker pid=468095)\u001b[0m \n",
      " 36%|███▌      | 59/163 [05:37<10:02,  5.79s/it]\u001b[A\n"
     ]
    },
    {
     "name": "stdout",
     "output_type": "stream",
     "text": [
      "== Status ==\n",
      "Current time: 2024-05-29 07:24:22 (running for 00:11:22.86)\n",
      "Using FIFO scheduling algorithm.\n",
      "Logical resource usage: 2.0/128 CPUs, 0/0 GPUs\n",
      "Result logdir: /tmp/ray/session_2024-05-29_06-54-58_814481_446177/artifacts/2024-05-29_07-12-59/TorchTrainer_2024-05-29_07-12-59/driver_artifacts\n",
      "Number of trials: 1/1 (1 RUNNING)\n",
      "\n",
      "\n"
     ]
    },
    {
     "name": "stderr",
     "output_type": "stream",
     "text": [
      "\u001b[36m(RayTrainWorker pid=468095)\u001b[0m \n",
      " 37%|███▋      | 60/163 [05:43<09:53,  5.77s/it]\u001b[A\n"
     ]
    },
    {
     "name": "stdout",
     "output_type": "stream",
     "text": [
      "== Status ==\n",
      "Current time: 2024-05-29 07:24:27 (running for 00:11:27.88)\n",
      "Using FIFO scheduling algorithm.\n",
      "Logical resource usage: 2.0/128 CPUs, 0/0 GPUs\n",
      "Result logdir: /tmp/ray/session_2024-05-29_06-54-58_814481_446177/artifacts/2024-05-29_07-12-59/TorchTrainer_2024-05-29_07-12-59/driver_artifacts\n",
      "Number of trials: 1/1 (1 RUNNING)\n",
      "\n",
      "\n"
     ]
    },
    {
     "name": "stderr",
     "output_type": "stream",
     "text": [
      "\u001b[36m(RayTrainWorker pid=468095)\u001b[0m \n",
      " 37%|███▋      | 61/163 [05:48<09:47,  5.76s/it]\u001b[A\n"
     ]
    },
    {
     "name": "stdout",
     "output_type": "stream",
     "text": [
      "== Status ==\n",
      "Current time: 2024-05-29 07:24:32 (running for 00:11:32.90)\n",
      "Using FIFO scheduling algorithm.\n",
      "Logical resource usage: 2.0/128 CPUs, 0/0 GPUs\n",
      "Result logdir: /tmp/ray/session_2024-05-29_06-54-58_814481_446177/artifacts/2024-05-29_07-12-59/TorchTrainer_2024-05-29_07-12-59/driver_artifacts\n",
      "Number of trials: 1/1 (1 RUNNING)\n",
      "\n",
      "\n"
     ]
    },
    {
     "name": "stderr",
     "output_type": "stream",
     "text": [
      "\u001b[36m(RayTrainWorker pid=468095)\u001b[0m \n",
      " 38%|███▊      | 62/163 [05:54<09:45,  5.79s/it]\u001b[A\n"
     ]
    },
    {
     "name": "stdout",
     "output_type": "stream",
     "text": [
      "== Status ==\n",
      "Current time: 2024-05-29 07:24:37 (running for 00:11:37.92)\n",
      "Using FIFO scheduling algorithm.\n",
      "Logical resource usage: 2.0/128 CPUs, 0/0 GPUs\n",
      "Result logdir: /tmp/ray/session_2024-05-29_06-54-58_814481_446177/artifacts/2024-05-29_07-12-59/TorchTrainer_2024-05-29_07-12-59/driver_artifacts\n",
      "Number of trials: 1/1 (1 RUNNING)\n",
      "\n",
      "\n"
     ]
    },
    {
     "name": "stderr",
     "output_type": "stream",
     "text": [
      "\u001b[36m(RayTrainWorker pid=468095)\u001b[0m \n",
      " 39%|███▊      | 63/163 [06:00<09:37,  5.78s/it]\u001b[A\n"
     ]
    },
    {
     "name": "stdout",
     "output_type": "stream",
     "text": [
      "== Status ==\n",
      "Current time: 2024-05-29 07:24:42 (running for 00:11:42.94)\n",
      "Using FIFO scheduling algorithm.\n",
      "Logical resource usage: 2.0/128 CPUs, 0/0 GPUs\n",
      "Result logdir: /tmp/ray/session_2024-05-29_06-54-58_814481_446177/artifacts/2024-05-29_07-12-59/TorchTrainer_2024-05-29_07-12-59/driver_artifacts\n",
      "Number of trials: 1/1 (1 RUNNING)\n",
      "\n",
      "\n"
     ]
    },
    {
     "name": "stderr",
     "output_type": "stream",
     "text": [
      "\u001b[36m(RayTrainWorker pid=468095)\u001b[0m \n",
      " 39%|███▉      | 64/163 [06:06<09:29,  5.75s/it]\u001b[A\n"
     ]
    },
    {
     "name": "stdout",
     "output_type": "stream",
     "text": [
      "== Status ==\n",
      "Current time: 2024-05-29 07:24:47 (running for 00:11:47.96)\n",
      "Using FIFO scheduling algorithm.\n",
      "Logical resource usage: 2.0/128 CPUs, 0/0 GPUs\n",
      "Result logdir: /tmp/ray/session_2024-05-29_06-54-58_814481_446177/artifacts/2024-05-29_07-12-59/TorchTrainer_2024-05-29_07-12-59/driver_artifacts\n",
      "Number of trials: 1/1 (1 RUNNING)\n",
      "\n",
      "\n"
     ]
    },
    {
     "name": "stderr",
     "output_type": "stream",
     "text": [
      "\u001b[36m(RayTrainWorker pid=468095)\u001b[0m \n",
      " 40%|███▉      | 65/163 [06:11<09:23,  5.75s/it]\u001b[A\n"
     ]
    },
    {
     "name": "stdout",
     "output_type": "stream",
     "text": [
      "== Status ==\n",
      "Current time: 2024-05-29 07:24:52 (running for 00:11:52.98)\n",
      "Using FIFO scheduling algorithm.\n",
      "Logical resource usage: 2.0/128 CPUs, 0/0 GPUs\n",
      "Result logdir: /tmp/ray/session_2024-05-29_06-54-58_814481_446177/artifacts/2024-05-29_07-12-59/TorchTrainer_2024-05-29_07-12-59/driver_artifacts\n",
      "Number of trials: 1/1 (1 RUNNING)\n",
      "\n",
      "\n",
      "== Status ==\n",
      "Current time: 2024-05-29 07:24:57 (running for 00:11:58.00)\n",
      "Using FIFO scheduling algorithm.\n",
      "Logical resource usage: 2.0/128 CPUs, 0/0 GPUs\n",
      "Result logdir: /tmp/ray/session_2024-05-29_06-54-58_814481_446177/artifacts/2024-05-29_07-12-59/TorchTrainer_2024-05-29_07-12-59/driver_artifacts\n",
      "Number of trials: 1/1 (1 RUNNING)\n",
      "\n",
      "\n"
     ]
    },
    {
     "name": "stderr",
     "output_type": "stream",
     "text": [
      "\u001b[36m(RayTrainWorker pid=468095)\u001b[0m \n",
      " 40%|████      | 66/163 [06:17<09:20,  5.77s/it]\u001b[A\n"
     ]
    },
    {
     "name": "stdout",
     "output_type": "stream",
     "text": [
      "== Status ==\n",
      "Current time: 2024-05-29 07:25:02 (running for 00:12:03.02)\n",
      "Using FIFO scheduling algorithm.\n",
      "Logical resource usage: 2.0/128 CPUs, 0/0 GPUs\n",
      "Result logdir: /tmp/ray/session_2024-05-29_06-54-58_814481_446177/artifacts/2024-05-29_07-12-59/TorchTrainer_2024-05-29_07-12-59/driver_artifacts\n",
      "Number of trials: 1/1 (1 RUNNING)\n",
      "\n",
      "\n"
     ]
    },
    {
     "name": "stderr",
     "output_type": "stream",
     "text": [
      "\u001b[36m(RayTrainWorker pid=468095)\u001b[0m \n",
      " 41%|████      | 67/163 [06:23<09:16,  5.79s/it]\u001b[A\n"
     ]
    },
    {
     "name": "stdout",
     "output_type": "stream",
     "text": [
      "== Status ==\n",
      "Current time: 2024-05-29 07:25:07 (running for 00:12:08.04)\n",
      "Using FIFO scheduling algorithm.\n",
      "Logical resource usage: 2.0/128 CPUs, 0/0 GPUs\n",
      "Result logdir: /tmp/ray/session_2024-05-29_06-54-58_814481_446177/artifacts/2024-05-29_07-12-59/TorchTrainer_2024-05-29_07-12-59/driver_artifacts\n",
      "Number of trials: 1/1 (1 RUNNING)\n",
      "\n",
      "\n"
     ]
    },
    {
     "name": "stderr",
     "output_type": "stream",
     "text": [
      "\u001b[36m(RayTrainWorker pid=468095)\u001b[0m \n",
      " 42%|████▏     | 68/163 [06:29<09:14,  5.84s/it]\u001b[A\n"
     ]
    },
    {
     "name": "stdout",
     "output_type": "stream",
     "text": [
      "== Status ==\n",
      "Current time: 2024-05-29 07:25:12 (running for 00:12:13.06)\n",
      "Using FIFO scheduling algorithm.\n",
      "Logical resource usage: 2.0/128 CPUs, 0/0 GPUs\n",
      "Result logdir: /tmp/ray/session_2024-05-29_06-54-58_814481_446177/artifacts/2024-05-29_07-12-59/TorchTrainer_2024-05-29_07-12-59/driver_artifacts\n",
      "Number of trials: 1/1 (1 RUNNING)\n",
      "\n",
      "\n"
     ]
    },
    {
     "name": "stderr",
     "output_type": "stream",
     "text": [
      "\u001b[36m(RayTrainWorker pid=468095)\u001b[0m \n",
      " 42%|████▏     | 69/163 [06:35<09:09,  5.84s/it]\u001b[A\n"
     ]
    },
    {
     "name": "stdout",
     "output_type": "stream",
     "text": [
      "== Status ==\n",
      "Current time: 2024-05-29 07:25:17 (running for 00:12:18.08)\n",
      "Using FIFO scheduling algorithm.\n",
      "Logical resource usage: 2.0/128 CPUs, 0/0 GPUs\n",
      "Result logdir: /tmp/ray/session_2024-05-29_06-54-58_814481_446177/artifacts/2024-05-29_07-12-59/TorchTrainer_2024-05-29_07-12-59/driver_artifacts\n",
      "Number of trials: 1/1 (1 RUNNING)\n",
      "\n",
      "\n"
     ]
    },
    {
     "name": "stderr",
     "output_type": "stream",
     "text": [
      "\u001b[36m(RayTrainWorker pid=468095)\u001b[0m \n",
      " 43%|████▎     | 70/163 [06:41<09:03,  5.84s/it]\u001b[A\n"
     ]
    },
    {
     "name": "stdout",
     "output_type": "stream",
     "text": [
      "== Status ==\n",
      "Current time: 2024-05-29 07:25:22 (running for 00:12:23.10)\n",
      "Using FIFO scheduling algorithm.\n",
      "Logical resource usage: 2.0/128 CPUs, 0/0 GPUs\n",
      "Result logdir: /tmp/ray/session_2024-05-29_06-54-58_814481_446177/artifacts/2024-05-29_07-12-59/TorchTrainer_2024-05-29_07-12-59/driver_artifacts\n",
      "Number of trials: 1/1 (1 RUNNING)\n",
      "\n",
      "\n"
     ]
    },
    {
     "name": "stderr",
     "output_type": "stream",
     "text": [
      "\u001b[36m(RayTrainWorker pid=468095)\u001b[0m \n",
      " 44%|████▎     | 71/163 [06:47<08:57,  5.84s/it]\u001b[A\n"
     ]
    },
    {
     "name": "stdout",
     "output_type": "stream",
     "text": [
      "== Status ==\n",
      "Current time: 2024-05-29 07:25:27 (running for 00:12:28.12)\n",
      "Using FIFO scheduling algorithm.\n",
      "Logical resource usage: 2.0/128 CPUs, 0/0 GPUs\n",
      "Result logdir: /tmp/ray/session_2024-05-29_06-54-58_814481_446177/artifacts/2024-05-29_07-12-59/TorchTrainer_2024-05-29_07-12-59/driver_artifacts\n",
      "Number of trials: 1/1 (1 RUNNING)\n",
      "\n",
      "\n",
      "== Status ==\n",
      "Current time: 2024-05-29 07:25:32 (running for 00:12:33.14)\n",
      "Using FIFO scheduling algorithm.\n",
      "Logical resource usage: 2.0/128 CPUs, 0/0 GPUs\n",
      "Result logdir: /tmp/ray/session_2024-05-29_06-54-58_814481_446177/artifacts/2024-05-29_07-12-59/TorchTrainer_2024-05-29_07-12-59/driver_artifacts\n",
      "Number of trials: 1/1 (1 RUNNING)\n",
      "\n",
      "\n"
     ]
    },
    {
     "name": "stderr",
     "output_type": "stream",
     "text": [
      "\u001b[36m(RayTrainWorker pid=468095)\u001b[0m \n",
      " 44%|████▍     | 72/163 [06:52<08:50,  5.82s/it]\u001b[A\n"
     ]
    },
    {
     "name": "stdout",
     "output_type": "stream",
     "text": [
      "== Status ==\n",
      "Current time: 2024-05-29 07:25:37 (running for 00:12:38.15)\n",
      "Using FIFO scheduling algorithm.\n",
      "Logical resource usage: 2.0/128 CPUs, 0/0 GPUs\n",
      "Result logdir: /tmp/ray/session_2024-05-29_06-54-58_814481_446177/artifacts/2024-05-29_07-12-59/TorchTrainer_2024-05-29_07-12-59/driver_artifacts\n",
      "Number of trials: 1/1 (1 RUNNING)\n",
      "\n",
      "\n"
     ]
    },
    {
     "name": "stderr",
     "output_type": "stream",
     "text": [
      "\u001b[36m(RayTrainWorker pid=468095)\u001b[0m \n",
      " 45%|████▍     | 73/163 [06:58<08:43,  5.82s/it]\u001b[A\n"
     ]
    },
    {
     "name": "stdout",
     "output_type": "stream",
     "text": [
      "== Status ==\n",
      "Current time: 2024-05-29 07:25:42 (running for 00:12:43.18)\n",
      "Using FIFO scheduling algorithm.\n",
      "Logical resource usage: 2.0/128 CPUs, 0/0 GPUs\n",
      "Result logdir: /tmp/ray/session_2024-05-29_06-54-58_814481_446177/artifacts/2024-05-29_07-12-59/TorchTrainer_2024-05-29_07-12-59/driver_artifacts\n",
      "Number of trials: 1/1 (1 RUNNING)\n",
      "\n",
      "\n"
     ]
    },
    {
     "name": "stderr",
     "output_type": "stream",
     "text": [
      "\u001b[36m(RayTrainWorker pid=468095)\u001b[0m \n",
      " 45%|████▌     | 74/163 [07:04<08:40,  5.84s/it]\u001b[A\n"
     ]
    },
    {
     "name": "stdout",
     "output_type": "stream",
     "text": [
      "== Status ==\n",
      "Current time: 2024-05-29 07:25:47 (running for 00:12:48.19)\n",
      "Using FIFO scheduling algorithm.\n",
      "Logical resource usage: 2.0/128 CPUs, 0/0 GPUs\n",
      "Result logdir: /tmp/ray/session_2024-05-29_06-54-58_814481_446177/artifacts/2024-05-29_07-12-59/TorchTrainer_2024-05-29_07-12-59/driver_artifacts\n",
      "Number of trials: 1/1 (1 RUNNING)\n",
      "\n",
      "\n"
     ]
    },
    {
     "name": "stderr",
     "output_type": "stream",
     "text": [
      "\u001b[36m(RayTrainWorker pid=468095)\u001b[0m \n",
      " 46%|████▌     | 75/163 [07:10<08:31,  5.81s/it]\u001b[A\n"
     ]
    },
    {
     "name": "stdout",
     "output_type": "stream",
     "text": [
      "== Status ==\n",
      "Current time: 2024-05-29 07:25:52 (running for 00:12:53.21)\n",
      "Using FIFO scheduling algorithm.\n",
      "Logical resource usage: 2.0/128 CPUs, 0/0 GPUs\n",
      "Result logdir: /tmp/ray/session_2024-05-29_06-54-58_814481_446177/artifacts/2024-05-29_07-12-59/TorchTrainer_2024-05-29_07-12-59/driver_artifacts\n",
      "Number of trials: 1/1 (1 RUNNING)\n",
      "\n",
      "\n"
     ]
    },
    {
     "name": "stderr",
     "output_type": "stream",
     "text": [
      "\u001b[36m(RayTrainWorker pid=468095)\u001b[0m \n",
      " 47%|████▋     | 76/163 [07:15<08:23,  5.79s/it]\u001b[A\n"
     ]
    },
    {
     "name": "stdout",
     "output_type": "stream",
     "text": [
      "== Status ==\n",
      "Current time: 2024-05-29 07:25:57 (running for 00:12:58.23)\n",
      "Using FIFO scheduling algorithm.\n",
      "Logical resource usage: 2.0/128 CPUs, 0/0 GPUs\n",
      "Result logdir: /tmp/ray/session_2024-05-29_06-54-58_814481_446177/artifacts/2024-05-29_07-12-59/TorchTrainer_2024-05-29_07-12-59/driver_artifacts\n",
      "Number of trials: 1/1 (1 RUNNING)\n",
      "\n",
      "\n"
     ]
    },
    {
     "name": "stderr",
     "output_type": "stream",
     "text": [
      "\u001b[36m(RayTrainWorker pid=468095)\u001b[0m \n",
      " 47%|████▋     | 77/163 [07:21<08:15,  5.77s/it]\u001b[A\n"
     ]
    },
    {
     "name": "stdout",
     "output_type": "stream",
     "text": [
      "== Status ==\n",
      "Current time: 2024-05-29 07:26:02 (running for 00:13:03.25)\n",
      "Using FIFO scheduling algorithm.\n",
      "Logical resource usage: 2.0/128 CPUs, 0/0 GPUs\n",
      "Result logdir: /tmp/ray/session_2024-05-29_06-54-58_814481_446177/artifacts/2024-05-29_07-12-59/TorchTrainer_2024-05-29_07-12-59/driver_artifacts\n",
      "Number of trials: 1/1 (1 RUNNING)\n",
      "\n",
      "\n"
     ]
    },
    {
     "name": "stderr",
     "output_type": "stream",
     "text": [
      "\u001b[36m(RayTrainWorker pid=468095)\u001b[0m \n",
      " 48%|████▊     | 78/163 [07:27<08:10,  5.77s/it]\u001b[A\n"
     ]
    },
    {
     "name": "stdout",
     "output_type": "stream",
     "text": [
      "== Status ==\n",
      "Current time: 2024-05-29 07:26:07 (running for 00:13:08.27)\n",
      "Using FIFO scheduling algorithm.\n",
      "Logical resource usage: 2.0/128 CPUs, 0/0 GPUs\n",
      "Result logdir: /tmp/ray/session_2024-05-29_06-54-58_814481_446177/artifacts/2024-05-29_07-12-59/TorchTrainer_2024-05-29_07-12-59/driver_artifacts\n",
      "Number of trials: 1/1 (1 RUNNING)\n",
      "\n",
      "\n",
      "== Status ==\n",
      "Current time: 2024-05-29 07:26:12 (running for 00:13:13.29)\n",
      "Using FIFO scheduling algorithm.\n",
      "Logical resource usage: 2.0/128 CPUs, 0/0 GPUs\n",
      "Result logdir: /tmp/ray/session_2024-05-29_06-54-58_814481_446177/artifacts/2024-05-29_07-12-59/TorchTrainer_2024-05-29_07-12-59/driver_artifacts\n",
      "Number of trials: 1/1 (1 RUNNING)\n",
      "\n",
      "\n"
     ]
    },
    {
     "name": "stderr",
     "output_type": "stream",
     "text": [
      "\u001b[36m(RayTrainWorker pid=468095)\u001b[0m \n",
      " 48%|████▊     | 79/163 [07:33<08:04,  5.76s/it]\u001b[A\n"
     ]
    },
    {
     "name": "stdout",
     "output_type": "stream",
     "text": [
      "== Status ==\n",
      "Current time: 2024-05-29 07:26:17 (running for 00:13:18.31)\n",
      "Using FIFO scheduling algorithm.\n",
      "Logical resource usage: 2.0/128 CPUs, 0/0 GPUs\n",
      "Result logdir: /tmp/ray/session_2024-05-29_06-54-58_814481_446177/artifacts/2024-05-29_07-12-59/TorchTrainer_2024-05-29_07-12-59/driver_artifacts\n",
      "Number of trials: 1/1 (1 RUNNING)\n",
      "\n",
      "\n"
     ]
    },
    {
     "name": "stderr",
     "output_type": "stream",
     "text": [
      "\u001b[36m(RayTrainWorker pid=468095)\u001b[0m \n",
      " 49%|████▉     | 80/163 [07:39<08:00,  5.79s/it]\u001b[A\n"
     ]
    },
    {
     "name": "stdout",
     "output_type": "stream",
     "text": [
      "== Status ==\n",
      "Current time: 2024-05-29 07:26:22 (running for 00:13:23.33)\n",
      "Using FIFO scheduling algorithm.\n",
      "Logical resource usage: 2.0/128 CPUs, 0/0 GPUs\n",
      "Result logdir: /tmp/ray/session_2024-05-29_06-54-58_814481_446177/artifacts/2024-05-29_07-12-59/TorchTrainer_2024-05-29_07-12-59/driver_artifacts\n",
      "Number of trials: 1/1 (1 RUNNING)\n",
      "\n",
      "\n"
     ]
    },
    {
     "name": "stderr",
     "output_type": "stream",
     "text": [
      "\u001b[36m(RayTrainWorker pid=468095)\u001b[0m \n",
      " 50%|████▉     | 81/163 [07:45<07:58,  5.84s/it]\u001b[A\n"
     ]
    },
    {
     "name": "stdout",
     "output_type": "stream",
     "text": [
      "== Status ==\n",
      "Current time: 2024-05-29 07:26:27 (running for 00:13:28.36)\n",
      "Using FIFO scheduling algorithm.\n",
      "Logical resource usage: 2.0/128 CPUs, 0/0 GPUs\n",
      "Result logdir: /tmp/ray/session_2024-05-29_06-54-58_814481_446177/artifacts/2024-05-29_07-12-59/TorchTrainer_2024-05-29_07-12-59/driver_artifacts\n",
      "Number of trials: 1/1 (1 RUNNING)\n",
      "\n",
      "\n"
     ]
    },
    {
     "name": "stderr",
     "output_type": "stream",
     "text": [
      "\u001b[36m(RayTrainWorker pid=468095)\u001b[0m \n",
      " 50%|█████     | 82/163 [07:51<08:07,  6.01s/it]\u001b[A\n"
     ]
    },
    {
     "name": "stdout",
     "output_type": "stream",
     "text": [
      "== Status ==\n",
      "Current time: 2024-05-29 07:26:32 (running for 00:13:33.38)\n",
      "Using FIFO scheduling algorithm.\n",
      "Logical resource usage: 2.0/128 CPUs, 0/0 GPUs\n",
      "Result logdir: /tmp/ray/session_2024-05-29_06-54-58_814481_446177/artifacts/2024-05-29_07-12-59/TorchTrainer_2024-05-29_07-12-59/driver_artifacts\n",
      "Number of trials: 1/1 (1 RUNNING)\n",
      "\n",
      "\n"
     ]
    },
    {
     "name": "stderr",
     "output_type": "stream",
     "text": [
      "\u001b[36m(RayTrainWorker pid=468095)\u001b[0m \n",
      " 51%|█████     | 83/163 [07:57<07:53,  5.92s/it]\u001b[A\n"
     ]
    },
    {
     "name": "stdout",
     "output_type": "stream",
     "text": [
      "== Status ==\n",
      "Current time: 2024-05-29 07:26:37 (running for 00:13:38.40)\n",
      "Using FIFO scheduling algorithm.\n",
      "Logical resource usage: 2.0/128 CPUs, 0/0 GPUs\n",
      "Result logdir: /tmp/ray/session_2024-05-29_06-54-58_814481_446177/artifacts/2024-05-29_07-12-59/TorchTrainer_2024-05-29_07-12-59/driver_artifacts\n",
      "Number of trials: 1/1 (1 RUNNING)\n",
      "\n",
      "\n",
      "== Status ==\n",
      "Current time: 2024-05-29 07:26:42 (running for 00:13:43.42)\n",
      "Using FIFO scheduling algorithm.\n",
      "Logical resource usage: 2.0/128 CPUs, 0/0 GPUs\n",
      "Result logdir: /tmp/ray/session_2024-05-29_06-54-58_814481_446177/artifacts/2024-05-29_07-12-59/TorchTrainer_2024-05-29_07-12-59/driver_artifacts\n",
      "Number of trials: 1/1 (1 RUNNING)\n",
      "\n",
      "\n"
     ]
    },
    {
     "name": "stderr",
     "output_type": "stream",
     "text": [
      "\u001b[36m(RayTrainWorker pid=468095)\u001b[0m \n",
      " 52%|█████▏    | 84/163 [08:03<07:48,  5.93s/it]\u001b[A\n"
     ]
    },
    {
     "name": "stdout",
     "output_type": "stream",
     "text": [
      "== Status ==\n",
      "Current time: 2024-05-29 07:26:48 (running for 00:13:48.44)\n",
      "Using FIFO scheduling algorithm.\n",
      "Logical resource usage: 2.0/128 CPUs, 0/0 GPUs\n",
      "Result logdir: /tmp/ray/session_2024-05-29_06-54-58_814481_446177/artifacts/2024-05-29_07-12-59/TorchTrainer_2024-05-29_07-12-59/driver_artifacts\n",
      "Number of trials: 1/1 (1 RUNNING)\n",
      "\n",
      "\n"
     ]
    },
    {
     "name": "stderr",
     "output_type": "stream",
     "text": [
      "\u001b[36m(RayTrainWorker pid=468095)\u001b[0m \n",
      " 52%|█████▏    | 85/163 [08:08<07:40,  5.90s/it]\u001b[A\n"
     ]
    },
    {
     "name": "stdout",
     "output_type": "stream",
     "text": [
      "== Status ==\n",
      "Current time: 2024-05-29 07:26:53 (running for 00:13:53.46)\n",
      "Using FIFO scheduling algorithm.\n",
      "Logical resource usage: 2.0/128 CPUs, 0/0 GPUs\n",
      "Result logdir: /tmp/ray/session_2024-05-29_06-54-58_814481_446177/artifacts/2024-05-29_07-12-59/TorchTrainer_2024-05-29_07-12-59/driver_artifacts\n",
      "Number of trials: 1/1 (1 RUNNING)\n",
      "\n",
      "\n"
     ]
    },
    {
     "name": "stderr",
     "output_type": "stream",
     "text": [
      "\u001b[36m(RayTrainWorker pid=468095)\u001b[0m \n",
      " 53%|█████▎    | 86/163 [08:14<07:28,  5.82s/it]\u001b[A\n"
     ]
    },
    {
     "name": "stdout",
     "output_type": "stream",
     "text": [
      "== Status ==\n",
      "Current time: 2024-05-29 07:26:58 (running for 00:13:58.47)\n",
      "Using FIFO scheduling algorithm.\n",
      "Logical resource usage: 2.0/128 CPUs, 0/0 GPUs\n",
      "Result logdir: /tmp/ray/session_2024-05-29_06-54-58_814481_446177/artifacts/2024-05-29_07-12-59/TorchTrainer_2024-05-29_07-12-59/driver_artifacts\n",
      "Number of trials: 1/1 (1 RUNNING)\n",
      "\n",
      "\n"
     ]
    },
    {
     "name": "stderr",
     "output_type": "stream",
     "text": [
      "\u001b[36m(RayTrainWorker pid=468095)\u001b[0m \n",
      " 53%|█████▎    | 87/163 [08:20<07:22,  5.82s/it]\u001b[A\n"
     ]
    },
    {
     "name": "stdout",
     "output_type": "stream",
     "text": [
      "== Status ==\n",
      "Current time: 2024-05-29 07:27:03 (running for 00:14:03.49)\n",
      "Using FIFO scheduling algorithm.\n",
      "Logical resource usage: 2.0/128 CPUs, 0/0 GPUs\n",
      "Result logdir: /tmp/ray/session_2024-05-29_06-54-58_814481_446177/artifacts/2024-05-29_07-12-59/TorchTrainer_2024-05-29_07-12-59/driver_artifacts\n",
      "Number of trials: 1/1 (1 RUNNING)\n",
      "\n",
      "\n"
     ]
    },
    {
     "name": "stderr",
     "output_type": "stream",
     "text": [
      "\u001b[36m(RayTrainWorker pid=468095)\u001b[0m \n",
      " 54%|█████▍    | 88/163 [08:26<07:14,  5.80s/it]\u001b[A\n"
     ]
    },
    {
     "name": "stdout",
     "output_type": "stream",
     "text": [
      "== Status ==\n",
      "Current time: 2024-05-29 07:27:08 (running for 00:14:08.51)\n",
      "Using FIFO scheduling algorithm.\n",
      "Logical resource usage: 2.0/128 CPUs, 0/0 GPUs\n",
      "Result logdir: /tmp/ray/session_2024-05-29_06-54-58_814481_446177/artifacts/2024-05-29_07-12-59/TorchTrainer_2024-05-29_07-12-59/driver_artifacts\n",
      "Number of trials: 1/1 (1 RUNNING)\n",
      "\n",
      "\n"
     ]
    },
    {
     "name": "stderr",
     "output_type": "stream",
     "text": [
      "\u001b[36m(RayTrainWorker pid=468095)\u001b[0m \n",
      " 55%|█████▍    | 89/163 [08:31<07:07,  5.78s/it]\u001b[A\n"
     ]
    },
    {
     "name": "stdout",
     "output_type": "stream",
     "text": [
      "== Status ==\n",
      "Current time: 2024-05-29 07:27:13 (running for 00:14:13.54)\n",
      "Using FIFO scheduling algorithm.\n",
      "Logical resource usage: 2.0/128 CPUs, 0/0 GPUs\n",
      "Result logdir: /tmp/ray/session_2024-05-29_06-54-58_814481_446177/artifacts/2024-05-29_07-12-59/TorchTrainer_2024-05-29_07-12-59/driver_artifacts\n",
      "Number of trials: 1/1 (1 RUNNING)\n",
      "\n",
      "\n",
      "== Status ==\n",
      "Current time: 2024-05-29 07:27:18 (running for 00:14:18.56)\n",
      "Using FIFO scheduling algorithm.\n",
      "Logical resource usage: 2.0/128 CPUs, 0/0 GPUs\n",
      "Result logdir: /tmp/ray/session_2024-05-29_06-54-58_814481_446177/artifacts/2024-05-29_07-12-59/TorchTrainer_2024-05-29_07-12-59/driver_artifacts\n",
      "Number of trials: 1/1 (1 RUNNING)\n",
      "\n",
      "\n"
     ]
    },
    {
     "name": "stderr",
     "output_type": "stream",
     "text": [
      "\u001b[36m(RayTrainWorker pid=468095)\u001b[0m \n",
      " 55%|█████▌    | 90/163 [08:38<07:11,  5.91s/it]\u001b[A\n"
     ]
    },
    {
     "name": "stdout",
     "output_type": "stream",
     "text": [
      "== Status ==\n",
      "Current time: 2024-05-29 07:27:23 (running for 00:14:23.58)\n",
      "Using FIFO scheduling algorithm.\n",
      "Logical resource usage: 2.0/128 CPUs, 0/0 GPUs\n",
      "Result logdir: /tmp/ray/session_2024-05-29_06-54-58_814481_446177/artifacts/2024-05-29_07-12-59/TorchTrainer_2024-05-29_07-12-59/driver_artifacts\n",
      "Number of trials: 1/1 (1 RUNNING)\n",
      "\n",
      "\n"
     ]
    },
    {
     "name": "stderr",
     "output_type": "stream",
     "text": [
      "\u001b[36m(RayTrainWorker pid=468095)\u001b[0m \n",
      " 56%|█████▌    | 91/163 [08:44<07:17,  6.07s/it]\u001b[A\n"
     ]
    },
    {
     "name": "stdout",
     "output_type": "stream",
     "text": [
      "== Status ==\n",
      "Current time: 2024-05-29 07:27:28 (running for 00:14:28.60)\n",
      "Using FIFO scheduling algorithm.\n",
      "Logical resource usage: 2.0/128 CPUs, 0/0 GPUs\n",
      "Result logdir: /tmp/ray/session_2024-05-29_06-54-58_814481_446177/artifacts/2024-05-29_07-12-59/TorchTrainer_2024-05-29_07-12-59/driver_artifacts\n",
      "Number of trials: 1/1 (1 RUNNING)\n",
      "\n",
      "\n"
     ]
    },
    {
     "name": "stderr",
     "output_type": "stream",
     "text": [
      "\u001b[36m(RayTrainWorker pid=468095)\u001b[0m \n",
      " 56%|█████▋    | 92/163 [08:50<07:16,  6.14s/it]\u001b[A\n"
     ]
    },
    {
     "name": "stdout",
     "output_type": "stream",
     "text": [
      "== Status ==\n",
      "Current time: 2024-05-29 07:27:33 (running for 00:14:33.62)\n",
      "Using FIFO scheduling algorithm.\n",
      "Logical resource usage: 2.0/128 CPUs, 0/0 GPUs\n",
      "Result logdir: /tmp/ray/session_2024-05-29_06-54-58_814481_446177/artifacts/2024-05-29_07-12-59/TorchTrainer_2024-05-29_07-12-59/driver_artifacts\n",
      "Number of trials: 1/1 (1 RUNNING)\n",
      "\n",
      "\n"
     ]
    },
    {
     "name": "stderr",
     "output_type": "stream",
     "text": [
      "\u001b[36m(RayTrainWorker pid=468095)\u001b[0m \n",
      " 57%|█████▋    | 93/163 [08:56<07:00,  6.00s/it]\u001b[A\n"
     ]
    },
    {
     "name": "stdout",
     "output_type": "stream",
     "text": [
      "== Status ==\n",
      "Current time: 2024-05-29 07:27:38 (running for 00:14:38.64)\n",
      "Using FIFO scheduling algorithm.\n",
      "Logical resource usage: 2.0/128 CPUs, 0/0 GPUs\n",
      "Result logdir: /tmp/ray/session_2024-05-29_06-54-58_814481_446177/artifacts/2024-05-29_07-12-59/TorchTrainer_2024-05-29_07-12-59/driver_artifacts\n",
      "Number of trials: 1/1 (1 RUNNING)\n",
      "\n",
      "\n"
     ]
    },
    {
     "name": "stderr",
     "output_type": "stream",
     "text": [
      "\u001b[36m(RayTrainWorker pid=468095)\u001b[0m \n",
      " 58%|█████▊    | 94/163 [09:02<06:47,  5.90s/it]\u001b[A\n"
     ]
    },
    {
     "name": "stdout",
     "output_type": "stream",
     "text": [
      "== Status ==\n",
      "Current time: 2024-05-29 07:27:43 (running for 00:14:43.66)\n",
      "Using FIFO scheduling algorithm.\n",
      "Logical resource usage: 2.0/128 CPUs, 0/0 GPUs\n",
      "Result logdir: /tmp/ray/session_2024-05-29_06-54-58_814481_446177/artifacts/2024-05-29_07-12-59/TorchTrainer_2024-05-29_07-12-59/driver_artifacts\n",
      "Number of trials: 1/1 (1 RUNNING)\n",
      "\n",
      "\n",
      "== Status ==\n",
      "Current time: 2024-05-29 07:27:48 (running for 00:14:48.68)\n",
      "Using FIFO scheduling algorithm.\n",
      "Logical resource usage: 2.0/128 CPUs, 0/0 GPUs\n",
      "Result logdir: /tmp/ray/session_2024-05-29_06-54-58_814481_446177/artifacts/2024-05-29_07-12-59/TorchTrainer_2024-05-29_07-12-59/driver_artifacts\n",
      "Number of trials: 1/1 (1 RUNNING)\n",
      "\n",
      "\n"
     ]
    },
    {
     "name": "stderr",
     "output_type": "stream",
     "text": [
      "\u001b[36m(RayTrainWorker pid=468095)\u001b[0m \n",
      " 58%|█████▊    | 95/163 [09:08<06:52,  6.07s/it]\u001b[A\n"
     ]
    },
    {
     "name": "stdout",
     "output_type": "stream",
     "text": [
      "== Status ==\n",
      "Current time: 2024-05-29 07:27:53 (running for 00:14:53.71)\n",
      "Using FIFO scheduling algorithm.\n",
      "Logical resource usage: 2.0/128 CPUs, 0/0 GPUs\n",
      "Result logdir: /tmp/ray/session_2024-05-29_06-54-58_814481_446177/artifacts/2024-05-29_07-12-59/TorchTrainer_2024-05-29_07-12-59/driver_artifacts\n",
      "Number of trials: 1/1 (1 RUNNING)\n",
      "\n",
      "\n"
     ]
    },
    {
     "name": "stderr",
     "output_type": "stream",
     "text": [
      "\u001b[36m(RayTrainWorker pid=468095)\u001b[0m \n",
      " 59%|█████▉    | 96/163 [09:15<07:02,  6.31s/it]\u001b[A\n"
     ]
    },
    {
     "name": "stdout",
     "output_type": "stream",
     "text": [
      "== Status ==\n",
      "Current time: 2024-05-29 07:27:58 (running for 00:14:58.73)\n",
      "Using FIFO scheduling algorithm.\n",
      "Logical resource usage: 2.0/128 CPUs, 0/0 GPUs\n",
      "Result logdir: /tmp/ray/session_2024-05-29_06-54-58_814481_446177/artifacts/2024-05-29_07-12-59/TorchTrainer_2024-05-29_07-12-59/driver_artifacts\n",
      "Number of trials: 1/1 (1 RUNNING)\n",
      "\n",
      "\n"
     ]
    },
    {
     "name": "stderr",
     "output_type": "stream",
     "text": [
      "\u001b[36m(RayTrainWorker pid=468095)\u001b[0m \n",
      " 60%|█████▉    | 97/163 [09:22<07:07,  6.48s/it]\u001b[A\n"
     ]
    },
    {
     "name": "stdout",
     "output_type": "stream",
     "text": [
      "== Status ==\n",
      "Current time: 2024-05-29 07:28:03 (running for 00:15:03.75)\n",
      "Using FIFO scheduling algorithm.\n",
      "Logical resource usage: 2.0/128 CPUs, 0/0 GPUs\n",
      "Result logdir: /tmp/ray/session_2024-05-29_06-54-58_814481_446177/artifacts/2024-05-29_07-12-59/TorchTrainer_2024-05-29_07-12-59/driver_artifacts\n",
      "Number of trials: 1/1 (1 RUNNING)\n",
      "\n",
      "\n",
      "== Status ==\n",
      "Current time: 2024-05-29 07:28:08 (running for 00:15:08.77)\n",
      "Using FIFO scheduling algorithm.\n",
      "Logical resource usage: 2.0/128 CPUs, 0/0 GPUs\n",
      "Result logdir: /tmp/ray/session_2024-05-29_06-54-58_814481_446177/artifacts/2024-05-29_07-12-59/TorchTrainer_2024-05-29_07-12-59/driver_artifacts\n",
      "Number of trials: 1/1 (1 RUNNING)\n",
      "\n",
      "\n"
     ]
    },
    {
     "name": "stderr",
     "output_type": "stream",
     "text": [
      "\u001b[36m(RayTrainWorker pid=468095)\u001b[0m \n",
      " 60%|██████    | 98/163 [09:29<07:07,  6.57s/it]\u001b[A\n"
     ]
    },
    {
     "name": "stdout",
     "output_type": "stream",
     "text": [
      "== Status ==\n",
      "Current time: 2024-05-29 07:28:13 (running for 00:15:13.80)\n",
      "Using FIFO scheduling algorithm.\n",
      "Logical resource usage: 2.0/128 CPUs, 0/0 GPUs\n",
      "Result logdir: /tmp/ray/session_2024-05-29_06-54-58_814481_446177/artifacts/2024-05-29_07-12-59/TorchTrainer_2024-05-29_07-12-59/driver_artifacts\n",
      "Number of trials: 1/1 (1 RUNNING)\n",
      "\n",
      "\n"
     ]
    },
    {
     "name": "stderr",
     "output_type": "stream",
     "text": [
      "\u001b[36m(RayTrainWorker pid=468095)\u001b[0m \n",
      " 61%|██████    | 99/163 [09:35<07:03,  6.61s/it]\u001b[A\n"
     ]
    },
    {
     "name": "stdout",
     "output_type": "stream",
     "text": [
      "== Status ==\n",
      "Current time: 2024-05-29 07:28:18 (running for 00:15:18.84)\n",
      "Using FIFO scheduling algorithm.\n",
      "Logical resource usage: 2.0/128 CPUs, 0/0 GPUs\n",
      "Result logdir: /tmp/ray/session_2024-05-29_06-54-58_814481_446177/artifacts/2024-05-29_07-12-59/TorchTrainer_2024-05-29_07-12-59/driver_artifacts\n",
      "Number of trials: 1/1 (1 RUNNING)\n",
      "\n",
      "\n"
     ]
    },
    {
     "name": "stderr",
     "output_type": "stream",
     "text": [
      "\u001b[36m(RayTrainWorker pid=468095)\u001b[0m \n",
      " 61%|██████▏   | 100/163 [09:42<06:55,  6.60s/it]\u001b[A\n"
     ]
    },
    {
     "name": "stdout",
     "output_type": "stream",
     "text": [
      "== Status ==\n",
      "Current time: 2024-05-29 07:28:23 (running for 00:15:23.87)\n",
      "Using FIFO scheduling algorithm.\n",
      "Logical resource usage: 2.0/128 CPUs, 0/0 GPUs\n",
      "Result logdir: /tmp/ray/session_2024-05-29_06-54-58_814481_446177/artifacts/2024-05-29_07-12-59/TorchTrainer_2024-05-29_07-12-59/driver_artifacts\n",
      "Number of trials: 1/1 (1 RUNNING)\n",
      "\n",
      "\n",
      "== Status ==\n",
      "Current time: 2024-05-29 07:28:28 (running for 00:15:28.89)\n",
      "Using FIFO scheduling algorithm.\n",
      "Logical resource usage: 2.0/128 CPUs, 0/0 GPUs\n",
      "Result logdir: /tmp/ray/session_2024-05-29_06-54-58_814481_446177/artifacts/2024-05-29_07-12-59/TorchTrainer_2024-05-29_07-12-59/driver_artifacts\n",
      "Number of trials: 1/1 (1 RUNNING)\n",
      "\n",
      "\n"
     ]
    },
    {
     "name": "stderr",
     "output_type": "stream",
     "text": [
      "\u001b[36m(RayTrainWorker pid=468095)\u001b[0m \n",
      " 62%|██████▏   | 101/163 [09:49<06:52,  6.66s/it]\u001b[A\n"
     ]
    },
    {
     "name": "stdout",
     "output_type": "stream",
     "text": [
      "== Status ==\n",
      "Current time: 2024-05-29 07:28:33 (running for 00:15:33.91)\n",
      "Using FIFO scheduling algorithm.\n",
      "Logical resource usage: 2.0/128 CPUs, 0/0 GPUs\n",
      "Result logdir: /tmp/ray/session_2024-05-29_06-54-58_814481_446177/artifacts/2024-05-29_07-12-59/TorchTrainer_2024-05-29_07-12-59/driver_artifacts\n",
      "Number of trials: 1/1 (1 RUNNING)\n",
      "\n",
      "\n"
     ]
    },
    {
     "name": "stderr",
     "output_type": "stream",
     "text": [
      "\u001b[36m(RayTrainWorker pid=468095)\u001b[0m \n",
      " 63%|██████▎   | 102/163 [09:56<06:53,  6.77s/it]\u001b[A\n"
     ]
    },
    {
     "name": "stdout",
     "output_type": "stream",
     "text": [
      "== Status ==\n",
      "Current time: 2024-05-29 07:28:38 (running for 00:15:38.94)\n",
      "Using FIFO scheduling algorithm.\n",
      "Logical resource usage: 2.0/128 CPUs, 0/0 GPUs\n",
      "Result logdir: /tmp/ray/session_2024-05-29_06-54-58_814481_446177/artifacts/2024-05-29_07-12-59/TorchTrainer_2024-05-29_07-12-59/driver_artifacts\n",
      "Number of trials: 1/1 (1 RUNNING)\n",
      "\n",
      "\n"
     ]
    },
    {
     "name": "stderr",
     "output_type": "stream",
     "text": [
      "\u001b[36m(RayTrainWorker pid=468095)\u001b[0m \n",
      " 63%|██████▎   | 103/163 [10:03<06:46,  6.78s/it]\u001b[A\n"
     ]
    },
    {
     "name": "stdout",
     "output_type": "stream",
     "text": [
      "== Status ==\n",
      "Current time: 2024-05-29 07:28:43 (running for 00:15:43.97)\n",
      "Using FIFO scheduling algorithm.\n",
      "Logical resource usage: 2.0/128 CPUs, 0/0 GPUs\n",
      "Result logdir: /tmp/ray/session_2024-05-29_06-54-58_814481_446177/artifacts/2024-05-29_07-12-59/TorchTrainer_2024-05-29_07-12-59/driver_artifacts\n",
      "Number of trials: 1/1 (1 RUNNING)\n",
      "\n",
      "\n",
      "== Status ==\n",
      "Current time: 2024-05-29 07:28:48 (running for 00:15:48.99)\n",
      "Using FIFO scheduling algorithm.\n",
      "Logical resource usage: 2.0/128 CPUs, 0/0 GPUs\n",
      "Result logdir: /tmp/ray/session_2024-05-29_06-54-58_814481_446177/artifacts/2024-05-29_07-12-59/TorchTrainer_2024-05-29_07-12-59/driver_artifacts\n",
      "Number of trials: 1/1 (1 RUNNING)\n",
      "\n",
      "\n"
     ]
    },
    {
     "name": "stderr",
     "output_type": "stream",
     "text": [
      "\u001b[36m(RayTrainWorker pid=468095)\u001b[0m \n",
      " 64%|██████▍   | 104/163 [10:10<06:46,  6.90s/it]\u001b[A\n"
     ]
    },
    {
     "name": "stdout",
     "output_type": "stream",
     "text": [
      "== Status ==\n",
      "Current time: 2024-05-29 07:28:53 (running for 00:15:54.01)\n",
      "Using FIFO scheduling algorithm.\n",
      "Logical resource usage: 2.0/128 CPUs, 0/0 GPUs\n",
      "Result logdir: /tmp/ray/session_2024-05-29_06-54-58_814481_446177/artifacts/2024-05-29_07-12-59/TorchTrainer_2024-05-29_07-12-59/driver_artifacts\n",
      "Number of trials: 1/1 (1 RUNNING)\n",
      "\n",
      "\n"
     ]
    },
    {
     "name": "stderr",
     "output_type": "stream",
     "text": [
      "\u001b[36m(RayTrainWorker pid=468095)\u001b[0m \n",
      " 64%|██████▍   | 105/163 [10:17<06:40,  6.90s/it]\u001b[A\n"
     ]
    },
    {
     "name": "stdout",
     "output_type": "stream",
     "text": [
      "== Status ==\n",
      "Current time: 2024-05-29 07:28:58 (running for 00:15:59.03)\n",
      "Using FIFO scheduling algorithm.\n",
      "Logical resource usage: 2.0/128 CPUs, 0/0 GPUs\n",
      "Result logdir: /tmp/ray/session_2024-05-29_06-54-58_814481_446177/artifacts/2024-05-29_07-12-59/TorchTrainer_2024-05-29_07-12-59/driver_artifacts\n",
      "Number of trials: 1/1 (1 RUNNING)\n",
      "\n",
      "\n",
      "== Status ==\n",
      "Current time: 2024-05-29 07:29:03 (running for 00:16:04.06)\n",
      "Using FIFO scheduling algorithm.\n",
      "Logical resource usage: 2.0/128 CPUs, 0/0 GPUs\n",
      "Result logdir: /tmp/ray/session_2024-05-29_06-54-58_814481_446177/artifacts/2024-05-29_07-12-59/TorchTrainer_2024-05-29_07-12-59/driver_artifacts\n",
      "Number of trials: 1/1 (1 RUNNING)\n",
      "\n",
      "\n"
     ]
    },
    {
     "name": "stderr",
     "output_type": "stream",
     "text": [
      "\u001b[36m(RayTrainWorker pid=468095)\u001b[0m \n",
      " 65%|██████▌   | 106/163 [10:24<06:35,  6.93s/it]\u001b[A\n"
     ]
    },
    {
     "name": "stdout",
     "output_type": "stream",
     "text": [
      "== Status ==\n",
      "Current time: 2024-05-29 07:29:08 (running for 00:16:09.08)\n",
      "Using FIFO scheduling algorithm.\n",
      "Logical resource usage: 2.0/128 CPUs, 0/0 GPUs\n",
      "Result logdir: /tmp/ray/session_2024-05-29_06-54-58_814481_446177/artifacts/2024-05-29_07-12-59/TorchTrainer_2024-05-29_07-12-59/driver_artifacts\n",
      "Number of trials: 1/1 (1 RUNNING)\n",
      "\n",
      "\n"
     ]
    },
    {
     "name": "stderr",
     "output_type": "stream",
     "text": [
      "\u001b[36m(RayTrainWorker pid=468095)\u001b[0m \n",
      " 66%|██████▌   | 107/163 [10:31<06:27,  6.93s/it]\u001b[A\n"
     ]
    },
    {
     "name": "stdout",
     "output_type": "stream",
     "text": [
      "== Status ==\n",
      "Current time: 2024-05-29 07:29:13 (running for 00:16:14.11)\n",
      "Using FIFO scheduling algorithm.\n",
      "Logical resource usage: 2.0/128 CPUs, 0/0 GPUs\n",
      "Result logdir: /tmp/ray/session_2024-05-29_06-54-58_814481_446177/artifacts/2024-05-29_07-12-59/TorchTrainer_2024-05-29_07-12-59/driver_artifacts\n",
      "Number of trials: 1/1 (1 RUNNING)\n",
      "\n",
      "\n"
     ]
    },
    {
     "name": "stderr",
     "output_type": "stream",
     "text": [
      "\u001b[36m(RayTrainWorker pid=468095)\u001b[0m \n",
      " 66%|██████▋   | 108/163 [10:37<06:20,  6.92s/it]\u001b[A\n"
     ]
    },
    {
     "name": "stdout",
     "output_type": "stream",
     "text": [
      "== Status ==\n",
      "Current time: 2024-05-29 07:29:18 (running for 00:16:19.13)\n",
      "Using FIFO scheduling algorithm.\n",
      "Logical resource usage: 2.0/128 CPUs, 0/0 GPUs\n",
      "Result logdir: /tmp/ray/session_2024-05-29_06-54-58_814481_446177/artifacts/2024-05-29_07-12-59/TorchTrainer_2024-05-29_07-12-59/driver_artifacts\n",
      "Number of trials: 1/1 (1 RUNNING)\n",
      "\n",
      "\n",
      "== Status ==\n",
      "Current time: 2024-05-29 07:29:23 (running for 00:16:24.17)\n",
      "Using FIFO scheduling algorithm.\n",
      "Logical resource usage: 2.0/128 CPUs, 0/0 GPUs\n",
      "Result logdir: /tmp/ray/session_2024-05-29_06-54-58_814481_446177/artifacts/2024-05-29_07-12-59/TorchTrainer_2024-05-29_07-12-59/driver_artifacts\n",
      "Number of trials: 1/1 (1 RUNNING)\n",
      "\n",
      "\n"
     ]
    },
    {
     "name": "stderr",
     "output_type": "stream",
     "text": [
      "\u001b[36m(RayTrainWorker pid=468095)\u001b[0m \n",
      " 67%|██████▋   | 109/163 [10:45<06:16,  6.98s/it]\u001b[A\n"
     ]
    },
    {
     "name": "stdout",
     "output_type": "stream",
     "text": [
      "== Status ==\n",
      "Current time: 2024-05-29 07:29:28 (running for 00:16:29.19)\n",
      "Using FIFO scheduling algorithm.\n",
      "Logical resource usage: 2.0/128 CPUs, 0/0 GPUs\n",
      "Result logdir: /tmp/ray/session_2024-05-29_06-54-58_814481_446177/artifacts/2024-05-29_07-12-59/TorchTrainer_2024-05-29_07-12-59/driver_artifacts\n",
      "Number of trials: 1/1 (1 RUNNING)\n",
      "\n",
      "\n"
     ]
    },
    {
     "name": "stderr",
     "output_type": "stream",
     "text": [
      "\u001b[36m(RayTrainWorker pid=468095)\u001b[0m \n",
      " 67%|██████▋   | 110/163 [10:51<06:07,  6.93s/it]\u001b[A\n"
     ]
    },
    {
     "name": "stdout",
     "output_type": "stream",
     "text": [
      "== Status ==\n",
      "Current time: 2024-05-29 07:29:33 (running for 00:16:34.21)\n",
      "Using FIFO scheduling algorithm.\n",
      "Logical resource usage: 2.0/128 CPUs, 0/0 GPUs\n",
      "Result logdir: /tmp/ray/session_2024-05-29_06-54-58_814481_446177/artifacts/2024-05-29_07-12-59/TorchTrainer_2024-05-29_07-12-59/driver_artifacts\n",
      "Number of trials: 1/1 (1 RUNNING)\n",
      "\n",
      "\n",
      "== Status ==\n",
      "Current time: 2024-05-29 07:29:38 (running for 00:16:39.23)\n",
      "Using FIFO scheduling algorithm.\n",
      "Logical resource usage: 2.0/128 CPUs, 0/0 GPUs\n",
      "Result logdir: /tmp/ray/session_2024-05-29_06-54-58_814481_446177/artifacts/2024-05-29_07-12-59/TorchTrainer_2024-05-29_07-12-59/driver_artifacts\n",
      "Number of trials: 1/1 (1 RUNNING)\n",
      "\n",
      "\n"
     ]
    },
    {
     "name": "stderr",
     "output_type": "stream",
     "text": [
      "\u001b[36m(RayTrainWorker pid=468095)\u001b[0m \n",
      " 68%|██████▊   | 111/163 [10:58<05:58,  6.89s/it]\u001b[A\n"
     ]
    },
    {
     "name": "stdout",
     "output_type": "stream",
     "text": [
      "== Status ==\n",
      "Current time: 2024-05-29 07:29:43 (running for 00:16:44.25)\n",
      "Using FIFO scheduling algorithm.\n",
      "Logical resource usage: 2.0/128 CPUs, 0/0 GPUs\n",
      "Result logdir: /tmp/ray/session_2024-05-29_06-54-58_814481_446177/artifacts/2024-05-29_07-12-59/TorchTrainer_2024-05-29_07-12-59/driver_artifacts\n",
      "Number of trials: 1/1 (1 RUNNING)\n",
      "\n",
      "\n"
     ]
    },
    {
     "name": "stderr",
     "output_type": "stream",
     "text": [
      "\u001b[36m(RayTrainWorker pid=468095)\u001b[0m \n",
      " 69%|██████▊   | 112/163 [11:05<05:50,  6.88s/it]\u001b[A\n"
     ]
    },
    {
     "name": "stdout",
     "output_type": "stream",
     "text": [
      "== Status ==\n",
      "Current time: 2024-05-29 07:29:48 (running for 00:16:49.27)\n",
      "Using FIFO scheduling algorithm.\n",
      "Logical resource usage: 2.0/128 CPUs, 0/0 GPUs\n",
      "Result logdir: /tmp/ray/session_2024-05-29_06-54-58_814481_446177/artifacts/2024-05-29_07-12-59/TorchTrainer_2024-05-29_07-12-59/driver_artifacts\n",
      "Number of trials: 1/1 (1 RUNNING)\n",
      "\n",
      "\n"
     ]
    },
    {
     "name": "stderr",
     "output_type": "stream",
     "text": [
      "\u001b[36m(RayTrainWorker pid=468095)\u001b[0m \n",
      " 69%|██████▉   | 113/163 [11:11<05:36,  6.73s/it]\u001b[A\n"
     ]
    },
    {
     "name": "stdout",
     "output_type": "stream",
     "text": [
      "== Status ==\n",
      "Current time: 2024-05-29 07:29:53 (running for 00:16:54.29)\n",
      "Using FIFO scheduling algorithm.\n",
      "Logical resource usage: 2.0/128 CPUs, 0/0 GPUs\n",
      "Result logdir: /tmp/ray/session_2024-05-29_06-54-58_814481_446177/artifacts/2024-05-29_07-12-59/TorchTrainer_2024-05-29_07-12-59/driver_artifacts\n",
      "Number of trials: 1/1 (1 RUNNING)\n",
      "\n",
      "\n"
     ]
    },
    {
     "name": "stderr",
     "output_type": "stream",
     "text": [
      "\u001b[36m(RayTrainWorker pid=468095)\u001b[0m \n",
      " 70%|██████▉   | 114/163 [11:18<05:30,  6.74s/it]\u001b[A\n"
     ]
    },
    {
     "name": "stdout",
     "output_type": "stream",
     "text": [
      "== Status ==\n",
      "Current time: 2024-05-29 07:29:58 (running for 00:16:59.31)\n",
      "Using FIFO scheduling algorithm.\n",
      "Logical resource usage: 2.0/128 CPUs, 0/0 GPUs\n",
      "Result logdir: /tmp/ray/session_2024-05-29_06-54-58_814481_446177/artifacts/2024-05-29_07-12-59/TorchTrainer_2024-05-29_07-12-59/driver_artifacts\n",
      "Number of trials: 1/1 (1 RUNNING)\n",
      "\n",
      "\n",
      "== Status ==\n",
      "Current time: 2024-05-29 07:30:03 (running for 00:17:04.33)\n",
      "Using FIFO scheduling algorithm.\n",
      "Logical resource usage: 2.0/128 CPUs, 0/0 GPUs\n",
      "Result logdir: /tmp/ray/session_2024-05-29_06-54-58_814481_446177/artifacts/2024-05-29_07-12-59/TorchTrainer_2024-05-29_07-12-59/driver_artifacts\n",
      "Number of trials: 1/1 (1 RUNNING)\n",
      "\n",
      "\n"
     ]
    },
    {
     "name": "stderr",
     "output_type": "stream",
     "text": [
      "\u001b[36m(RayTrainWorker pid=468095)\u001b[0m \n",
      " 71%|███████   | 115/163 [11:24<05:12,  6.51s/it]\u001b[A\n"
     ]
    },
    {
     "name": "stdout",
     "output_type": "stream",
     "text": [
      "== Status ==\n",
      "Current time: 2024-05-29 07:30:08 (running for 00:17:09.35)\n",
      "Using FIFO scheduling algorithm.\n",
      "Logical resource usage: 2.0/128 CPUs, 0/0 GPUs\n",
      "Result logdir: /tmp/ray/session_2024-05-29_06-54-58_814481_446177/artifacts/2024-05-29_07-12-59/TorchTrainer_2024-05-29_07-12-59/driver_artifacts\n",
      "Number of trials: 1/1 (1 RUNNING)\n",
      "\n",
      "\n"
     ]
    },
    {
     "name": "stderr",
     "output_type": "stream",
     "text": [
      "\u001b[36m(RayTrainWorker pid=468095)\u001b[0m \n",
      " 71%|███████   | 116/163 [11:30<05:00,  6.39s/it]\u001b[A\n"
     ]
    },
    {
     "name": "stdout",
     "output_type": "stream",
     "text": [
      "== Status ==\n",
      "Current time: 2024-05-29 07:30:13 (running for 00:17:14.37)\n",
      "Using FIFO scheduling algorithm.\n",
      "Logical resource usage: 2.0/128 CPUs, 0/0 GPUs\n",
      "Result logdir: /tmp/ray/session_2024-05-29_06-54-58_814481_446177/artifacts/2024-05-29_07-12-59/TorchTrainer_2024-05-29_07-12-59/driver_artifacts\n",
      "Number of trials: 1/1 (1 RUNNING)\n",
      "\n",
      "\n"
     ]
    },
    {
     "name": "stderr",
     "output_type": "stream",
     "text": [
      "\u001b[36m(RayTrainWorker pid=468095)\u001b[0m \n",
      " 72%|███████▏  | 117/163 [11:36<04:50,  6.32s/it]\u001b[A\n"
     ]
    },
    {
     "name": "stdout",
     "output_type": "stream",
     "text": [
      "== Status ==\n",
      "Current time: 2024-05-29 07:30:18 (running for 00:17:19.39)\n",
      "Using FIFO scheduling algorithm.\n",
      "Logical resource usage: 2.0/128 CPUs, 0/0 GPUs\n",
      "Result logdir: /tmp/ray/session_2024-05-29_06-54-58_814481_446177/artifacts/2024-05-29_07-12-59/TorchTrainer_2024-05-29_07-12-59/driver_artifacts\n",
      "Number of trials: 1/1 (1 RUNNING)\n",
      "\n",
      "\n"
     ]
    },
    {
     "name": "stderr",
     "output_type": "stream",
     "text": [
      "\u001b[36m(RayTrainWorker pid=468095)\u001b[0m \n",
      " 72%|███████▏  | 118/163 [11:43<04:44,  6.32s/it]\u001b[A\n"
     ]
    },
    {
     "name": "stdout",
     "output_type": "stream",
     "text": [
      "== Status ==\n",
      "Current time: 2024-05-29 07:30:23 (running for 00:17:24.41)\n",
      "Using FIFO scheduling algorithm.\n",
      "Logical resource usage: 2.0/128 CPUs, 0/0 GPUs\n",
      "Result logdir: /tmp/ray/session_2024-05-29_06-54-58_814481_446177/artifacts/2024-05-29_07-12-59/TorchTrainer_2024-05-29_07-12-59/driver_artifacts\n",
      "Number of trials: 1/1 (1 RUNNING)\n",
      "\n",
      "\n",
      "== Status ==\n",
      "Current time: 2024-05-29 07:30:29 (running for 00:17:29.43)\n",
      "Using FIFO scheduling algorithm.\n",
      "Logical resource usage: 2.0/128 CPUs, 0/0 GPUs\n",
      "Result logdir: /tmp/ray/session_2024-05-29_06-54-58_814481_446177/artifacts/2024-05-29_07-12-59/TorchTrainer_2024-05-29_07-12-59/driver_artifacts\n",
      "Number of trials: 1/1 (1 RUNNING)\n",
      "\n",
      "\n"
     ]
    },
    {
     "name": "stderr",
     "output_type": "stream",
     "text": [
      "\u001b[36m(RayTrainWorker pid=468095)\u001b[0m \n",
      " 73%|███████▎  | 119/163 [11:49<04:34,  6.25s/it]\u001b[A\n"
     ]
    },
    {
     "name": "stdout",
     "output_type": "stream",
     "text": [
      "== Status ==\n",
      "Current time: 2024-05-29 07:30:34 (running for 00:17:34.45)\n",
      "Using FIFO scheduling algorithm.\n",
      "Logical resource usage: 2.0/128 CPUs, 0/0 GPUs\n",
      "Result logdir: /tmp/ray/session_2024-05-29_06-54-58_814481_446177/artifacts/2024-05-29_07-12-59/TorchTrainer_2024-05-29_07-12-59/driver_artifacts\n",
      "Number of trials: 1/1 (1 RUNNING)\n",
      "\n",
      "\n"
     ]
    },
    {
     "name": "stderr",
     "output_type": "stream",
     "text": [
      "\u001b[36m(RayTrainWorker pid=468095)\u001b[0m \n",
      " 74%|███████▎  | 120/163 [11:55<04:25,  6.17s/it]\u001b[A\n"
     ]
    },
    {
     "name": "stdout",
     "output_type": "stream",
     "text": [
      "== Status ==\n",
      "Current time: 2024-05-29 07:30:39 (running for 00:17:39.47)\n",
      "Using FIFO scheduling algorithm.\n",
      "Logical resource usage: 2.0/128 CPUs, 0/0 GPUs\n",
      "Result logdir: /tmp/ray/session_2024-05-29_06-54-58_814481_446177/artifacts/2024-05-29_07-12-59/TorchTrainer_2024-05-29_07-12-59/driver_artifacts\n",
      "Number of trials: 1/1 (1 RUNNING)\n",
      "\n",
      "\n"
     ]
    },
    {
     "name": "stderr",
     "output_type": "stream",
     "text": [
      "\u001b[36m(RayTrainWorker pid=468095)\u001b[0m \n",
      " 74%|███████▍  | 121/163 [12:01<04:14,  6.05s/it]\u001b[A\n"
     ]
    },
    {
     "name": "stdout",
     "output_type": "stream",
     "text": [
      "== Status ==\n",
      "Current time: 2024-05-29 07:30:44 (running for 00:17:44.49)\n",
      "Using FIFO scheduling algorithm.\n",
      "Logical resource usage: 2.0/128 CPUs, 0/0 GPUs\n",
      "Result logdir: /tmp/ray/session_2024-05-29_06-54-58_814481_446177/artifacts/2024-05-29_07-12-59/TorchTrainer_2024-05-29_07-12-59/driver_artifacts\n",
      "Number of trials: 1/1 (1 RUNNING)\n",
      "\n",
      "\n"
     ]
    },
    {
     "name": "stderr",
     "output_type": "stream",
     "text": [
      "\u001b[36m(RayTrainWorker pid=468095)\u001b[0m \n",
      " 75%|███████▍  | 122/163 [12:06<04:04,  5.96s/it]\u001b[A\n"
     ]
    },
    {
     "name": "stdout",
     "output_type": "stream",
     "text": [
      "== Status ==\n",
      "Current time: 2024-05-29 07:30:49 (running for 00:17:49.51)\n",
      "Using FIFO scheduling algorithm.\n",
      "Logical resource usage: 2.0/128 CPUs, 0/0 GPUs\n",
      "Result logdir: /tmp/ray/session_2024-05-29_06-54-58_814481_446177/artifacts/2024-05-29_07-12-59/TorchTrainer_2024-05-29_07-12-59/driver_artifacts\n",
      "Number of trials: 1/1 (1 RUNNING)\n",
      "\n",
      "\n"
     ]
    },
    {
     "name": "stderr",
     "output_type": "stream",
     "text": [
      "\u001b[36m(RayTrainWorker pid=468095)\u001b[0m \n",
      " 75%|███████▌  | 123/163 [12:12<03:55,  5.89s/it]\u001b[A\n"
     ]
    },
    {
     "name": "stdout",
     "output_type": "stream",
     "text": [
      "== Status ==\n",
      "Current time: 2024-05-29 07:30:54 (running for 00:17:54.53)\n",
      "Using FIFO scheduling algorithm.\n",
      "Logical resource usage: 2.0/128 CPUs, 0/0 GPUs\n",
      "Result logdir: /tmp/ray/session_2024-05-29_06-54-58_814481_446177/artifacts/2024-05-29_07-12-59/TorchTrainer_2024-05-29_07-12-59/driver_artifacts\n",
      "Number of trials: 1/1 (1 RUNNING)\n",
      "\n",
      "\n"
     ]
    },
    {
     "name": "stderr",
     "output_type": "stream",
     "text": [
      "\u001b[36m(RayTrainWorker pid=468095)\u001b[0m \n",
      " 76%|███████▌  | 124/163 [12:18<03:48,  5.85s/it]\u001b[A\n"
     ]
    },
    {
     "name": "stdout",
     "output_type": "stream",
     "text": [
      "== Status ==\n",
      "Current time: 2024-05-29 07:30:59 (running for 00:17:59.54)\n",
      "Using FIFO scheduling algorithm.\n",
      "Logical resource usage: 2.0/128 CPUs, 0/0 GPUs\n",
      "Result logdir: /tmp/ray/session_2024-05-29_06-54-58_814481_446177/artifacts/2024-05-29_07-12-59/TorchTrainer_2024-05-29_07-12-59/driver_artifacts\n",
      "Number of trials: 1/1 (1 RUNNING)\n",
      "\n",
      "\n",
      "== Status ==\n",
      "Current time: 2024-05-29 07:31:04 (running for 00:18:04.56)\n",
      "Using FIFO scheduling algorithm.\n",
      "Logical resource usage: 2.0/128 CPUs, 0/0 GPUs\n",
      "Result logdir: /tmp/ray/session_2024-05-29_06-54-58_814481_446177/artifacts/2024-05-29_07-12-59/TorchTrainer_2024-05-29_07-12-59/driver_artifacts\n",
      "Number of trials: 1/1 (1 RUNNING)\n",
      "\n",
      "\n"
     ]
    },
    {
     "name": "stderr",
     "output_type": "stream",
     "text": [
      "\u001b[36m(RayTrainWorker pid=468095)\u001b[0m \n",
      " 77%|███████▋  | 125/163 [12:24<03:40,  5.81s/it]\u001b[A\n"
     ]
    },
    {
     "name": "stdout",
     "output_type": "stream",
     "text": [
      "== Status ==\n",
      "Current time: 2024-05-29 07:31:09 (running for 00:18:09.58)\n",
      "Using FIFO scheduling algorithm.\n",
      "Logical resource usage: 2.0/128 CPUs, 0/0 GPUs\n",
      "Result logdir: /tmp/ray/session_2024-05-29_06-54-58_814481_446177/artifacts/2024-05-29_07-12-59/TorchTrainer_2024-05-29_07-12-59/driver_artifacts\n",
      "Number of trials: 1/1 (1 RUNNING)\n",
      "\n",
      "\n"
     ]
    },
    {
     "name": "stderr",
     "output_type": "stream",
     "text": [
      "\u001b[36m(RayTrainWorker pid=468095)\u001b[0m \n",
      " 77%|███████▋  | 126/163 [12:29<03:33,  5.78s/it]\u001b[A\n"
     ]
    },
    {
     "name": "stdout",
     "output_type": "stream",
     "text": [
      "== Status ==\n",
      "Current time: 2024-05-29 07:31:14 (running for 00:18:14.61)\n",
      "Using FIFO scheduling algorithm.\n",
      "Logical resource usage: 2.0/128 CPUs, 0/0 GPUs\n",
      "Result logdir: /tmp/ray/session_2024-05-29_06-54-58_814481_446177/artifacts/2024-05-29_07-12-59/TorchTrainer_2024-05-29_07-12-59/driver_artifacts\n",
      "Number of trials: 1/1 (1 RUNNING)\n",
      "\n",
      "\n"
     ]
    },
    {
     "name": "stderr",
     "output_type": "stream",
     "text": [
      "\u001b[36m(RayTrainWorker pid=468095)\u001b[0m \n",
      " 78%|███████▊  | 127/163 [12:35<03:32,  5.89s/it]\u001b[A\n"
     ]
    },
    {
     "name": "stdout",
     "output_type": "stream",
     "text": [
      "== Status ==\n",
      "Current time: 2024-05-29 07:31:19 (running for 00:18:19.63)\n",
      "Using FIFO scheduling algorithm.\n",
      "Logical resource usage: 2.0/128 CPUs, 0/0 GPUs\n",
      "Result logdir: /tmp/ray/session_2024-05-29_06-54-58_814481_446177/artifacts/2024-05-29_07-12-59/TorchTrainer_2024-05-29_07-12-59/driver_artifacts\n",
      "Number of trials: 1/1 (1 RUNNING)\n",
      "\n",
      "\n"
     ]
    },
    {
     "name": "stderr",
     "output_type": "stream",
     "text": [
      "\u001b[36m(RayTrainWorker pid=468095)\u001b[0m \n",
      " 79%|███████▊  | 128/163 [12:42<03:33,  6.10s/it]\u001b[A\n"
     ]
    },
    {
     "name": "stdout",
     "output_type": "stream",
     "text": [
      "== Status ==\n",
      "Current time: 2024-05-29 07:31:24 (running for 00:18:24.65)\n",
      "Using FIFO scheduling algorithm.\n",
      "Logical resource usage: 2.0/128 CPUs, 0/0 GPUs\n",
      "Result logdir: /tmp/ray/session_2024-05-29_06-54-58_814481_446177/artifacts/2024-05-29_07-12-59/TorchTrainer_2024-05-29_07-12-59/driver_artifacts\n",
      "Number of trials: 1/1 (1 RUNNING)\n",
      "\n",
      "\n",
      "== Status ==\n",
      "Current time: 2024-05-29 07:31:29 (running for 00:18:29.67)\n",
      "Using FIFO scheduling algorithm.\n",
      "Logical resource usage: 2.0/128 CPUs, 0/0 GPUs\n",
      "Result logdir: /tmp/ray/session_2024-05-29_06-54-58_814481_446177/artifacts/2024-05-29_07-12-59/TorchTrainer_2024-05-29_07-12-59/driver_artifacts\n",
      "Number of trials: 1/1 (1 RUNNING)\n",
      "\n",
      "\n"
     ]
    },
    {
     "name": "stderr",
     "output_type": "stream",
     "text": [
      "\u001b[36m(RayTrainWorker pid=468095)\u001b[0m \n",
      " 79%|███████▉  | 129/163 [12:49<03:36,  6.36s/it]\u001b[A\n"
     ]
    },
    {
     "name": "stdout",
     "output_type": "stream",
     "text": [
      "== Status ==\n",
      "Current time: 2024-05-29 07:31:34 (running for 00:18:34.69)\n",
      "Using FIFO scheduling algorithm.\n",
      "Logical resource usage: 2.0/128 CPUs, 0/0 GPUs\n",
      "Result logdir: /tmp/ray/session_2024-05-29_06-54-58_814481_446177/artifacts/2024-05-29_07-12-59/TorchTrainer_2024-05-29_07-12-59/driver_artifacts\n",
      "Number of trials: 1/1 (1 RUNNING)\n",
      "\n",
      "\n"
     ]
    },
    {
     "name": "stderr",
     "output_type": "stream",
     "text": [
      "\u001b[36m(RayTrainWorker pid=468095)\u001b[0m \n",
      " 80%|███████▉  | 130/163 [12:56<03:33,  6.48s/it]\u001b[A\n"
     ]
    },
    {
     "name": "stdout",
     "output_type": "stream",
     "text": [
      "== Status ==\n",
      "Current time: 2024-05-29 07:31:39 (running for 00:18:39.71)\n",
      "Using FIFO scheduling algorithm.\n",
      "Logical resource usage: 2.0/128 CPUs, 0/0 GPUs\n",
      "Result logdir: /tmp/ray/session_2024-05-29_06-54-58_814481_446177/artifacts/2024-05-29_07-12-59/TorchTrainer_2024-05-29_07-12-59/driver_artifacts\n",
      "Number of trials: 1/1 (1 RUNNING)\n",
      "\n",
      "\n"
     ]
    },
    {
     "name": "stderr",
     "output_type": "stream",
     "text": [
      "\u001b[36m(RayTrainWorker pid=468095)\u001b[0m \n",
      " 80%|████████  | 131/163 [13:02<03:29,  6.55s/it]\u001b[A\n"
     ]
    },
    {
     "name": "stdout",
     "output_type": "stream",
     "text": [
      "== Status ==\n",
      "Current time: 2024-05-29 07:31:44 (running for 00:18:44.74)\n",
      "Using FIFO scheduling algorithm.\n",
      "Logical resource usage: 2.0/128 CPUs, 0/0 GPUs\n",
      "Result logdir: /tmp/ray/session_2024-05-29_06-54-58_814481_446177/artifacts/2024-05-29_07-12-59/TorchTrainer_2024-05-29_07-12-59/driver_artifacts\n",
      "Number of trials: 1/1 (1 RUNNING)\n",
      "\n",
      "\n",
      "== Status ==\n",
      "Current time: 2024-05-29 07:31:49 (running for 00:18:49.77)\n",
      "Using FIFO scheduling algorithm.\n",
      "Logical resource usage: 2.0/128 CPUs, 0/0 GPUs\n",
      "Result logdir: /tmp/ray/session_2024-05-29_06-54-58_814481_446177/artifacts/2024-05-29_07-12-59/TorchTrainer_2024-05-29_07-12-59/driver_artifacts\n",
      "Number of trials: 1/1 (1 RUNNING)\n",
      "\n",
      "\n"
     ]
    },
    {
     "name": "stderr",
     "output_type": "stream",
     "text": [
      "\u001b[36m(RayTrainWorker pid=468095)\u001b[0m \n",
      " 81%|████████  | 132/163 [13:09<03:23,  6.58s/it]\u001b[A\n"
     ]
    },
    {
     "name": "stdout",
     "output_type": "stream",
     "text": [
      "== Status ==\n",
      "Current time: 2024-05-29 07:31:54 (running for 00:18:54.80)\n",
      "Using FIFO scheduling algorithm.\n",
      "Logical resource usage: 2.0/128 CPUs, 0/0 GPUs\n",
      "Result logdir: /tmp/ray/session_2024-05-29_06-54-58_814481_446177/artifacts/2024-05-29_07-12-59/TorchTrainer_2024-05-29_07-12-59/driver_artifacts\n",
      "Number of trials: 1/1 (1 RUNNING)\n",
      "\n",
      "\n"
     ]
    },
    {
     "name": "stderr",
     "output_type": "stream",
     "text": [
      "\u001b[36m(RayTrainWorker pid=468095)\u001b[0m \n",
      " 82%|████████▏ | 133/163 [13:16<03:18,  6.61s/it]\u001b[A\n"
     ]
    },
    {
     "name": "stdout",
     "output_type": "stream",
     "text": [
      "== Status ==\n",
      "Current time: 2024-05-29 07:31:59 (running for 00:18:59.82)\n",
      "Using FIFO scheduling algorithm.\n",
      "Logical resource usage: 2.0/128 CPUs, 0/0 GPUs\n",
      "Result logdir: /tmp/ray/session_2024-05-29_06-54-58_814481_446177/artifacts/2024-05-29_07-12-59/TorchTrainer_2024-05-29_07-12-59/driver_artifacts\n",
      "Number of trials: 1/1 (1 RUNNING)\n",
      "\n",
      "\n"
     ]
    },
    {
     "name": "stderr",
     "output_type": "stream",
     "text": [
      "\u001b[36m(RayTrainWorker pid=468095)\u001b[0m \n",
      " 82%|████████▏ | 134/163 [13:23<03:13,  6.67s/it]\u001b[A\n"
     ]
    },
    {
     "name": "stdout",
     "output_type": "stream",
     "text": [
      "== Status ==\n",
      "Current time: 2024-05-29 07:32:04 (running for 00:19:04.85)\n",
      "Using FIFO scheduling algorithm.\n",
      "Logical resource usage: 2.0/128 CPUs, 0/0 GPUs\n",
      "Result logdir: /tmp/ray/session_2024-05-29_06-54-58_814481_446177/artifacts/2024-05-29_07-12-59/TorchTrainer_2024-05-29_07-12-59/driver_artifacts\n",
      "Number of trials: 1/1 (1 RUNNING)\n",
      "\n",
      "\n",
      "== Status ==\n",
      "Current time: 2024-05-29 07:32:09 (running for 00:19:09.87)\n",
      "Using FIFO scheduling algorithm.\n",
      "Logical resource usage: 2.0/128 CPUs, 0/0 GPUs\n",
      "Result logdir: /tmp/ray/session_2024-05-29_06-54-58_814481_446177/artifacts/2024-05-29_07-12-59/TorchTrainer_2024-05-29_07-12-59/driver_artifacts\n",
      "Number of trials: 1/1 (1 RUNNING)\n",
      "\n",
      "\n"
     ]
    },
    {
     "name": "stderr",
     "output_type": "stream",
     "text": [
      "\u001b[36m(RayTrainWorker pid=468095)\u001b[0m \n",
      " 83%|████████▎ | 135/163 [13:29<03:08,  6.74s/it]\u001b[A\n"
     ]
    },
    {
     "name": "stdout",
     "output_type": "stream",
     "text": [
      "== Status ==\n",
      "Current time: 2024-05-29 07:32:14 (running for 00:19:14.89)\n",
      "Using FIFO scheduling algorithm.\n",
      "Logical resource usage: 2.0/128 CPUs, 0/0 GPUs\n",
      "Result logdir: /tmp/ray/session_2024-05-29_06-54-58_814481_446177/artifacts/2024-05-29_07-12-59/TorchTrainer_2024-05-29_07-12-59/driver_artifacts\n",
      "Number of trials: 1/1 (1 RUNNING)\n",
      "\n",
      "\n"
     ]
    },
    {
     "name": "stderr",
     "output_type": "stream",
     "text": [
      "\u001b[36m(RayTrainWorker pid=468095)\u001b[0m \n",
      " 83%|████████▎ | 136/163 [13:37<03:04,  6.83s/it]\u001b[A\n"
     ]
    },
    {
     "name": "stdout",
     "output_type": "stream",
     "text": [
      "== Status ==\n",
      "Current time: 2024-05-29 07:32:19 (running for 00:19:19.91)\n",
      "Using FIFO scheduling algorithm.\n",
      "Logical resource usage: 2.0/128 CPUs, 0/0 GPUs\n",
      "Result logdir: /tmp/ray/session_2024-05-29_06-54-58_814481_446177/artifacts/2024-05-29_07-12-59/TorchTrainer_2024-05-29_07-12-59/driver_artifacts\n",
      "Number of trials: 1/1 (1 RUNNING)\n",
      "\n",
      "\n"
     ]
    },
    {
     "name": "stderr",
     "output_type": "stream",
     "text": [
      "\u001b[36m(RayTrainWorker pid=468095)\u001b[0m \n",
      " 84%|████████▍ | 137/163 [13:43<02:57,  6.83s/it]\u001b[A\n"
     ]
    },
    {
     "name": "stdout",
     "output_type": "stream",
     "text": [
      "== Status ==\n",
      "Current time: 2024-05-29 07:32:24 (running for 00:19:24.93)\n",
      "Using FIFO scheduling algorithm.\n",
      "Logical resource usage: 2.0/128 CPUs, 0/0 GPUs\n",
      "Result logdir: /tmp/ray/session_2024-05-29_06-54-58_814481_446177/artifacts/2024-05-29_07-12-59/TorchTrainer_2024-05-29_07-12-59/driver_artifacts\n",
      "Number of trials: 1/1 (1 RUNNING)\n",
      "\n",
      "\n",
      "== Status ==\n",
      "Current time: 2024-05-29 07:32:29 (running for 00:19:29.96)\n",
      "Using FIFO scheduling algorithm.\n",
      "Logical resource usage: 2.0/128 CPUs, 0/0 GPUs\n",
      "Result logdir: /tmp/ray/session_2024-05-29_06-54-58_814481_446177/artifacts/2024-05-29_07-12-59/TorchTrainer_2024-05-29_07-12-59/driver_artifacts\n",
      "Number of trials: 1/1 (1 RUNNING)\n",
      "\n",
      "\n"
     ]
    },
    {
     "name": "stderr",
     "output_type": "stream",
     "text": [
      "\u001b[36m(RayTrainWorker pid=468095)\u001b[0m \n",
      " 85%|████████▍ | 138/163 [13:50<02:50,  6.82s/it]\u001b[A\n"
     ]
    },
    {
     "name": "stdout",
     "output_type": "stream",
     "text": [
      "== Status ==\n",
      "Current time: 2024-05-29 07:32:34 (running for 00:19:34.99)\n",
      "Using FIFO scheduling algorithm.\n",
      "Logical resource usage: 2.0/128 CPUs, 0/0 GPUs\n",
      "Result logdir: /tmp/ray/session_2024-05-29_06-54-58_814481_446177/artifacts/2024-05-29_07-12-59/TorchTrainer_2024-05-29_07-12-59/driver_artifacts\n",
      "Number of trials: 1/1 (1 RUNNING)\n",
      "\n",
      "\n"
     ]
    },
    {
     "name": "stderr",
     "output_type": "stream",
     "text": [
      "\u001b[36m(RayTrainWorker pid=468095)\u001b[0m \n",
      " 85%|████████▌ | 139/163 [13:57<02:44,  6.83s/it]\u001b[A\n"
     ]
    },
    {
     "name": "stdout",
     "output_type": "stream",
     "text": [
      "== Status ==\n",
      "Current time: 2024-05-29 07:32:39 (running for 00:19:40.01)\n",
      "Using FIFO scheduling algorithm.\n",
      "Logical resource usage: 2.0/128 CPUs, 0/0 GPUs\n",
      "Result logdir: /tmp/ray/session_2024-05-29_06-54-58_814481_446177/artifacts/2024-05-29_07-12-59/TorchTrainer_2024-05-29_07-12-59/driver_artifacts\n",
      "Number of trials: 1/1 (1 RUNNING)\n",
      "\n",
      "\n"
     ]
    },
    {
     "name": "stderr",
     "output_type": "stream",
     "text": [
      "\u001b[36m(RayTrainWorker pid=468095)\u001b[0m \n",
      " 86%|████████▌ | 140/163 [14:04<02:36,  6.79s/it]\u001b[A\n"
     ]
    },
    {
     "name": "stdout",
     "output_type": "stream",
     "text": [
      "== Status ==\n",
      "Current time: 2024-05-29 07:32:44 (running for 00:19:45.04)\n",
      "Using FIFO scheduling algorithm.\n",
      "Logical resource usage: 2.0/128 CPUs, 0/0 GPUs\n",
      "Result logdir: /tmp/ray/session_2024-05-29_06-54-58_814481_446177/artifacts/2024-05-29_07-12-59/TorchTrainer_2024-05-29_07-12-59/driver_artifacts\n",
      "Number of trials: 1/1 (1 RUNNING)\n",
      "\n",
      "\n",
      "== Status ==\n",
      "Current time: 2024-05-29 07:32:49 (running for 00:19:50.05)\n",
      "Using FIFO scheduling algorithm.\n",
      "Logical resource usage: 2.0/128 CPUs, 0/0 GPUs\n",
      "Result logdir: /tmp/ray/session_2024-05-29_06-54-58_814481_446177/artifacts/2024-05-29_07-12-59/TorchTrainer_2024-05-29_07-12-59/driver_artifacts\n",
      "Number of trials: 1/1 (1 RUNNING)\n",
      "\n",
      "\n"
     ]
    },
    {
     "name": "stderr",
     "output_type": "stream",
     "text": [
      "\u001b[36m(RayTrainWorker pid=468095)\u001b[0m \n",
      " 87%|████████▋ | 141/163 [14:10<02:28,  6.76s/it]\u001b[A\n"
     ]
    },
    {
     "name": "stdout",
     "output_type": "stream",
     "text": [
      "== Status ==\n",
      "Current time: 2024-05-29 07:32:54 (running for 00:19:55.08)\n",
      "Using FIFO scheduling algorithm.\n",
      "Logical resource usage: 2.0/128 CPUs, 0/0 GPUs\n",
      "Result logdir: /tmp/ray/session_2024-05-29_06-54-58_814481_446177/artifacts/2024-05-29_07-12-59/TorchTrainer_2024-05-29_07-12-59/driver_artifacts\n",
      "Number of trials: 1/1 (1 RUNNING)\n",
      "\n",
      "\n"
     ]
    },
    {
     "name": "stderr",
     "output_type": "stream",
     "text": [
      "\u001b[36m(RayTrainWorker pid=468095)\u001b[0m \n",
      " 87%|████████▋ | 142/163 [14:17<02:21,  6.75s/it]\u001b[A\n"
     ]
    },
    {
     "name": "stdout",
     "output_type": "stream",
     "text": [
      "== Status ==\n",
      "Current time: 2024-05-29 07:32:59 (running for 00:20:00.10)\n",
      "Using FIFO scheduling algorithm.\n",
      "Logical resource usage: 2.0/128 CPUs, 0/0 GPUs\n",
      "Result logdir: /tmp/ray/session_2024-05-29_06-54-58_814481_446177/artifacts/2024-05-29_07-12-59/TorchTrainer_2024-05-29_07-12-59/driver_artifacts\n",
      "Number of trials: 1/1 (1 RUNNING)\n",
      "\n",
      "\n"
     ]
    },
    {
     "name": "stderr",
     "output_type": "stream",
     "text": [
      "\u001b[36m(RayTrainWorker pid=468095)\u001b[0m \n",
      " 88%|████████▊ | 143/163 [14:24<02:14,  6.71s/it]\u001b[A\n"
     ]
    },
    {
     "name": "stdout",
     "output_type": "stream",
     "text": [
      "== Status ==\n",
      "Current time: 2024-05-29 07:33:04 (running for 00:20:05.12)\n",
      "Using FIFO scheduling algorithm.\n",
      "Logical resource usage: 2.0/128 CPUs, 0/0 GPUs\n",
      "Result logdir: /tmp/ray/session_2024-05-29_06-54-58_814481_446177/artifacts/2024-05-29_07-12-59/TorchTrainer_2024-05-29_07-12-59/driver_artifacts\n",
      "Number of trials: 1/1 (1 RUNNING)\n",
      "\n",
      "\n",
      "== Status ==\n",
      "Current time: 2024-05-29 07:33:09 (running for 00:20:10.14)\n",
      "Using FIFO scheduling algorithm.\n",
      "Logical resource usage: 2.0/128 CPUs, 0/0 GPUs\n",
      "Result logdir: /tmp/ray/session_2024-05-29_06-54-58_814481_446177/artifacts/2024-05-29_07-12-59/TorchTrainer_2024-05-29_07-12-59/driver_artifacts\n",
      "Number of trials: 1/1 (1 RUNNING)\n",
      "\n",
      "\n"
     ]
    },
    {
     "name": "stderr",
     "output_type": "stream",
     "text": [
      "\u001b[36m(RayTrainWorker pid=468095)\u001b[0m \n",
      " 88%|████████▊ | 144/163 [14:30<02:06,  6.65s/it]\u001b[A\n"
     ]
    },
    {
     "name": "stdout",
     "output_type": "stream",
     "text": [
      "== Status ==\n",
      "Current time: 2024-05-29 07:33:14 (running for 00:20:15.16)\n",
      "Using FIFO scheduling algorithm.\n",
      "Logical resource usage: 2.0/128 CPUs, 0/0 GPUs\n",
      "Result logdir: /tmp/ray/session_2024-05-29_06-54-58_814481_446177/artifacts/2024-05-29_07-12-59/TorchTrainer_2024-05-29_07-12-59/driver_artifacts\n",
      "Number of trials: 1/1 (1 RUNNING)\n",
      "\n",
      "\n"
     ]
    },
    {
     "name": "stderr",
     "output_type": "stream",
     "text": [
      "\u001b[36m(RayTrainWorker pid=468095)\u001b[0m \n",
      " 89%|████████▉ | 145/163 [14:37<02:01,  6.72s/it]\u001b[A\n"
     ]
    },
    {
     "name": "stdout",
     "output_type": "stream",
     "text": [
      "== Status ==\n",
      "Current time: 2024-05-29 07:33:19 (running for 00:20:20.18)\n",
      "Using FIFO scheduling algorithm.\n",
      "Logical resource usage: 2.0/128 CPUs, 0/0 GPUs\n",
      "Result logdir: /tmp/ray/session_2024-05-29_06-54-58_814481_446177/artifacts/2024-05-29_07-12-59/TorchTrainer_2024-05-29_07-12-59/driver_artifacts\n",
      "Number of trials: 1/1 (1 RUNNING)\n",
      "\n",
      "\n"
     ]
    },
    {
     "name": "stderr",
     "output_type": "stream",
     "text": [
      "\u001b[36m(RayTrainWorker pid=468095)\u001b[0m \n",
      " 90%|████████▉ | 146/163 [14:44<01:55,  6.77s/it]\u001b[A\n"
     ]
    },
    {
     "name": "stdout",
     "output_type": "stream",
     "text": [
      "== Status ==\n",
      "Current time: 2024-05-29 07:33:24 (running for 00:20:25.20)\n",
      "Using FIFO scheduling algorithm.\n",
      "Logical resource usage: 2.0/128 CPUs, 0/0 GPUs\n",
      "Result logdir: /tmp/ray/session_2024-05-29_06-54-58_814481_446177/artifacts/2024-05-29_07-12-59/TorchTrainer_2024-05-29_07-12-59/driver_artifacts\n",
      "Number of trials: 1/1 (1 RUNNING)\n",
      "\n",
      "\n",
      "== Status ==\n",
      "Current time: 2024-05-29 07:33:29 (running for 00:20:30.23)\n",
      "Using FIFO scheduling algorithm.\n",
      "Logical resource usage: 2.0/128 CPUs, 0/0 GPUs\n",
      "Result logdir: /tmp/ray/session_2024-05-29_06-54-58_814481_446177/artifacts/2024-05-29_07-12-59/TorchTrainer_2024-05-29_07-12-59/driver_artifacts\n",
      "Number of trials: 1/1 (1 RUNNING)\n",
      "\n",
      "\n"
     ]
    },
    {
     "name": "stderr",
     "output_type": "stream",
     "text": [
      "\u001b[36m(RayTrainWorker pid=468095)\u001b[0m \n",
      " 90%|█████████ | 147/163 [14:51<01:49,  6.87s/it]\u001b[A\n"
     ]
    },
    {
     "name": "stdout",
     "output_type": "stream",
     "text": [
      "== Status ==\n",
      "Current time: 2024-05-29 07:33:34 (running for 00:20:35.26)\n",
      "Using FIFO scheduling algorithm.\n",
      "Logical resource usage: 2.0/128 CPUs, 0/0 GPUs\n",
      "Result logdir: /tmp/ray/session_2024-05-29_06-54-58_814481_446177/artifacts/2024-05-29_07-12-59/TorchTrainer_2024-05-29_07-12-59/driver_artifacts\n",
      "Number of trials: 1/1 (1 RUNNING)\n",
      "\n",
      "\n"
     ]
    },
    {
     "name": "stderr",
     "output_type": "stream",
     "text": [
      "\u001b[36m(RayTrainWorker pid=468095)\u001b[0m \n",
      " 91%|█████████ | 148/163 [14:58<01:44,  6.96s/it]\u001b[A\n"
     ]
    },
    {
     "name": "stdout",
     "output_type": "stream",
     "text": [
      "== Status ==\n",
      "Current time: 2024-05-29 07:33:39 (running for 00:20:40.28)\n",
      "Using FIFO scheduling algorithm.\n",
      "Logical resource usage: 2.0/128 CPUs, 0/0 GPUs\n",
      "Result logdir: /tmp/ray/session_2024-05-29_06-54-58_814481_446177/artifacts/2024-05-29_07-12-59/TorchTrainer_2024-05-29_07-12-59/driver_artifacts\n",
      "Number of trials: 1/1 (1 RUNNING)\n",
      "\n",
      "\n",
      "== Status ==\n",
      "Current time: 2024-05-29 07:33:44 (running for 00:20:45.31)\n",
      "Using FIFO scheduling algorithm.\n",
      "Logical resource usage: 2.0/128 CPUs, 0/0 GPUs\n",
      "Result logdir: /tmp/ray/session_2024-05-29_06-54-58_814481_446177/artifacts/2024-05-29_07-12-59/TorchTrainer_2024-05-29_07-12-59/driver_artifacts\n",
      "Number of trials: 1/1 (1 RUNNING)\n",
      "\n",
      "\n"
     ]
    },
    {
     "name": "stderr",
     "output_type": "stream",
     "text": [
      "\u001b[36m(RayTrainWorker pid=468095)\u001b[0m \n",
      " 91%|█████████▏| 149/163 [15:05<01:36,  6.93s/it]\u001b[A\n"
     ]
    },
    {
     "name": "stdout",
     "output_type": "stream",
     "text": [
      "== Status ==\n",
      "Current time: 2024-05-29 07:33:49 (running for 00:20:50.33)\n",
      "Using FIFO scheduling algorithm.\n",
      "Logical resource usage: 2.0/128 CPUs, 0/0 GPUs\n",
      "Result logdir: /tmp/ray/session_2024-05-29_06-54-58_814481_446177/artifacts/2024-05-29_07-12-59/TorchTrainer_2024-05-29_07-12-59/driver_artifacts\n",
      "Number of trials: 1/1 (1 RUNNING)\n",
      "\n",
      "\n"
     ]
    },
    {
     "name": "stderr",
     "output_type": "stream",
     "text": [
      "\u001b[36m(RayTrainWorker pid=468095)\u001b[0m \n",
      " 92%|█████████▏| 150/163 [15:12<01:29,  6.86s/it]\u001b[A\n"
     ]
    },
    {
     "name": "stdout",
     "output_type": "stream",
     "text": [
      "== Status ==\n",
      "Current time: 2024-05-29 07:33:54 (running for 00:20:55.35)\n",
      "Using FIFO scheduling algorithm.\n",
      "Logical resource usage: 2.0/128 CPUs, 0/0 GPUs\n",
      "Result logdir: /tmp/ray/session_2024-05-29_06-54-58_814481_446177/artifacts/2024-05-29_07-12-59/TorchTrainer_2024-05-29_07-12-59/driver_artifacts\n",
      "Number of trials: 1/1 (1 RUNNING)\n",
      "\n",
      "\n"
     ]
    },
    {
     "name": "stderr",
     "output_type": "stream",
     "text": [
      "\u001b[36m(RayTrainWorker pid=468095)\u001b[0m \n",
      " 93%|█████████▎| 151/163 [15:19<01:21,  6.81s/it]\u001b[A\n"
     ]
    },
    {
     "name": "stdout",
     "output_type": "stream",
     "text": [
      "== Status ==\n",
      "Current time: 2024-05-29 07:33:59 (running for 00:21:00.37)\n",
      "Using FIFO scheduling algorithm.\n",
      "Logical resource usage: 2.0/128 CPUs, 0/0 GPUs\n",
      "Result logdir: /tmp/ray/session_2024-05-29_06-54-58_814481_446177/artifacts/2024-05-29_07-12-59/TorchTrainer_2024-05-29_07-12-59/driver_artifacts\n",
      "Number of trials: 1/1 (1 RUNNING)\n",
      "\n",
      "\n",
      "== Status ==\n",
      "Current time: 2024-05-29 07:34:04 (running for 00:21:05.39)\n",
      "Using FIFO scheduling algorithm.\n",
      "Logical resource usage: 2.0/128 CPUs, 0/0 GPUs\n",
      "Result logdir: /tmp/ray/session_2024-05-29_06-54-58_814481_446177/artifacts/2024-05-29_07-12-59/TorchTrainer_2024-05-29_07-12-59/driver_artifacts\n",
      "Number of trials: 1/1 (1 RUNNING)\n",
      "\n",
      "\n"
     ]
    },
    {
     "name": "stderr",
     "output_type": "stream",
     "text": [
      "\u001b[36m(RayTrainWorker pid=468095)\u001b[0m \n",
      " 93%|█████████▎| 152/163 [15:26<01:15,  6.88s/it]\u001b[A\n"
     ]
    },
    {
     "name": "stdout",
     "output_type": "stream",
     "text": [
      "== Status ==\n",
      "Current time: 2024-05-29 07:34:09 (running for 00:21:10.41)\n",
      "Using FIFO scheduling algorithm.\n",
      "Logical resource usage: 2.0/128 CPUs, 0/0 GPUs\n",
      "Result logdir: /tmp/ray/session_2024-05-29_06-54-58_814481_446177/artifacts/2024-05-29_07-12-59/TorchTrainer_2024-05-29_07-12-59/driver_artifacts\n",
      "Number of trials: 1/1 (1 RUNNING)\n",
      "\n",
      "\n"
     ]
    },
    {
     "name": "stderr",
     "output_type": "stream",
     "text": [
      "\u001b[36m(RayTrainWorker pid=468095)\u001b[0m \n",
      " 94%|█████████▍| 153/163 [15:32<01:08,  6.87s/it]\u001b[A\n"
     ]
    },
    {
     "name": "stdout",
     "output_type": "stream",
     "text": [
      "== Status ==\n",
      "Current time: 2024-05-29 07:34:15 (running for 00:21:15.44)\n",
      "Using FIFO scheduling algorithm.\n",
      "Logical resource usage: 2.0/128 CPUs, 0/0 GPUs\n",
      "Result logdir: /tmp/ray/session_2024-05-29_06-54-58_814481_446177/artifacts/2024-05-29_07-12-59/TorchTrainer_2024-05-29_07-12-59/driver_artifacts\n",
      "Number of trials: 1/1 (1 RUNNING)\n",
      "\n",
      "\n"
     ]
    },
    {
     "name": "stderr",
     "output_type": "stream",
     "text": [
      "\u001b[36m(RayTrainWorker pid=468095)\u001b[0m \n",
      " 94%|█████████▍| 154/163 [15:39<01:01,  6.86s/it]\u001b[A\n"
     ]
    },
    {
     "name": "stdout",
     "output_type": "stream",
     "text": [
      "== Status ==\n",
      "Current time: 2024-05-29 07:34:20 (running for 00:21:20.45)\n",
      "Using FIFO scheduling algorithm.\n",
      "Logical resource usage: 2.0/128 CPUs, 0/0 GPUs\n",
      "Result logdir: /tmp/ray/session_2024-05-29_06-54-58_814481_446177/artifacts/2024-05-29_07-12-59/TorchTrainer_2024-05-29_07-12-59/driver_artifacts\n",
      "Number of trials: 1/1 (1 RUNNING)\n",
      "\n",
      "\n",
      "== Status ==\n",
      "Current time: 2024-05-29 07:34:25 (running for 00:21:25.48)\n",
      "Using FIFO scheduling algorithm.\n",
      "Logical resource usage: 2.0/128 CPUs, 0/0 GPUs\n",
      "Result logdir: /tmp/ray/session_2024-05-29_06-54-58_814481_446177/artifacts/2024-05-29_07-12-59/TorchTrainer_2024-05-29_07-12-59/driver_artifacts\n",
      "Number of trials: 1/1 (1 RUNNING)\n",
      "\n",
      "\n"
     ]
    },
    {
     "name": "stderr",
     "output_type": "stream",
     "text": [
      "\u001b[36m(RayTrainWorker pid=468095)\u001b[0m \n",
      " 95%|█████████▌| 155/163 [15:46<00:54,  6.84s/it]\u001b[A\n"
     ]
    },
    {
     "name": "stdout",
     "output_type": "stream",
     "text": [
      "== Status ==\n",
      "Current time: 2024-05-29 07:34:30 (running for 00:21:30.50)\n",
      "Using FIFO scheduling algorithm.\n",
      "Logical resource usage: 2.0/128 CPUs, 0/0 GPUs\n",
      "Result logdir: /tmp/ray/session_2024-05-29_06-54-58_814481_446177/artifacts/2024-05-29_07-12-59/TorchTrainer_2024-05-29_07-12-59/driver_artifacts\n",
      "Number of trials: 1/1 (1 RUNNING)\n",
      "\n",
      "\n"
     ]
    },
    {
     "name": "stderr",
     "output_type": "stream",
     "text": [
      "\u001b[36m(RayTrainWorker pid=468095)\u001b[0m \n",
      " 96%|█████████▌| 156/163 [15:53<00:48,  6.86s/it]\u001b[A\n"
     ]
    },
    {
     "name": "stdout",
     "output_type": "stream",
     "text": [
      "== Status ==\n",
      "Current time: 2024-05-29 07:34:35 (running for 00:21:35.52)\n",
      "Using FIFO scheduling algorithm.\n",
      "Logical resource usage: 2.0/128 CPUs, 0/0 GPUs\n",
      "Result logdir: /tmp/ray/session_2024-05-29_06-54-58_814481_446177/artifacts/2024-05-29_07-12-59/TorchTrainer_2024-05-29_07-12-59/driver_artifacts\n",
      "Number of trials: 1/1 (1 RUNNING)\n",
      "\n",
      "\n",
      "== Status ==\n",
      "Current time: 2024-05-29 07:34:40 (running for 00:21:40.55)\n",
      "Using FIFO scheduling algorithm.\n",
      "Logical resource usage: 2.0/128 CPUs, 0/0 GPUs\n",
      "Result logdir: /tmp/ray/session_2024-05-29_06-54-58_814481_446177/artifacts/2024-05-29_07-12-59/TorchTrainer_2024-05-29_07-12-59/driver_artifacts\n",
      "Number of trials: 1/1 (1 RUNNING)\n",
      "\n",
      "\n"
     ]
    },
    {
     "name": "stderr",
     "output_type": "stream",
     "text": [
      "\u001b[36m(RayTrainWorker pid=468095)\u001b[0m \n",
      " 96%|█████████▋| 157/163 [16:00<00:40,  6.83s/it]\u001b[A\n"
     ]
    },
    {
     "name": "stdout",
     "output_type": "stream",
     "text": [
      "== Status ==\n",
      "Current time: 2024-05-29 07:34:45 (running for 00:21:45.57)\n",
      "Using FIFO scheduling algorithm.\n",
      "Logical resource usage: 2.0/128 CPUs, 0/0 GPUs\n",
      "Result logdir: /tmp/ray/session_2024-05-29_06-54-58_814481_446177/artifacts/2024-05-29_07-12-59/TorchTrainer_2024-05-29_07-12-59/driver_artifacts\n",
      "Number of trials: 1/1 (1 RUNNING)\n",
      "\n",
      "\n"
     ]
    },
    {
     "name": "stderr",
     "output_type": "stream",
     "text": [
      "\u001b[36m(RayTrainWorker pid=468095)\u001b[0m \n",
      " 97%|█████████▋| 158/163 [16:06<00:33,  6.76s/it]\u001b[A\n"
     ]
    },
    {
     "name": "stdout",
     "output_type": "stream",
     "text": [
      "== Status ==\n",
      "Current time: 2024-05-29 07:34:50 (running for 00:21:50.59)\n",
      "Using FIFO scheduling algorithm.\n",
      "Logical resource usage: 2.0/128 CPUs, 0/0 GPUs\n",
      "Result logdir: /tmp/ray/session_2024-05-29_06-54-58_814481_446177/artifacts/2024-05-29_07-12-59/TorchTrainer_2024-05-29_07-12-59/driver_artifacts\n",
      "Number of trials: 1/1 (1 RUNNING)\n",
      "\n",
      "\n"
     ]
    },
    {
     "name": "stderr",
     "output_type": "stream",
     "text": [
      "\u001b[36m(RayTrainWorker pid=468095)\u001b[0m \n",
      " 98%|█████████▊| 159/163 [16:13<00:26,  6.63s/it]\u001b[A\n"
     ]
    },
    {
     "name": "stdout",
     "output_type": "stream",
     "text": [
      "== Status ==\n",
      "Current time: 2024-05-29 07:34:55 (running for 00:21:55.61)\n",
      "Using FIFO scheduling algorithm.\n",
      "Logical resource usage: 2.0/128 CPUs, 0/0 GPUs\n",
      "Result logdir: /tmp/ray/session_2024-05-29_06-54-58_814481_446177/artifacts/2024-05-29_07-12-59/TorchTrainer_2024-05-29_07-12-59/driver_artifacts\n",
      "Number of trials: 1/1 (1 RUNNING)\n",
      "\n",
      "\n"
     ]
    },
    {
     "name": "stderr",
     "output_type": "stream",
     "text": [
      "\u001b[36m(RayTrainWorker pid=468095)\u001b[0m \n",
      " 98%|█████████▊| 160/163 [16:19<00:19,  6.46s/it]\u001b[A\n"
     ]
    },
    {
     "name": "stdout",
     "output_type": "stream",
     "text": [
      "== Status ==\n",
      "Current time: 2024-05-29 07:35:00 (running for 00:22:00.63)\n",
      "Using FIFO scheduling algorithm.\n",
      "Logical resource usage: 2.0/128 CPUs, 0/0 GPUs\n",
      "Result logdir: /tmp/ray/session_2024-05-29_06-54-58_814481_446177/artifacts/2024-05-29_07-12-59/TorchTrainer_2024-05-29_07-12-59/driver_artifacts\n",
      "Number of trials: 1/1 (1 RUNNING)\n",
      "\n",
      "\n",
      "== Status ==\n",
      "Current time: 2024-05-29 07:35:05 (running for 00:22:05.65)\n",
      "Using FIFO scheduling algorithm.\n",
      "Logical resource usage: 2.0/128 CPUs, 0/0 GPUs\n",
      "Result logdir: /tmp/ray/session_2024-05-29_06-54-58_814481_446177/artifacts/2024-05-29_07-12-59/TorchTrainer_2024-05-29_07-12-59/driver_artifacts\n",
      "Number of trials: 1/1 (1 RUNNING)\n",
      "\n",
      "\n"
     ]
    },
    {
     "name": "stderr",
     "output_type": "stream",
     "text": [
      "\u001b[36m(RayTrainWorker pid=468095)\u001b[0m \n",
      " 99%|█████████▉| 161/163 [16:25<00:12,  6.36s/it]\u001b[A\n"
     ]
    },
    {
     "name": "stdout",
     "output_type": "stream",
     "text": [
      "== Status ==\n",
      "Current time: 2024-05-29 07:35:10 (running for 00:22:10.67)\n",
      "Using FIFO scheduling algorithm.\n",
      "Logical resource usage: 2.0/128 CPUs, 0/0 GPUs\n",
      "Result logdir: /tmp/ray/session_2024-05-29_06-54-58_814481_446177/artifacts/2024-05-29_07-12-59/TorchTrainer_2024-05-29_07-12-59/driver_artifacts\n",
      "Number of trials: 1/1 (1 RUNNING)\n",
      "\n",
      "\n"
     ]
    },
    {
     "name": "stderr",
     "output_type": "stream",
     "text": [
      "\u001b[36m(RayTrainWorker pid=468095)\u001b[0m \n",
      " 99%|█████████▉| 162/163 [16:31<00:06,  6.26s/it]\u001b[A\n"
     ]
    },
    {
     "name": "stdout",
     "output_type": "stream",
     "text": [
      "== Status ==\n",
      "Current time: 2024-05-29 07:35:15 (running for 00:22:15.69)\n",
      "Using FIFO scheduling algorithm.\n",
      "Logical resource usage: 2.0/128 CPUs, 0/0 GPUs\n",
      "Result logdir: /tmp/ray/session_2024-05-29_06-54-58_814481_446177/artifacts/2024-05-29_07-12-59/TorchTrainer_2024-05-29_07-12-59/driver_artifacts\n",
      "Number of trials: 1/1 (1 RUNNING)\n",
      "\n",
      "\n"
     ]
    },
    {
     "name": "stderr",
     "output_type": "stream",
     "text": [
      "\u001b[36m(RayTrainWorker pid=468095)\u001b[0m \n",
      "                                                   A\n",
      "  0%|          | 2/996 [22:08<44:38:48, 161.70s/it]\n",
      "100%|██████████| 163/163 [16:37<00:00,  6.11s/it]\u001b[A\n",
      "                                                 \u001b[A\n"
     ]
    },
    {
     "name": "stdout",
     "output_type": "stream",
     "text": [
      "\u001b[36m(RayTrainWorker pid=468095)\u001b[0m {'eval_loss': 1.097225308418274, 'eval_runtime': 1003.1376, 'eval_samples_per_second': 2.599, 'eval_steps_per_second': 0.162, 'epoch': 0.0}\n",
      "== Status ==\n",
      "Current time: 2024-05-29 07:35:20 (running for 00:22:20.70)\n",
      "Using FIFO scheduling algorithm.\n",
      "Logical resource usage: 2.0/128 CPUs, 0/0 GPUs\n",
      "Result logdir: /tmp/ray/session_2024-05-29_06-54-58_814481_446177/artifacts/2024-05-29_07-12-59/TorchTrainer_2024-05-29_07-12-59/driver_artifacts\n",
      "Number of trials: 1/1 (1 RUNNING)\n",
      "\n",
      "\n"
     ]
    },
    {
     "name": "stderr",
     "output_type": "stream",
     "text": [
      "\u001b[36m(RayTrainWorker pid=468095)\u001b[0m Checkpoint successfully created at: Checkpoint(filesystem=local, path=/root/ray_results/TorchTrainer_2024-05-29_07-12-59/TorchTrainer_e1617_00000_0_2024-05-29_07-12-59/checkpoint_000000)\n"
     ]
    },
    {
     "name": "stdout",
     "output_type": "stream",
     "text": [
      "== Status ==\n",
      "Current time: 2024-05-29 07:35:25 (running for 00:22:25.77)\n",
      "Using FIFO scheduling algorithm.\n",
      "Logical resource usage: 2.0/128 CPUs, 0/0 GPUs\n",
      "Result logdir: /tmp/ray/session_2024-05-29_06-54-58_814481_446177/artifacts/2024-05-29_07-12-59/TorchTrainer_2024-05-29_07-12-59/driver_artifacts\n",
      "Number of trials: 1/1 (1 RUNNING)\n",
      "\n",
      "\n",
      "== Status ==\n",
      "Current time: 2024-05-29 07:35:30 (running for 00:22:30.79)\n",
      "Using FIFO scheduling algorithm.\n",
      "Logical resource usage: 2.0/128 CPUs, 0/0 GPUs\n",
      "Result logdir: /tmp/ray/session_2024-05-29_06-54-58_814481_446177/artifacts/2024-05-29_07-12-59/TorchTrainer_2024-05-29_07-12-59/driver_artifacts\n",
      "Number of trials: 1/1 (1 RUNNING)\n",
      "\n",
      "\n",
      "== Status ==\n",
      "Current time: 2024-05-29 07:35:35 (running for 00:22:35.81)\n",
      "Using FIFO scheduling algorithm.\n",
      "Logical resource usage: 2.0/128 CPUs, 0/0 GPUs\n",
      "Result logdir: /tmp/ray/session_2024-05-29_06-54-58_814481_446177/artifacts/2024-05-29_07-12-59/TorchTrainer_2024-05-29_07-12-59/driver_artifacts\n",
      "Number of trials: 1/1 (1 RUNNING)\n",
      "\n",
      "\n",
      "== Status ==\n",
      "Current time: 2024-05-29 07:35:40 (running for 00:22:40.82)\n",
      "Using FIFO scheduling algorithm.\n",
      "Logical resource usage: 2.0/128 CPUs, 0/0 GPUs\n",
      "Result logdir: /tmp/ray/session_2024-05-29_06-54-58_814481_446177/artifacts/2024-05-29_07-12-59/TorchTrainer_2024-05-29_07-12-59/driver_artifacts\n",
      "Number of trials: 1/1 (1 RUNNING)\n",
      "\n",
      "\n",
      "== Status ==\n",
      "Current time: 2024-05-29 07:35:45 (running for 00:22:45.85)\n",
      "Using FIFO scheduling algorithm.\n",
      "Logical resource usage: 2.0/128 CPUs, 0/0 GPUs\n",
      "Result logdir: /tmp/ray/session_2024-05-29_06-54-58_814481_446177/artifacts/2024-05-29_07-12-59/TorchTrainer_2024-05-29_07-12-59/driver_artifacts\n",
      "Number of trials: 1/1 (1 RUNNING)\n",
      "\n",
      "\n",
      "== Status ==\n",
      "Current time: 2024-05-29 07:35:50 (running for 00:22:50.86)\n",
      "Using FIFO scheduling algorithm.\n",
      "Logical resource usage: 2.0/128 CPUs, 0/0 GPUs\n",
      "Result logdir: /tmp/ray/session_2024-05-29_06-54-58_814481_446177/artifacts/2024-05-29_07-12-59/TorchTrainer_2024-05-29_07-12-59/driver_artifacts\n",
      "Number of trials: 1/1 (1 RUNNING)\n",
      "\n",
      "\n",
      "== Status ==\n",
      "Current time: 2024-05-29 07:35:55 (running for 00:22:55.88)\n",
      "Using FIFO scheduling algorithm.\n",
      "Logical resource usage: 2.0/128 CPUs, 0/0 GPUs\n",
      "Result logdir: /tmp/ray/session_2024-05-29_06-54-58_814481_446177/artifacts/2024-05-29_07-12-59/TorchTrainer_2024-05-29_07-12-59/driver_artifacts\n",
      "Number of trials: 1/1 (1 RUNNING)\n",
      "\n",
      "\n",
      "== Status ==\n",
      "Current time: 2024-05-29 07:36:00 (running for 00:23:00.90)\n",
      "Using FIFO scheduling algorithm.\n",
      "Logical resource usage: 2.0/128 CPUs, 0/0 GPUs\n",
      "Result logdir: /tmp/ray/session_2024-05-29_06-54-58_814481_446177/artifacts/2024-05-29_07-12-59/TorchTrainer_2024-05-29_07-12-59/driver_artifacts\n",
      "Number of trials: 1/1 (1 RUNNING)\n",
      "\n",
      "\n",
      "== Status ==\n",
      "Current time: 2024-05-29 07:36:05 (running for 00:23:05.92)\n",
      "Using FIFO scheduling algorithm.\n",
      "Logical resource usage: 2.0/128 CPUs, 0/0 GPUs\n",
      "Result logdir: /tmp/ray/session_2024-05-29_06-54-58_814481_446177/artifacts/2024-05-29_07-12-59/TorchTrainer_2024-05-29_07-12-59/driver_artifacts\n",
      "Number of trials: 1/1 (1 RUNNING)\n",
      "\n",
      "\n",
      "== Status ==\n",
      "Current time: 2024-05-29 07:36:10 (running for 00:23:10.94)\n",
      "Using FIFO scheduling algorithm.\n",
      "Logical resource usage: 2.0/128 CPUs, 0/0 GPUs\n",
      "Result logdir: /tmp/ray/session_2024-05-29_06-54-58_814481_446177/artifacts/2024-05-29_07-12-59/TorchTrainer_2024-05-29_07-12-59/driver_artifacts\n",
      "Number of trials: 1/1 (1 RUNNING)\n",
      "\n",
      "\n",
      "== Status ==\n",
      "Current time: 2024-05-29 07:36:15 (running for 00:23:15.96)\n",
      "Using FIFO scheduling algorithm.\n",
      "Logical resource usage: 2.0/128 CPUs, 0/0 GPUs\n",
      "Result logdir: /tmp/ray/session_2024-05-29_06-54-58_814481_446177/artifacts/2024-05-29_07-12-59/TorchTrainer_2024-05-29_07-12-59/driver_artifacts\n",
      "Number of trials: 1/1 (1 RUNNING)\n",
      "\n",
      "\n",
      "== Status ==\n",
      "Current time: 2024-05-29 07:36:20 (running for 00:23:20.98)\n",
      "Using FIFO scheduling algorithm.\n",
      "Logical resource usage: 2.0/128 CPUs, 0/0 GPUs\n",
      "Result logdir: /tmp/ray/session_2024-05-29_06-54-58_814481_446177/artifacts/2024-05-29_07-12-59/TorchTrainer_2024-05-29_07-12-59/driver_artifacts\n",
      "Number of trials: 1/1 (1 RUNNING)\n",
      "\n",
      "\n",
      "== Status ==\n",
      "Current time: 2024-05-29 07:36:25 (running for 00:23:26.00)\n",
      "Using FIFO scheduling algorithm.\n",
      "Logical resource usage: 2.0/128 CPUs, 0/0 GPUs\n",
      "Result logdir: /tmp/ray/session_2024-05-29_06-54-58_814481_446177/artifacts/2024-05-29_07-12-59/TorchTrainer_2024-05-29_07-12-59/driver_artifacts\n",
      "Number of trials: 1/1 (1 RUNNING)\n",
      "\n",
      "\n",
      "== Status ==\n",
      "Current time: 2024-05-29 07:36:30 (running for 00:23:31.02)\n",
      "Using FIFO scheduling algorithm.\n",
      "Logical resource usage: 2.0/128 CPUs, 0/0 GPUs\n",
      "Result logdir: /tmp/ray/session_2024-05-29_06-54-58_814481_446177/artifacts/2024-05-29_07-12-59/TorchTrainer_2024-05-29_07-12-59/driver_artifacts\n",
      "Number of trials: 1/1 (1 RUNNING)\n",
      "\n",
      "\n",
      "== Status ==\n",
      "Current time: 2024-05-29 07:36:35 (running for 00:23:36.04)\n",
      "Using FIFO scheduling algorithm.\n",
      "Logical resource usage: 2.0/128 CPUs, 0/0 GPUs\n",
      "Result logdir: /tmp/ray/session_2024-05-29_06-54-58_814481_446177/artifacts/2024-05-29_07-12-59/TorchTrainer_2024-05-29_07-12-59/driver_artifacts\n",
      "Number of trials: 1/1 (1 RUNNING)\n",
      "\n",
      "\n",
      "== Status ==\n",
      "Current time: 2024-05-29 07:36:40 (running for 00:23:41.06)\n",
      "Using FIFO scheduling algorithm.\n",
      "Logical resource usage: 2.0/128 CPUs, 0/0 GPUs\n",
      "Result logdir: /tmp/ray/session_2024-05-29_06-54-58_814481_446177/artifacts/2024-05-29_07-12-59/TorchTrainer_2024-05-29_07-12-59/driver_artifacts\n",
      "Number of trials: 1/1 (1 RUNNING)\n",
      "\n",
      "\n",
      "== Status ==\n",
      "Current time: 2024-05-29 07:36:45 (running for 00:23:46.09)\n",
      "Using FIFO scheduling algorithm.\n",
      "Logical resource usage: 2.0/128 CPUs, 0/0 GPUs\n",
      "Result logdir: /tmp/ray/session_2024-05-29_06-54-58_814481_446177/artifacts/2024-05-29_07-12-59/TorchTrainer_2024-05-29_07-12-59/driver_artifacts\n",
      "Number of trials: 1/1 (1 RUNNING)\n",
      "\n",
      "\n",
      "== Status ==\n",
      "Current time: 2024-05-29 07:36:50 (running for 00:23:51.10)\n",
      "Using FIFO scheduling algorithm.\n",
      "Logical resource usage: 2.0/128 CPUs, 0/0 GPUs\n",
      "Result logdir: /tmp/ray/session_2024-05-29_06-54-58_814481_446177/artifacts/2024-05-29_07-12-59/TorchTrainer_2024-05-29_07-12-59/driver_artifacts\n",
      "Number of trials: 1/1 (1 RUNNING)\n",
      "\n",
      "\n",
      "== Status ==\n",
      "Current time: 2024-05-29 07:36:55 (running for 00:23:56.12)\n",
      "Using FIFO scheduling algorithm.\n",
      "Logical resource usage: 2.0/128 CPUs, 0/0 GPUs\n",
      "Result logdir: /tmp/ray/session_2024-05-29_06-54-58_814481_446177/artifacts/2024-05-29_07-12-59/TorchTrainer_2024-05-29_07-12-59/driver_artifacts\n",
      "Number of trials: 1/1 (1 RUNNING)\n",
      "\n",
      "\n",
      "== Status ==\n",
      "Current time: 2024-05-29 07:37:00 (running for 00:24:01.14)\n",
      "Using FIFO scheduling algorithm.\n",
      "Logical resource usage: 2.0/128 CPUs, 0/0 GPUs\n",
      "Result logdir: /tmp/ray/session_2024-05-29_06-54-58_814481_446177/artifacts/2024-05-29_07-12-59/TorchTrainer_2024-05-29_07-12-59/driver_artifacts\n",
      "Number of trials: 1/1 (1 RUNNING)\n",
      "\n",
      "\n",
      "== Status ==\n",
      "Current time: 2024-05-29 07:37:05 (running for 00:24:06.16)\n",
      "Using FIFO scheduling algorithm.\n",
      "Logical resource usage: 2.0/128 CPUs, 0/0 GPUs\n",
      "Result logdir: /tmp/ray/session_2024-05-29_06-54-58_814481_446177/artifacts/2024-05-29_07-12-59/TorchTrainer_2024-05-29_07-12-59/driver_artifacts\n",
      "Number of trials: 1/1 (1 RUNNING)\n",
      "\n",
      "\n",
      "== Status ==\n",
      "Current time: 2024-05-29 07:37:10 (running for 00:24:11.18)\n",
      "Using FIFO scheduling algorithm.\n",
      "Logical resource usage: 2.0/128 CPUs, 0/0 GPUs\n",
      "Result logdir: /tmp/ray/session_2024-05-29_06-54-58_814481_446177/artifacts/2024-05-29_07-12-59/TorchTrainer_2024-05-29_07-12-59/driver_artifacts\n",
      "Number of trials: 1/1 (1 RUNNING)\n",
      "\n",
      "\n",
      "== Status ==\n",
      "Current time: 2024-05-29 07:37:15 (running for 00:24:16.20)\n",
      "Using FIFO scheduling algorithm.\n",
      "Logical resource usage: 2.0/128 CPUs, 0/0 GPUs\n",
      "Result logdir: /tmp/ray/session_2024-05-29_06-54-58_814481_446177/artifacts/2024-05-29_07-12-59/TorchTrainer_2024-05-29_07-12-59/driver_artifacts\n",
      "Number of trials: 1/1 (1 RUNNING)\n",
      "\n",
      "\n",
      "== Status ==\n",
      "Current time: 2024-05-29 07:37:20 (running for 00:24:21.22)\n",
      "Using FIFO scheduling algorithm.\n",
      "Logical resource usage: 2.0/128 CPUs, 0/0 GPUs\n",
      "Result logdir: /tmp/ray/session_2024-05-29_06-54-58_814481_446177/artifacts/2024-05-29_07-12-59/TorchTrainer_2024-05-29_07-12-59/driver_artifacts\n",
      "Number of trials: 1/1 (1 RUNNING)\n",
      "\n",
      "\n",
      "== Status ==\n",
      "Current time: 2024-05-29 07:37:25 (running for 00:24:26.24)\n",
      "Using FIFO scheduling algorithm.\n",
      "Logical resource usage: 2.0/128 CPUs, 0/0 GPUs\n",
      "Result logdir: /tmp/ray/session_2024-05-29_06-54-58_814481_446177/artifacts/2024-05-29_07-12-59/TorchTrainer_2024-05-29_07-12-59/driver_artifacts\n",
      "Number of trials: 1/1 (1 RUNNING)\n",
      "\n",
      "\n",
      "== Status ==\n",
      "Current time: 2024-05-29 07:37:30 (running for 00:24:31.26)\n",
      "Using FIFO scheduling algorithm.\n",
      "Logical resource usage: 2.0/128 CPUs, 0/0 GPUs\n",
      "Result logdir: /tmp/ray/session_2024-05-29_06-54-58_814481_446177/artifacts/2024-05-29_07-12-59/TorchTrainer_2024-05-29_07-12-59/driver_artifacts\n",
      "Number of trials: 1/1 (1 RUNNING)\n",
      "\n",
      "\n",
      "== Status ==\n",
      "Current time: 2024-05-29 07:37:35 (running for 00:24:36.28)\n",
      "Using FIFO scheduling algorithm.\n",
      "Logical resource usage: 2.0/128 CPUs, 0/0 GPUs\n",
      "Result logdir: /tmp/ray/session_2024-05-29_06-54-58_814481_446177/artifacts/2024-05-29_07-12-59/TorchTrainer_2024-05-29_07-12-59/driver_artifacts\n",
      "Number of trials: 1/1 (1 RUNNING)\n",
      "\n",
      "\n",
      "== Status ==\n",
      "Current time: 2024-05-29 07:37:40 (running for 00:24:41.30)\n",
      "Using FIFO scheduling algorithm.\n",
      "Logical resource usage: 2.0/128 CPUs, 0/0 GPUs\n",
      "Result logdir: /tmp/ray/session_2024-05-29_06-54-58_814481_446177/artifacts/2024-05-29_07-12-59/TorchTrainer_2024-05-29_07-12-59/driver_artifacts\n",
      "Number of trials: 1/1 (1 RUNNING)\n",
      "\n",
      "\n",
      "== Status ==\n",
      "Current time: 2024-05-29 07:37:45 (running for 00:24:46.32)\n",
      "Using FIFO scheduling algorithm.\n",
      "Logical resource usage: 2.0/128 CPUs, 0/0 GPUs\n",
      "Result logdir: /tmp/ray/session_2024-05-29_06-54-58_814481_446177/artifacts/2024-05-29_07-12-59/TorchTrainer_2024-05-29_07-12-59/driver_artifacts\n",
      "Number of trials: 1/1 (1 RUNNING)\n",
      "\n",
      "\n",
      "== Status ==\n",
      "Current time: 2024-05-29 07:37:50 (running for 00:24:51.34)\n",
      "Using FIFO scheduling algorithm.\n",
      "Logical resource usage: 2.0/128 CPUs, 0/0 GPUs\n",
      "Result logdir: /tmp/ray/session_2024-05-29_06-54-58_814481_446177/artifacts/2024-05-29_07-12-59/TorchTrainer_2024-05-29_07-12-59/driver_artifacts\n",
      "Number of trials: 1/1 (1 RUNNING)\n",
      "\n",
      "\n",
      "== Status ==\n",
      "Current time: 2024-05-29 07:37:55 (running for 00:24:56.36)\n",
      "Using FIFO scheduling algorithm.\n",
      "Logical resource usage: 2.0/128 CPUs, 0/0 GPUs\n",
      "Result logdir: /tmp/ray/session_2024-05-29_06-54-58_814481_446177/artifacts/2024-05-29_07-12-59/TorchTrainer_2024-05-29_07-12-59/driver_artifacts\n",
      "Number of trials: 1/1 (1 RUNNING)\n",
      "\n",
      "\n",
      "== Status ==\n",
      "Current time: 2024-05-29 07:38:00 (running for 00:25:01.38)\n",
      "Using FIFO scheduling algorithm.\n",
      "Logical resource usage: 2.0/128 CPUs, 0/0 GPUs\n",
      "Result logdir: /tmp/ray/session_2024-05-29_06-54-58_814481_446177/artifacts/2024-05-29_07-12-59/TorchTrainer_2024-05-29_07-12-59/driver_artifacts\n",
      "Number of trials: 1/1 (1 RUNNING)\n",
      "\n",
      "\n"
     ]
    },
    {
     "name": "stderr",
     "output_type": "stream",
     "text": [
      "  0%|          | 3/996 [24:56<171:42:47, 622.53s/it]\n"
     ]
    },
    {
     "name": "stdout",
     "output_type": "stream",
     "text": [
      "== Status ==\n",
      "Current time: 2024-05-29 07:38:05 (running for 00:25:06.40)\n",
      "Using FIFO scheduling algorithm.\n",
      "Logical resource usage: 2.0/128 CPUs, 0/0 GPUs\n",
      "Result logdir: /tmp/ray/session_2024-05-29_06-54-58_814481_446177/artifacts/2024-05-29_07-12-59/TorchTrainer_2024-05-29_07-12-59/driver_artifacts\n",
      "Number of trials: 1/1 (1 RUNNING)\n",
      "\n",
      "\n",
      "== Status ==\n",
      "Current time: 2024-05-29 07:38:10 (running for 00:25:11.42)\n",
      "Using FIFO scheduling algorithm.\n",
      "Logical resource usage: 2.0/128 CPUs, 0/0 GPUs\n",
      "Result logdir: /tmp/ray/session_2024-05-29_06-54-58_814481_446177/artifacts/2024-05-29_07-12-59/TorchTrainer_2024-05-29_07-12-59/driver_artifacts\n",
      "Number of trials: 1/1 (1 RUNNING)\n",
      "\n",
      "\n",
      "== Status ==\n",
      "Current time: 2024-05-29 07:38:16 (running for 00:25:16.44)\n",
      "Using FIFO scheduling algorithm.\n",
      "Logical resource usage: 2.0/128 CPUs, 0/0 GPUs\n",
      "Result logdir: /tmp/ray/session_2024-05-29_06-54-58_814481_446177/artifacts/2024-05-29_07-12-59/TorchTrainer_2024-05-29_07-12-59/driver_artifacts\n",
      "Number of trials: 1/1 (1 RUNNING)\n",
      "\n",
      "\n",
      "== Status ==\n",
      "Current time: 2024-05-29 07:38:21 (running for 00:25:21.45)\n",
      "Using FIFO scheduling algorithm.\n",
      "Logical resource usage: 2.0/128 CPUs, 0/0 GPUs\n",
      "Result logdir: /tmp/ray/session_2024-05-29_06-54-58_814481_446177/artifacts/2024-05-29_07-12-59/TorchTrainer_2024-05-29_07-12-59/driver_artifacts\n",
      "Number of trials: 1/1 (1 RUNNING)\n",
      "\n",
      "\n",
      "== Status ==\n",
      "Current time: 2024-05-29 07:38:26 (running for 00:25:26.48)\n",
      "Using FIFO scheduling algorithm.\n",
      "Logical resource usage: 2.0/128 CPUs, 0/0 GPUs\n",
      "Result logdir: /tmp/ray/session_2024-05-29_06-54-58_814481_446177/artifacts/2024-05-29_07-12-59/TorchTrainer_2024-05-29_07-12-59/driver_artifacts\n",
      "Number of trials: 1/1 (1 RUNNING)\n",
      "\n",
      "\n",
      "== Status ==\n",
      "Current time: 2024-05-29 07:38:31 (running for 00:25:31.49)\n",
      "Using FIFO scheduling algorithm.\n",
      "Logical resource usage: 2.0/128 CPUs, 0/0 GPUs\n",
      "Result logdir: /tmp/ray/session_2024-05-29_06-54-58_814481_446177/artifacts/2024-05-29_07-12-59/TorchTrainer_2024-05-29_07-12-59/driver_artifacts\n",
      "Number of trials: 1/1 (1 RUNNING)\n",
      "\n",
      "\n",
      "== Status ==\n",
      "Current time: 2024-05-29 07:38:36 (running for 00:25:36.51)\n",
      "Using FIFO scheduling algorithm.\n",
      "Logical resource usage: 2.0/128 CPUs, 0/0 GPUs\n",
      "Result logdir: /tmp/ray/session_2024-05-29_06-54-58_814481_446177/artifacts/2024-05-29_07-12-59/TorchTrainer_2024-05-29_07-12-59/driver_artifacts\n",
      "Number of trials: 1/1 (1 RUNNING)\n",
      "\n",
      "\n",
      "== Status ==\n",
      "Current time: 2024-05-29 07:38:41 (running for 00:25:41.53)\n",
      "Using FIFO scheduling algorithm.\n",
      "Logical resource usage: 2.0/128 CPUs, 0/0 GPUs\n",
      "Result logdir: /tmp/ray/session_2024-05-29_06-54-58_814481_446177/artifacts/2024-05-29_07-12-59/TorchTrainer_2024-05-29_07-12-59/driver_artifacts\n",
      "Number of trials: 1/1 (1 RUNNING)\n",
      "\n",
      "\n",
      "== Status ==\n",
      "Current time: 2024-05-29 07:38:46 (running for 00:25:46.55)\n",
      "Using FIFO scheduling algorithm.\n",
      "Logical resource usage: 2.0/128 CPUs, 0/0 GPUs\n",
      "Result logdir: /tmp/ray/session_2024-05-29_06-54-58_814481_446177/artifacts/2024-05-29_07-12-59/TorchTrainer_2024-05-29_07-12-59/driver_artifacts\n",
      "Number of trials: 1/1 (1 RUNNING)\n",
      "\n",
      "\n",
      "== Status ==\n",
      "Current time: 2024-05-29 07:38:51 (running for 00:25:51.57)\n",
      "Using FIFO scheduling algorithm.\n",
      "Logical resource usage: 2.0/128 CPUs, 0/0 GPUs\n",
      "Result logdir: /tmp/ray/session_2024-05-29_06-54-58_814481_446177/artifacts/2024-05-29_07-12-59/TorchTrainer_2024-05-29_07-12-59/driver_artifacts\n",
      "Number of trials: 1/1 (1 RUNNING)\n",
      "\n",
      "\n",
      "== Status ==\n",
      "Current time: 2024-05-29 07:38:56 (running for 00:25:56.59)\n",
      "Using FIFO scheduling algorithm.\n",
      "Logical resource usage: 2.0/128 CPUs, 0/0 GPUs\n",
      "Result logdir: /tmp/ray/session_2024-05-29_06-54-58_814481_446177/artifacts/2024-05-29_07-12-59/TorchTrainer_2024-05-29_07-12-59/driver_artifacts\n",
      "Number of trials: 1/1 (1 RUNNING)\n",
      "\n",
      "\n",
      "== Status ==\n",
      "Current time: 2024-05-29 07:39:01 (running for 00:26:01.61)\n",
      "Using FIFO scheduling algorithm.\n",
      "Logical resource usage: 2.0/128 CPUs, 0/0 GPUs\n",
      "Result logdir: /tmp/ray/session_2024-05-29_06-54-58_814481_446177/artifacts/2024-05-29_07-12-59/TorchTrainer_2024-05-29_07-12-59/driver_artifacts\n",
      "Number of trials: 1/1 (1 RUNNING)\n",
      "\n",
      "\n",
      "== Status ==\n",
      "Current time: 2024-05-29 07:39:06 (running for 00:26:06.63)\n",
      "Using FIFO scheduling algorithm.\n",
      "Logical resource usage: 2.0/128 CPUs, 0/0 GPUs\n",
      "Result logdir: /tmp/ray/session_2024-05-29_06-54-58_814481_446177/artifacts/2024-05-29_07-12-59/TorchTrainer_2024-05-29_07-12-59/driver_artifacts\n",
      "Number of trials: 1/1 (1 RUNNING)\n",
      "\n",
      "\n",
      "== Status ==\n",
      "Current time: 2024-05-29 07:39:11 (running for 00:26:11.65)\n",
      "Using FIFO scheduling algorithm.\n",
      "Logical resource usage: 2.0/128 CPUs, 0/0 GPUs\n",
      "Result logdir: /tmp/ray/session_2024-05-29_06-54-58_814481_446177/artifacts/2024-05-29_07-12-59/TorchTrainer_2024-05-29_07-12-59/driver_artifacts\n",
      "Number of trials: 1/1 (1 RUNNING)\n",
      "\n",
      "\n",
      "== Status ==\n",
      "Current time: 2024-05-29 07:39:16 (running for 00:26:16.67)\n",
      "Using FIFO scheduling algorithm.\n",
      "Logical resource usage: 2.0/128 CPUs, 0/0 GPUs\n",
      "Result logdir: /tmp/ray/session_2024-05-29_06-54-58_814481_446177/artifacts/2024-05-29_07-12-59/TorchTrainer_2024-05-29_07-12-59/driver_artifacts\n",
      "Number of trials: 1/1 (1 RUNNING)\n",
      "\n",
      "\n",
      "== Status ==\n",
      "Current time: 2024-05-29 07:39:21 (running for 00:26:21.69)\n",
      "Using FIFO scheduling algorithm.\n",
      "Logical resource usage: 2.0/128 CPUs, 0/0 GPUs\n",
      "Result logdir: /tmp/ray/session_2024-05-29_06-54-58_814481_446177/artifacts/2024-05-29_07-12-59/TorchTrainer_2024-05-29_07-12-59/driver_artifacts\n",
      "Number of trials: 1/1 (1 RUNNING)\n",
      "\n",
      "\n",
      "== Status ==\n",
      "Current time: 2024-05-29 07:39:26 (running for 00:26:26.71)\n",
      "Using FIFO scheduling algorithm.\n",
      "Logical resource usage: 2.0/128 CPUs, 0/0 GPUs\n",
      "Result logdir: /tmp/ray/session_2024-05-29_06-54-58_814481_446177/artifacts/2024-05-29_07-12-59/TorchTrainer_2024-05-29_07-12-59/driver_artifacts\n",
      "Number of trials: 1/1 (1 RUNNING)\n",
      "\n",
      "\n",
      "== Status ==\n",
      "Current time: 2024-05-29 07:39:31 (running for 00:26:31.73)\n",
      "Using FIFO scheduling algorithm.\n",
      "Logical resource usage: 2.0/128 CPUs, 0/0 GPUs\n",
      "Result logdir: /tmp/ray/session_2024-05-29_06-54-58_814481_446177/artifacts/2024-05-29_07-12-59/TorchTrainer_2024-05-29_07-12-59/driver_artifacts\n",
      "Number of trials: 1/1 (1 RUNNING)\n",
      "\n",
      "\n",
      "== Status ==\n",
      "Current time: 2024-05-29 07:39:36 (running for 00:26:36.75)\n",
      "Using FIFO scheduling algorithm.\n",
      "Logical resource usage: 2.0/128 CPUs, 0/0 GPUs\n",
      "Result logdir: /tmp/ray/session_2024-05-29_06-54-58_814481_446177/artifacts/2024-05-29_07-12-59/TorchTrainer_2024-05-29_07-12-59/driver_artifacts\n",
      "Number of trials: 1/1 (1 RUNNING)\n",
      "\n",
      "\n",
      "== Status ==\n",
      "Current time: 2024-05-29 07:39:41 (running for 00:26:41.77)\n",
      "Using FIFO scheduling algorithm.\n",
      "Logical resource usage: 2.0/128 CPUs, 0/0 GPUs\n",
      "Result logdir: /tmp/ray/session_2024-05-29_06-54-58_814481_446177/artifacts/2024-05-29_07-12-59/TorchTrainer_2024-05-29_07-12-59/driver_artifacts\n",
      "Number of trials: 1/1 (1 RUNNING)\n",
      "\n",
      "\n",
      "== Status ==\n",
      "Current time: 2024-05-29 07:39:46 (running for 00:26:46.79)\n",
      "Using FIFO scheduling algorithm.\n",
      "Logical resource usage: 2.0/128 CPUs, 0/0 GPUs\n",
      "Result logdir: /tmp/ray/session_2024-05-29_06-54-58_814481_446177/artifacts/2024-05-29_07-12-59/TorchTrainer_2024-05-29_07-12-59/driver_artifacts\n",
      "Number of trials: 1/1 (1 RUNNING)\n",
      "\n",
      "\n",
      "== Status ==\n",
      "Current time: 2024-05-29 07:39:51 (running for 00:26:51.81)\n",
      "Using FIFO scheduling algorithm.\n",
      "Logical resource usage: 2.0/128 CPUs, 0/0 GPUs\n",
      "Result logdir: /tmp/ray/session_2024-05-29_06-54-58_814481_446177/artifacts/2024-05-29_07-12-59/TorchTrainer_2024-05-29_07-12-59/driver_artifacts\n",
      "Number of trials: 1/1 (1 RUNNING)\n",
      "\n",
      "\n",
      "== Status ==\n",
      "Current time: 2024-05-29 07:39:56 (running for 00:26:56.83)\n",
      "Using FIFO scheduling algorithm.\n",
      "Logical resource usage: 2.0/128 CPUs, 0/0 GPUs\n",
      "Result logdir: /tmp/ray/session_2024-05-29_06-54-58_814481_446177/artifacts/2024-05-29_07-12-59/TorchTrainer_2024-05-29_07-12-59/driver_artifacts\n",
      "Number of trials: 1/1 (1 RUNNING)\n",
      "\n",
      "\n",
      "== Status ==\n",
      "Current time: 2024-05-29 07:40:01 (running for 00:27:01.84)\n",
      "Using FIFO scheduling algorithm.\n",
      "Logical resource usage: 2.0/128 CPUs, 0/0 GPUs\n",
      "Result logdir: /tmp/ray/session_2024-05-29_06-54-58_814481_446177/artifacts/2024-05-29_07-12-59/TorchTrainer_2024-05-29_07-12-59/driver_artifacts\n",
      "Number of trials: 1/1 (1 RUNNING)\n",
      "\n",
      "\n",
      "== Status ==\n",
      "Current time: 2024-05-29 07:40:06 (running for 00:27:06.86)\n",
      "Using FIFO scheduling algorithm.\n",
      "Logical resource usage: 2.0/128 CPUs, 0/0 GPUs\n",
      "Result logdir: /tmp/ray/session_2024-05-29_06-54-58_814481_446177/artifacts/2024-05-29_07-12-59/TorchTrainer_2024-05-29_07-12-59/driver_artifacts\n",
      "Number of trials: 1/1 (1 RUNNING)\n",
      "\n",
      "\n",
      "== Status ==\n",
      "Current time: 2024-05-29 07:40:11 (running for 00:27:11.88)\n",
      "Using FIFO scheduling algorithm.\n",
      "Logical resource usage: 2.0/128 CPUs, 0/0 GPUs\n",
      "Result logdir: /tmp/ray/session_2024-05-29_06-54-58_814481_446177/artifacts/2024-05-29_07-12-59/TorchTrainer_2024-05-29_07-12-59/driver_artifacts\n",
      "Number of trials: 1/1 (1 RUNNING)\n",
      "\n",
      "\n",
      "== Status ==\n",
      "Current time: 2024-05-29 07:40:16 (running for 00:27:16.90)\n",
      "Using FIFO scheduling algorithm.\n",
      "Logical resource usage: 2.0/128 CPUs, 0/0 GPUs\n",
      "Result logdir: /tmp/ray/session_2024-05-29_06-54-58_814481_446177/artifacts/2024-05-29_07-12-59/TorchTrainer_2024-05-29_07-12-59/driver_artifacts\n",
      "Number of trials: 1/1 (1 RUNNING)\n",
      "\n",
      "\n",
      "== Status ==\n",
      "Current time: 2024-05-29 07:40:21 (running for 00:27:21.92)\n",
      "Using FIFO scheduling algorithm.\n",
      "Logical resource usage: 2.0/128 CPUs, 0/0 GPUs\n",
      "Result logdir: /tmp/ray/session_2024-05-29_06-54-58_814481_446177/artifacts/2024-05-29_07-12-59/TorchTrainer_2024-05-29_07-12-59/driver_artifacts\n",
      "Number of trials: 1/1 (1 RUNNING)\n",
      "\n",
      "\n",
      "== Status ==\n",
      "Current time: 2024-05-29 07:40:26 (running for 00:27:26.94)\n",
      "Using FIFO scheduling algorithm.\n",
      "Logical resource usage: 2.0/128 CPUs, 0/0 GPUs\n",
      "Result logdir: /tmp/ray/session_2024-05-29_06-54-58_814481_446177/artifacts/2024-05-29_07-12-59/TorchTrainer_2024-05-29_07-12-59/driver_artifacts\n",
      "Number of trials: 1/1 (1 RUNNING)\n",
      "\n",
      "\n",
      "== Status ==\n",
      "Current time: 2024-05-29 07:40:31 (running for 00:27:31.96)\n",
      "Using FIFO scheduling algorithm.\n",
      "Logical resource usage: 2.0/128 CPUs, 0/0 GPUs\n",
      "Result logdir: /tmp/ray/session_2024-05-29_06-54-58_814481_446177/artifacts/2024-05-29_07-12-59/TorchTrainer_2024-05-29_07-12-59/driver_artifacts\n",
      "Number of trials: 1/1 (1 RUNNING)\n",
      "\n",
      "\n",
      "== Status ==\n",
      "Current time: 2024-05-29 07:40:36 (running for 00:27:36.98)\n",
      "Using FIFO scheduling algorithm.\n",
      "Logical resource usage: 2.0/128 CPUs, 0/0 GPUs\n",
      "Result logdir: /tmp/ray/session_2024-05-29_06-54-58_814481_446177/artifacts/2024-05-29_07-12-59/TorchTrainer_2024-05-29_07-12-59/driver_artifacts\n",
      "Number of trials: 1/1 (1 RUNNING)\n",
      "\n",
      "\n",
      "== Status ==\n",
      "Current time: 2024-05-29 07:40:41 (running for 00:27:42.00)\n",
      "Using FIFO scheduling algorithm.\n",
      "Logical resource usage: 2.0/128 CPUs, 0/0 GPUs\n",
      "Result logdir: /tmp/ray/session_2024-05-29_06-54-58_814481_446177/artifacts/2024-05-29_07-12-59/TorchTrainer_2024-05-29_07-12-59/driver_artifacts\n",
      "Number of trials: 1/1 (1 RUNNING)\n",
      "\n",
      "\n"
     ]
    },
    {
     "name": "stderr",
     "output_type": "stream",
     "text": [
      "  0%|          | 4/996 [27:33<120:56:11, 438.88s/it]\n"
     ]
    },
    {
     "name": "stdout",
     "output_type": "stream",
     "text": [
      "\u001b[36m(RayTrainWorker pid=468095)\u001b[0m {'loss': 1.126, 'grad_norm': 3.579613208770752, 'learning_rate': 0.0001, 'epoch': 0.0}\n",
      "== Status ==\n",
      "Current time: 2024-05-29 07:40:46 (running for 00:27:47.02)\n",
      "Using FIFO scheduling algorithm.\n",
      "Logical resource usage: 2.0/128 CPUs, 0/0 GPUs\n",
      "Result logdir: /tmp/ray/session_2024-05-29_06-54-58_814481_446177/artifacts/2024-05-29_07-12-59/TorchTrainer_2024-05-29_07-12-59/driver_artifacts\n",
      "Number of trials: 1/1 (1 RUNNING)\n",
      "\n",
      "\n"
     ]
    },
    {
     "name": "stderr",
     "output_type": "stream",
     "text": [
      "\u001b[36m(RayTrainWorker pid=468095)\u001b[0m \n",
      "  0%|          | 0/163 [00:00<?, ?it/s]\u001b[A\n"
     ]
    },
    {
     "name": "stdout",
     "output_type": "stream",
     "text": [
      "== Status ==\n",
      "Current time: 2024-05-29 07:40:51 (running for 00:27:52.04)\n",
      "Using FIFO scheduling algorithm.\n",
      "Logical resource usage: 2.0/128 CPUs, 0/0 GPUs\n",
      "Result logdir: /tmp/ray/session_2024-05-29_06-54-58_814481_446177/artifacts/2024-05-29_07-12-59/TorchTrainer_2024-05-29_07-12-59/driver_artifacts\n",
      "Number of trials: 1/1 (1 RUNNING)\n",
      "\n",
      "\n"
     ]
    },
    {
     "name": "stderr",
     "output_type": "stream",
     "text": [
      "\u001b[36m(RayTrainWorker pid=468095)\u001b[0m \n",
      "  1%|          | 2/163 [00:06<08:11,  3.05s/it]\u001b[A\n"
     ]
    },
    {
     "name": "stdout",
     "output_type": "stream",
     "text": [
      "== Status ==\n",
      "Current time: 2024-05-29 07:40:56 (running for 00:27:57.06)\n",
      "Using FIFO scheduling algorithm.\n",
      "Logical resource usage: 2.0/128 CPUs, 0/0 GPUs\n",
      "Result logdir: /tmp/ray/session_2024-05-29_06-54-58_814481_446177/artifacts/2024-05-29_07-12-59/TorchTrainer_2024-05-29_07-12-59/driver_artifacts\n",
      "Number of trials: 1/1 (1 RUNNING)\n",
      "\n",
      "\n"
     ]
    },
    {
     "name": "stderr",
     "output_type": "stream",
     "text": [
      "\u001b[36m(RayTrainWorker pid=468095)\u001b[0m \n",
      "  2%|▏         | 3/163 [00:11<11:16,  4.23s/it]\u001b[A\n"
     ]
    },
    {
     "name": "stdout",
     "output_type": "stream",
     "text": [
      "== Status ==\n",
      "Current time: 2024-05-29 07:41:01 (running for 00:28:02.08)\n",
      "Using FIFO scheduling algorithm.\n",
      "Logical resource usage: 2.0/128 CPUs, 0/0 GPUs\n",
      "Result logdir: /tmp/ray/session_2024-05-29_06-54-58_814481_446177/artifacts/2024-05-29_07-12-59/TorchTrainer_2024-05-29_07-12-59/driver_artifacts\n",
      "Number of trials: 1/1 (1 RUNNING)\n",
      "\n",
      "\n"
     ]
    },
    {
     "name": "stderr",
     "output_type": "stream",
     "text": [
      "\u001b[36m(RayTrainWorker pid=468095)\u001b[0m \n",
      "  2%|▏         | 4/163 [00:17<12:57,  4.89s/it]\u001b[A\n"
     ]
    },
    {
     "name": "stdout",
     "output_type": "stream",
     "text": [
      "== Status ==\n",
      "Current time: 2024-05-29 07:41:06 (running for 00:28:07.10)\n",
      "Using FIFO scheduling algorithm.\n",
      "Logical resource usage: 2.0/128 CPUs, 0/0 GPUs\n",
      "Result logdir: /tmp/ray/session_2024-05-29_06-54-58_814481_446177/artifacts/2024-05-29_07-12-59/TorchTrainer_2024-05-29_07-12-59/driver_artifacts\n",
      "Number of trials: 1/1 (1 RUNNING)\n",
      "\n",
      "\n",
      "== Status ==\n",
      "Current time: 2024-05-29 07:41:11 (running for 00:28:12.12)\n",
      "Using FIFO scheduling algorithm.\n",
      "Logical resource usage: 2.0/128 CPUs, 0/0 GPUs\n",
      "Result logdir: /tmp/ray/session_2024-05-29_06-54-58_814481_446177/artifacts/2024-05-29_07-12-59/TorchTrainer_2024-05-29_07-12-59/driver_artifacts\n",
      "Number of trials: 1/1 (1 RUNNING)\n",
      "\n",
      "\n"
     ]
    },
    {
     "name": "stderr",
     "output_type": "stream",
     "text": [
      "\u001b[36m(RayTrainWorker pid=468095)\u001b[0m \n",
      "  3%|▎         | 5/163 [00:23<13:53,  5.27s/it]\u001b[A\n"
     ]
    },
    {
     "name": "stdout",
     "output_type": "stream",
     "text": [
      "== Status ==\n",
      "Current time: 2024-05-29 07:41:16 (running for 00:28:17.14)\n",
      "Using FIFO scheduling algorithm.\n",
      "Logical resource usage: 2.0/128 CPUs, 0/0 GPUs\n",
      "Result logdir: /tmp/ray/session_2024-05-29_06-54-58_814481_446177/artifacts/2024-05-29_07-12-59/TorchTrainer_2024-05-29_07-12-59/driver_artifacts\n",
      "Number of trials: 1/1 (1 RUNNING)\n",
      "\n",
      "\n"
     ]
    },
    {
     "name": "stderr",
     "output_type": "stream",
     "text": [
      "\u001b[36m(RayTrainWorker pid=468095)\u001b[0m \n",
      "  4%|▎         | 6/163 [00:30<14:27,  5.52s/it]\u001b[A\n"
     ]
    },
    {
     "name": "stdout",
     "output_type": "stream",
     "text": [
      "== Status ==\n",
      "Current time: 2024-05-29 07:41:21 (running for 00:28:22.16)\n",
      "Using FIFO scheduling algorithm.\n",
      "Logical resource usage: 2.0/128 CPUs, 0/0 GPUs\n",
      "Result logdir: /tmp/ray/session_2024-05-29_06-54-58_814481_446177/artifacts/2024-05-29_07-12-59/TorchTrainer_2024-05-29_07-12-59/driver_artifacts\n",
      "Number of trials: 1/1 (1 RUNNING)\n",
      "\n",
      "\n"
     ]
    },
    {
     "name": "stderr",
     "output_type": "stream",
     "text": [
      "\u001b[36m(RayTrainWorker pid=468095)\u001b[0m \n",
      "  4%|▍         | 7/163 [00:36<14:49,  5.70s/it]\u001b[A\n"
     ]
    },
    {
     "name": "stdout",
     "output_type": "stream",
     "text": [
      "== Status ==\n",
      "Current time: 2024-05-29 07:41:26 (running for 00:28:27.18)\n",
      "Using FIFO scheduling algorithm.\n",
      "Logical resource usage: 2.0/128 CPUs, 0/0 GPUs\n",
      "Result logdir: /tmp/ray/session_2024-05-29_06-54-58_814481_446177/artifacts/2024-05-29_07-12-59/TorchTrainer_2024-05-29_07-12-59/driver_artifacts\n",
      "Number of trials: 1/1 (1 RUNNING)\n",
      "\n",
      "\n"
     ]
    },
    {
     "name": "stderr",
     "output_type": "stream",
     "text": [
      "\u001b[36m(RayTrainWorker pid=468095)\u001b[0m \n",
      "  5%|▍         | 8/163 [00:41<14:50,  5.75s/it]\u001b[A\n"
     ]
    },
    {
     "name": "stdout",
     "output_type": "stream",
     "text": [
      "== Status ==\n",
      "Current time: 2024-05-29 07:41:31 (running for 00:28:32.20)\n",
      "Using FIFO scheduling algorithm.\n",
      "Logical resource usage: 2.0/128 CPUs, 0/0 GPUs\n",
      "Result logdir: /tmp/ray/session_2024-05-29_06-54-58_814481_446177/artifacts/2024-05-29_07-12-59/TorchTrainer_2024-05-29_07-12-59/driver_artifacts\n",
      "Number of trials: 1/1 (1 RUNNING)\n",
      "\n",
      "\n"
     ]
    },
    {
     "name": "stderr",
     "output_type": "stream",
     "text": [
      "\u001b[36m(RayTrainWorker pid=468095)\u001b[0m \n",
      "  6%|▌         | 9/163 [00:47<14:52,  5.80s/it]\u001b[A\n"
     ]
    },
    {
     "name": "stdout",
     "output_type": "stream",
     "text": [
      "== Status ==\n",
      "Current time: 2024-05-29 07:41:36 (running for 00:28:37.22)\n",
      "Using FIFO scheduling algorithm.\n",
      "Logical resource usage: 2.0/128 CPUs, 0/0 GPUs\n",
      "Result logdir: /tmp/ray/session_2024-05-29_06-54-58_814481_446177/artifacts/2024-05-29_07-12-59/TorchTrainer_2024-05-29_07-12-59/driver_artifacts\n",
      "Number of trials: 1/1 (1 RUNNING)\n",
      "\n",
      "\n",
      "== Status ==\n",
      "Current time: 2024-05-29 07:41:41 (running for 00:28:42.24)\n",
      "Using FIFO scheduling algorithm.\n",
      "Logical resource usage: 2.0/128 CPUs, 0/0 GPUs\n",
      "Result logdir: /tmp/ray/session_2024-05-29_06-54-58_814481_446177/artifacts/2024-05-29_07-12-59/TorchTrainer_2024-05-29_07-12-59/driver_artifacts\n",
      "Number of trials: 1/1 (1 RUNNING)\n",
      "\n",
      "\n"
     ]
    },
    {
     "name": "stderr",
     "output_type": "stream",
     "text": [
      "\u001b[36m(RayTrainWorker pid=468095)\u001b[0m \n",
      "  6%|▌         | 10/163 [00:53<14:47,  5.80s/it]\u001b[A\n"
     ]
    },
    {
     "name": "stdout",
     "output_type": "stream",
     "text": [
      "== Status ==\n",
      "Current time: 2024-05-29 07:41:46 (running for 00:28:47.26)\n",
      "Using FIFO scheduling algorithm.\n",
      "Logical resource usage: 2.0/128 CPUs, 0/0 GPUs\n",
      "Result logdir: /tmp/ray/session_2024-05-29_06-54-58_814481_446177/artifacts/2024-05-29_07-12-59/TorchTrainer_2024-05-29_07-12-59/driver_artifacts\n",
      "Number of trials: 1/1 (1 RUNNING)\n",
      "\n",
      "\n"
     ]
    },
    {
     "name": "stderr",
     "output_type": "stream",
     "text": [
      "\u001b[36m(RayTrainWorker pid=468095)\u001b[0m \n",
      "  7%|▋         | 11/163 [00:59<14:45,  5.83s/it]\u001b[A\n"
     ]
    },
    {
     "name": "stdout",
     "output_type": "stream",
     "text": [
      "== Status ==\n",
      "Current time: 2024-05-29 07:41:51 (running for 00:28:52.28)\n",
      "Using FIFO scheduling algorithm.\n",
      "Logical resource usage: 2.0/128 CPUs, 0/0 GPUs\n",
      "Result logdir: /tmp/ray/session_2024-05-29_06-54-58_814481_446177/artifacts/2024-05-29_07-12-59/TorchTrainer_2024-05-29_07-12-59/driver_artifacts\n",
      "Number of trials: 1/1 (1 RUNNING)\n",
      "\n",
      "\n"
     ]
    },
    {
     "name": "stderr",
     "output_type": "stream",
     "text": [
      "\u001b[36m(RayTrainWorker pid=468095)\u001b[0m \n",
      "  7%|▋         | 12/163 [01:05<14:51,  5.90s/it]\u001b[A\n"
     ]
    },
    {
     "name": "stdout",
     "output_type": "stream",
     "text": [
      "== Status ==\n",
      "Current time: 2024-05-29 07:41:56 (running for 00:28:57.30)\n",
      "Using FIFO scheduling algorithm.\n",
      "Logical resource usage: 2.0/128 CPUs, 0/0 GPUs\n",
      "Result logdir: /tmp/ray/session_2024-05-29_06-54-58_814481_446177/artifacts/2024-05-29_07-12-59/TorchTrainer_2024-05-29_07-12-59/driver_artifacts\n",
      "Number of trials: 1/1 (1 RUNNING)\n",
      "\n",
      "\n"
     ]
    },
    {
     "name": "stderr",
     "output_type": "stream",
     "text": [
      "\u001b[36m(RayTrainWorker pid=468095)\u001b[0m \n",
      "  8%|▊         | 13/163 [01:11<14:48,  5.93s/it]\u001b[A\n"
     ]
    },
    {
     "name": "stdout",
     "output_type": "stream",
     "text": [
      "== Status ==\n",
      "Current time: 2024-05-29 07:42:01 (running for 00:29:02.32)\n",
      "Using FIFO scheduling algorithm.\n",
      "Logical resource usage: 2.0/128 CPUs, 0/0 GPUs\n",
      "Result logdir: /tmp/ray/session_2024-05-29_06-54-58_814481_446177/artifacts/2024-05-29_07-12-59/TorchTrainer_2024-05-29_07-12-59/driver_artifacts\n",
      "Number of trials: 1/1 (1 RUNNING)\n",
      "\n",
      "\n"
     ]
    },
    {
     "name": "stderr",
     "output_type": "stream",
     "text": [
      "\u001b[36m(RayTrainWorker pid=468095)\u001b[0m \n",
      "  9%|▊         | 14/163 [01:17<14:36,  5.88s/it]\u001b[A\n"
     ]
    },
    {
     "name": "stdout",
     "output_type": "stream",
     "text": [
      "== Status ==\n",
      "Current time: 2024-05-29 07:42:06 (running for 00:29:07.34)\n",
      "Using FIFO scheduling algorithm.\n",
      "Logical resource usage: 2.0/128 CPUs, 0/0 GPUs\n",
      "Result logdir: /tmp/ray/session_2024-05-29_06-54-58_814481_446177/artifacts/2024-05-29_07-12-59/TorchTrainer_2024-05-29_07-12-59/driver_artifacts\n",
      "Number of trials: 1/1 (1 RUNNING)\n",
      "\n",
      "\n"
     ]
    },
    {
     "name": "stderr",
     "output_type": "stream",
     "text": [
      "\u001b[36m(RayTrainWorker pid=468095)\u001b[0m \n",
      "  9%|▉         | 15/163 [01:23<14:24,  5.84s/it]\u001b[A\n"
     ]
    },
    {
     "name": "stdout",
     "output_type": "stream",
     "text": [
      "== Status ==\n",
      "Current time: 2024-05-29 07:42:11 (running for 00:29:12.36)\n",
      "Using FIFO scheduling algorithm.\n",
      "Logical resource usage: 2.0/128 CPUs, 0/0 GPUs\n",
      "Result logdir: /tmp/ray/session_2024-05-29_06-54-58_814481_446177/artifacts/2024-05-29_07-12-59/TorchTrainer_2024-05-29_07-12-59/driver_artifacts\n",
      "Number of trials: 1/1 (1 RUNNING)\n",
      "\n",
      "\n",
      "== Status ==\n",
      "Current time: 2024-05-29 07:42:16 (running for 00:29:17.38)\n",
      "Using FIFO scheduling algorithm.\n",
      "Logical resource usage: 2.0/128 CPUs, 0/0 GPUs\n",
      "Result logdir: /tmp/ray/session_2024-05-29_06-54-58_814481_446177/artifacts/2024-05-29_07-12-59/TorchTrainer_2024-05-29_07-12-59/driver_artifacts\n",
      "Number of trials: 1/1 (1 RUNNING)\n",
      "\n",
      "\n"
     ]
    },
    {
     "name": "stderr",
     "output_type": "stream",
     "text": [
      "\u001b[36m(RayTrainWorker pid=468095)\u001b[0m \n",
      " 10%|▉         | 16/163 [01:28<14:18,  5.84s/it]\u001b[A\n"
     ]
    },
    {
     "name": "stdout",
     "output_type": "stream",
     "text": [
      "== Status ==\n",
      "Current time: 2024-05-29 07:42:21 (running for 00:29:22.40)\n",
      "Using FIFO scheduling algorithm.\n",
      "Logical resource usage: 2.0/128 CPUs, 0/0 GPUs\n",
      "Result logdir: /tmp/ray/session_2024-05-29_06-54-58_814481_446177/artifacts/2024-05-29_07-12-59/TorchTrainer_2024-05-29_07-12-59/driver_artifacts\n",
      "Number of trials: 1/1 (1 RUNNING)\n",
      "\n",
      "\n"
     ]
    },
    {
     "name": "stderr",
     "output_type": "stream",
     "text": [
      "\u001b[36m(RayTrainWorker pid=468095)\u001b[0m \n",
      " 10%|█         | 17/163 [01:34<14:12,  5.84s/it]\u001b[A\n"
     ]
    },
    {
     "name": "stdout",
     "output_type": "stream",
     "text": [
      "== Status ==\n",
      "Current time: 2024-05-29 07:42:26 (running for 00:29:27.42)\n",
      "Using FIFO scheduling algorithm.\n",
      "Logical resource usage: 2.0/128 CPUs, 0/0 GPUs\n",
      "Result logdir: /tmp/ray/session_2024-05-29_06-54-58_814481_446177/artifacts/2024-05-29_07-12-59/TorchTrainer_2024-05-29_07-12-59/driver_artifacts\n",
      "Number of trials: 1/1 (1 RUNNING)\n",
      "\n",
      "\n"
     ]
    },
    {
     "name": "stderr",
     "output_type": "stream",
     "text": [
      "\u001b[36m(RayTrainWorker pid=468095)\u001b[0m \n",
      " 11%|█         | 18/163 [01:40<14:12,  5.88s/it]\u001b[A\n"
     ]
    },
    {
     "name": "stdout",
     "output_type": "stream",
     "text": [
      "== Status ==\n",
      "Current time: 2024-05-29 07:42:32 (running for 00:29:32.43)\n",
      "Using FIFO scheduling algorithm.\n",
      "Logical resource usage: 2.0/128 CPUs, 0/0 GPUs\n",
      "Result logdir: /tmp/ray/session_2024-05-29_06-54-58_814481_446177/artifacts/2024-05-29_07-12-59/TorchTrainer_2024-05-29_07-12-59/driver_artifacts\n",
      "Number of trials: 1/1 (1 RUNNING)\n",
      "\n",
      "\n"
     ]
    },
    {
     "name": "stderr",
     "output_type": "stream",
     "text": [
      "\u001b[36m(RayTrainWorker pid=468095)\u001b[0m \n",
      " 12%|█▏        | 19/163 [01:46<14:11,  5.91s/it]\u001b[A\n"
     ]
    },
    {
     "name": "stdout",
     "output_type": "stream",
     "text": [
      "== Status ==\n",
      "Current time: 2024-05-29 07:42:37 (running for 00:29:37.45)\n",
      "Using FIFO scheduling algorithm.\n",
      "Logical resource usage: 2.0/128 CPUs, 0/0 GPUs\n",
      "Result logdir: /tmp/ray/session_2024-05-29_06-54-58_814481_446177/artifacts/2024-05-29_07-12-59/TorchTrainer_2024-05-29_07-12-59/driver_artifacts\n",
      "Number of trials: 1/1 (1 RUNNING)\n",
      "\n",
      "\n"
     ]
    },
    {
     "name": "stderr",
     "output_type": "stream",
     "text": [
      "\u001b[36m(RayTrainWorker pid=468095)\u001b[0m \n",
      " 12%|█▏        | 20/163 [01:52<14:08,  5.93s/it]\u001b[A\n"
     ]
    },
    {
     "name": "stdout",
     "output_type": "stream",
     "text": [
      "== Status ==\n",
      "Current time: 2024-05-29 07:42:42 (running for 00:29:42.47)\n",
      "Using FIFO scheduling algorithm.\n",
      "Logical resource usage: 2.0/128 CPUs, 0/0 GPUs\n",
      "Result logdir: /tmp/ray/session_2024-05-29_06-54-58_814481_446177/artifacts/2024-05-29_07-12-59/TorchTrainer_2024-05-29_07-12-59/driver_artifacts\n",
      "Number of trials: 1/1 (1 RUNNING)\n",
      "\n",
      "\n"
     ]
    },
    {
     "name": "stderr",
     "output_type": "stream",
     "text": [
      "\u001b[36m(RayTrainWorker pid=468095)\u001b[0m \n",
      " 13%|█▎        | 21/163 [01:58<13:57,  5.90s/it]\u001b[A\n"
     ]
    },
    {
     "name": "stdout",
     "output_type": "stream",
     "text": [
      "== Status ==\n",
      "Current time: 2024-05-29 07:42:47 (running for 00:29:47.49)\n",
      "Using FIFO scheduling algorithm.\n",
      "Logical resource usage: 2.0/128 CPUs, 0/0 GPUs\n",
      "Result logdir: /tmp/ray/session_2024-05-29_06-54-58_814481_446177/artifacts/2024-05-29_07-12-59/TorchTrainer_2024-05-29_07-12-59/driver_artifacts\n",
      "Number of trials: 1/1 (1 RUNNING)\n",
      "\n",
      "\n",
      "== Status ==\n",
      "Current time: 2024-05-29 07:42:52 (running for 00:29:52.51)\n",
      "Using FIFO scheduling algorithm.\n",
      "Logical resource usage: 2.0/128 CPUs, 0/0 GPUs\n",
      "Result logdir: /tmp/ray/session_2024-05-29_06-54-58_814481_446177/artifacts/2024-05-29_07-12-59/TorchTrainer_2024-05-29_07-12-59/driver_artifacts\n",
      "Number of trials: 1/1 (1 RUNNING)\n",
      "\n",
      "\n"
     ]
    },
    {
     "name": "stderr",
     "output_type": "stream",
     "text": [
      "\u001b[36m(RayTrainWorker pid=468095)\u001b[0m \n",
      " 13%|█▎        | 22/163 [02:04<13:52,  5.90s/it]\u001b[A\n"
     ]
    },
    {
     "name": "stdout",
     "output_type": "stream",
     "text": [
      "== Status ==\n",
      "Current time: 2024-05-29 07:42:57 (running for 00:29:57.53)\n",
      "Using FIFO scheduling algorithm.\n",
      "Logical resource usage: 2.0/128 CPUs, 0/0 GPUs\n",
      "Result logdir: /tmp/ray/session_2024-05-29_06-54-58_814481_446177/artifacts/2024-05-29_07-12-59/TorchTrainer_2024-05-29_07-12-59/driver_artifacts\n",
      "Number of trials: 1/1 (1 RUNNING)\n",
      "\n",
      "\n"
     ]
    },
    {
     "name": "stderr",
     "output_type": "stream",
     "text": [
      "\u001b[36m(RayTrainWorker pid=468095)\u001b[0m \n",
      " 14%|█▍        | 23/163 [02:10<13:43,  5.88s/it]\u001b[A\n"
     ]
    },
    {
     "name": "stdout",
     "output_type": "stream",
     "text": [
      "== Status ==\n",
      "Current time: 2024-05-29 07:43:02 (running for 00:30:02.55)\n",
      "Using FIFO scheduling algorithm.\n",
      "Logical resource usage: 2.0/128 CPUs, 0/0 GPUs\n",
      "Result logdir: /tmp/ray/session_2024-05-29_06-54-58_814481_446177/artifacts/2024-05-29_07-12-59/TorchTrainer_2024-05-29_07-12-59/driver_artifacts\n",
      "Number of trials: 1/1 (1 RUNNING)\n",
      "\n",
      "\n"
     ]
    },
    {
     "name": "stderr",
     "output_type": "stream",
     "text": [
      "\u001b[36m(RayTrainWorker pid=468095)\u001b[0m \n",
      " 15%|█▍        | 24/163 [02:16<13:38,  5.89s/it]\u001b[A\n"
     ]
    },
    {
     "name": "stdout",
     "output_type": "stream",
     "text": [
      "== Status ==\n",
      "Current time: 2024-05-29 07:43:07 (running for 00:30:07.57)\n",
      "Using FIFO scheduling algorithm.\n",
      "Logical resource usage: 2.0/128 CPUs, 0/0 GPUs\n",
      "Result logdir: /tmp/ray/session_2024-05-29_06-54-58_814481_446177/artifacts/2024-05-29_07-12-59/TorchTrainer_2024-05-29_07-12-59/driver_artifacts\n",
      "Number of trials: 1/1 (1 RUNNING)\n",
      "\n",
      "\n"
     ]
    },
    {
     "name": "stderr",
     "output_type": "stream",
     "text": [
      "\u001b[36m(RayTrainWorker pid=468095)\u001b[0m \n",
      " 15%|█▌        | 25/163 [02:21<13:28,  5.86s/it]\u001b[A\n"
     ]
    },
    {
     "name": "stdout",
     "output_type": "stream",
     "text": [
      "== Status ==\n",
      "Current time: 2024-05-29 07:43:12 (running for 00:30:12.59)\n",
      "Using FIFO scheduling algorithm.\n",
      "Logical resource usage: 2.0/128 CPUs, 0/0 GPUs\n",
      "Result logdir: /tmp/ray/session_2024-05-29_06-54-58_814481_446177/artifacts/2024-05-29_07-12-59/TorchTrainer_2024-05-29_07-12-59/driver_artifacts\n",
      "Number of trials: 1/1 (1 RUNNING)\n",
      "\n",
      "\n"
     ]
    },
    {
     "name": "stderr",
     "output_type": "stream",
     "text": [
      "\u001b[36m(RayTrainWorker pid=468095)\u001b[0m \n",
      " 16%|█▌        | 26/163 [02:27<13:20,  5.84s/it]\u001b[A\n"
     ]
    },
    {
     "name": "stdout",
     "output_type": "stream",
     "text": [
      "== Status ==\n",
      "Current time: 2024-05-29 07:43:17 (running for 00:30:17.61)\n",
      "Using FIFO scheduling algorithm.\n",
      "Logical resource usage: 2.0/128 CPUs, 0/0 GPUs\n",
      "Result logdir: /tmp/ray/session_2024-05-29_06-54-58_814481_446177/artifacts/2024-05-29_07-12-59/TorchTrainer_2024-05-29_07-12-59/driver_artifacts\n",
      "Number of trials: 1/1 (1 RUNNING)\n",
      "\n",
      "\n"
     ]
    },
    {
     "name": "stderr",
     "output_type": "stream",
     "text": [
      "\u001b[36m(RayTrainWorker pid=468095)\u001b[0m \n",
      " 17%|█▋        | 27/163 [02:33<13:14,  5.85s/it]\u001b[A\n"
     ]
    },
    {
     "name": "stdout",
     "output_type": "stream",
     "text": [
      "== Status ==\n",
      "Current time: 2024-05-29 07:43:22 (running for 00:30:22.63)\n",
      "Using FIFO scheduling algorithm.\n",
      "Logical resource usage: 2.0/128 CPUs, 0/0 GPUs\n",
      "Result logdir: /tmp/ray/session_2024-05-29_06-54-58_814481_446177/artifacts/2024-05-29_07-12-59/TorchTrainer_2024-05-29_07-12-59/driver_artifacts\n",
      "Number of trials: 1/1 (1 RUNNING)\n",
      "\n",
      "\n",
      "== Status ==\n",
      "Current time: 2024-05-29 07:43:27 (running for 00:30:27.65)\n",
      "Using FIFO scheduling algorithm.\n",
      "Logical resource usage: 2.0/128 CPUs, 0/0 GPUs\n",
      "Result logdir: /tmp/ray/session_2024-05-29_06-54-58_814481_446177/artifacts/2024-05-29_07-12-59/TorchTrainer_2024-05-29_07-12-59/driver_artifacts\n",
      "Number of trials: 1/1 (1 RUNNING)\n",
      "\n",
      "\n"
     ]
    },
    {
     "name": "stderr",
     "output_type": "stream",
     "text": [
      "\u001b[36m(RayTrainWorker pid=468095)\u001b[0m \n",
      " 17%|█▋        | 28/163 [02:39<13:09,  5.85s/it]\u001b[A\n"
     ]
    },
    {
     "name": "stdout",
     "output_type": "stream",
     "text": [
      "== Status ==\n",
      "Current time: 2024-05-29 07:43:32 (running for 00:30:32.67)\n",
      "Using FIFO scheduling algorithm.\n",
      "Logical resource usage: 2.0/128 CPUs, 0/0 GPUs\n",
      "Result logdir: /tmp/ray/session_2024-05-29_06-54-58_814481_446177/artifacts/2024-05-29_07-12-59/TorchTrainer_2024-05-29_07-12-59/driver_artifacts\n",
      "Number of trials: 1/1 (1 RUNNING)\n",
      "\n",
      "\n"
     ]
    },
    {
     "name": "stderr",
     "output_type": "stream",
     "text": [
      "\u001b[36m(RayTrainWorker pid=468095)\u001b[0m \n",
      " 18%|█▊        | 29/163 [02:45<13:07,  5.88s/it]\u001b[A\n"
     ]
    },
    {
     "name": "stdout",
     "output_type": "stream",
     "text": [
      "== Status ==\n",
      "Current time: 2024-05-29 07:43:37 (running for 00:30:37.69)\n",
      "Using FIFO scheduling algorithm.\n",
      "Logical resource usage: 2.0/128 CPUs, 0/0 GPUs\n",
      "Result logdir: /tmp/ray/session_2024-05-29_06-54-58_814481_446177/artifacts/2024-05-29_07-12-59/TorchTrainer_2024-05-29_07-12-59/driver_artifacts\n",
      "Number of trials: 1/1 (1 RUNNING)\n",
      "\n",
      "\n"
     ]
    },
    {
     "name": "stderr",
     "output_type": "stream",
     "text": [
      "\u001b[36m(RayTrainWorker pid=468095)\u001b[0m \n",
      " 18%|█▊        | 30/163 [02:51<13:01,  5.87s/it]\u001b[A\n"
     ]
    },
    {
     "name": "stdout",
     "output_type": "stream",
     "text": [
      "== Status ==\n",
      "Current time: 2024-05-29 07:43:42 (running for 00:30:42.71)\n",
      "Using FIFO scheduling algorithm.\n",
      "Logical resource usage: 2.0/128 CPUs, 0/0 GPUs\n",
      "Result logdir: /tmp/ray/session_2024-05-29_06-54-58_814481_446177/artifacts/2024-05-29_07-12-59/TorchTrainer_2024-05-29_07-12-59/driver_artifacts\n",
      "Number of trials: 1/1 (1 RUNNING)\n",
      "\n",
      "\n"
     ]
    },
    {
     "name": "stderr",
     "output_type": "stream",
     "text": [
      "\u001b[36m(RayTrainWorker pid=468095)\u001b[0m \n",
      " 19%|█▉        | 31/163 [02:57<12:54,  5.87s/it]\u001b[A\n"
     ]
    },
    {
     "name": "stdout",
     "output_type": "stream",
     "text": [
      "== Status ==\n",
      "Current time: 2024-05-29 07:43:47 (running for 00:30:47.73)\n",
      "Using FIFO scheduling algorithm.\n",
      "Logical resource usage: 2.0/128 CPUs, 0/0 GPUs\n",
      "Result logdir: /tmp/ray/session_2024-05-29_06-54-58_814481_446177/artifacts/2024-05-29_07-12-59/TorchTrainer_2024-05-29_07-12-59/driver_artifacts\n",
      "Number of trials: 1/1 (1 RUNNING)\n",
      "\n",
      "\n"
     ]
    },
    {
     "name": "stderr",
     "output_type": "stream",
     "text": [
      "\u001b[36m(RayTrainWorker pid=468095)\u001b[0m \n",
      " 20%|█▉        | 32/163 [03:03<12:55,  5.92s/it]\u001b[A\n"
     ]
    },
    {
     "name": "stdout",
     "output_type": "stream",
     "text": [
      "== Status ==\n",
      "Current time: 2024-05-29 07:43:52 (running for 00:30:52.75)\n",
      "Using FIFO scheduling algorithm.\n",
      "Logical resource usage: 2.0/128 CPUs, 0/0 GPUs\n",
      "Result logdir: /tmp/ray/session_2024-05-29_06-54-58_814481_446177/artifacts/2024-05-29_07-12-59/TorchTrainer_2024-05-29_07-12-59/driver_artifacts\n",
      "Number of trials: 1/1 (1 RUNNING)\n",
      "\n",
      "\n"
     ]
    },
    {
     "name": "stderr",
     "output_type": "stream",
     "text": [
      "\u001b[36m(RayTrainWorker pid=468095)\u001b[0m \n",
      " 20%|██        | 33/163 [03:09<12:45,  5.89s/it]\u001b[A\n"
     ]
    },
    {
     "name": "stdout",
     "output_type": "stream",
     "text": [
      "== Status ==\n",
      "Current time: 2024-05-29 07:43:57 (running for 00:30:57.77)\n",
      "Using FIFO scheduling algorithm.\n",
      "Logical resource usage: 2.0/128 CPUs, 0/0 GPUs\n",
      "Result logdir: /tmp/ray/session_2024-05-29_06-54-58_814481_446177/artifacts/2024-05-29_07-12-59/TorchTrainer_2024-05-29_07-12-59/driver_artifacts\n",
      "Number of trials: 1/1 (1 RUNNING)\n",
      "\n",
      "\n",
      "== Status ==\n",
      "Current time: 2024-05-29 07:44:02 (running for 00:31:02.79)\n",
      "Using FIFO scheduling algorithm.\n",
      "Logical resource usage: 2.0/128 CPUs, 0/0 GPUs\n",
      "Result logdir: /tmp/ray/session_2024-05-29_06-54-58_814481_446177/artifacts/2024-05-29_07-12-59/TorchTrainer_2024-05-29_07-12-59/driver_artifacts\n",
      "Number of trials: 1/1 (1 RUNNING)\n",
      "\n",
      "\n"
     ]
    },
    {
     "name": "stderr",
     "output_type": "stream",
     "text": [
      "\u001b[36m(RayTrainWorker pid=468095)\u001b[0m \n",
      " 21%|██        | 34/163 [03:15<12:43,  5.92s/it]\u001b[A\n"
     ]
    },
    {
     "name": "stdout",
     "output_type": "stream",
     "text": [
      "== Status ==\n",
      "Current time: 2024-05-29 07:44:07 (running for 00:31:07.81)\n",
      "Using FIFO scheduling algorithm.\n",
      "Logical resource usage: 2.0/128 CPUs, 0/0 GPUs\n",
      "Result logdir: /tmp/ray/session_2024-05-29_06-54-58_814481_446177/artifacts/2024-05-29_07-12-59/TorchTrainer_2024-05-29_07-12-59/driver_artifacts\n",
      "Number of trials: 1/1 (1 RUNNING)\n",
      "\n",
      "\n"
     ]
    },
    {
     "name": "stderr",
     "output_type": "stream",
     "text": [
      "\u001b[36m(RayTrainWorker pid=468095)\u001b[0m \n",
      " 21%|██▏       | 35/163 [03:20<12:35,  5.90s/it]\u001b[A\n"
     ]
    },
    {
     "name": "stdout",
     "output_type": "stream",
     "text": [
      "== Status ==\n",
      "Current time: 2024-05-29 07:44:12 (running for 00:31:12.83)\n",
      "Using FIFO scheduling algorithm.\n",
      "Logical resource usage: 2.0/128 CPUs, 0/0 GPUs\n",
      "Result logdir: /tmp/ray/session_2024-05-29_06-54-58_814481_446177/artifacts/2024-05-29_07-12-59/TorchTrainer_2024-05-29_07-12-59/driver_artifacts\n",
      "Number of trials: 1/1 (1 RUNNING)\n",
      "\n",
      "\n"
     ]
    },
    {
     "name": "stderr",
     "output_type": "stream",
     "text": [
      "\u001b[36m(RayTrainWorker pid=468095)\u001b[0m \n",
      " 22%|██▏       | 36/163 [03:26<12:34,  5.94s/it]\u001b[A\n"
     ]
    },
    {
     "name": "stdout",
     "output_type": "stream",
     "text": [
      "== Status ==\n",
      "Current time: 2024-05-29 07:44:17 (running for 00:31:17.85)\n",
      "Using FIFO scheduling algorithm.\n",
      "Logical resource usage: 2.0/128 CPUs, 0/0 GPUs\n",
      "Result logdir: /tmp/ray/session_2024-05-29_06-54-58_814481_446177/artifacts/2024-05-29_07-12-59/TorchTrainer_2024-05-29_07-12-59/driver_artifacts\n",
      "Number of trials: 1/1 (1 RUNNING)\n",
      "\n",
      "\n"
     ]
    },
    {
     "name": "stderr",
     "output_type": "stream",
     "text": [
      "\u001b[36m(RayTrainWorker pid=468095)\u001b[0m \n",
      " 23%|██▎       | 37/163 [03:32<12:25,  5.92s/it]\u001b[A\n"
     ]
    },
    {
     "name": "stdout",
     "output_type": "stream",
     "text": [
      "== Status ==\n",
      "Current time: 2024-05-29 07:44:22 (running for 00:31:22.87)\n",
      "Using FIFO scheduling algorithm.\n",
      "Logical resource usage: 2.0/128 CPUs, 0/0 GPUs\n",
      "Result logdir: /tmp/ray/session_2024-05-29_06-54-58_814481_446177/artifacts/2024-05-29_07-12-59/TorchTrainer_2024-05-29_07-12-59/driver_artifacts\n",
      "Number of trials: 1/1 (1 RUNNING)\n",
      "\n",
      "\n"
     ]
    },
    {
     "name": "stderr",
     "output_type": "stream",
     "text": [
      "\u001b[36m(RayTrainWorker pid=468095)\u001b[0m \n",
      " 23%|██▎       | 38/163 [03:38<12:18,  5.91s/it]\u001b[A\n"
     ]
    },
    {
     "name": "stdout",
     "output_type": "stream",
     "text": [
      "== Status ==\n",
      "Current time: 2024-05-29 07:44:27 (running for 00:31:27.89)\n",
      "Using FIFO scheduling algorithm.\n",
      "Logical resource usage: 2.0/128 CPUs, 0/0 GPUs\n",
      "Result logdir: /tmp/ray/session_2024-05-29_06-54-58_814481_446177/artifacts/2024-05-29_07-12-59/TorchTrainer_2024-05-29_07-12-59/driver_artifacts\n",
      "Number of trials: 1/1 (1 RUNNING)\n",
      "\n",
      "\n",
      "== Status ==\n",
      "Current time: 2024-05-29 07:44:32 (running for 00:31:32.91)\n",
      "Using FIFO scheduling algorithm.\n",
      "Logical resource usage: 2.0/128 CPUs, 0/0 GPUs\n",
      "Result logdir: /tmp/ray/session_2024-05-29_06-54-58_814481_446177/artifacts/2024-05-29_07-12-59/TorchTrainer_2024-05-29_07-12-59/driver_artifacts\n",
      "Number of trials: 1/1 (1 RUNNING)\n",
      "\n",
      "\n"
     ]
    },
    {
     "name": "stderr",
     "output_type": "stream",
     "text": [
      "\u001b[36m(RayTrainWorker pid=468095)\u001b[0m \n",
      " 24%|██▍       | 39/163 [03:44<12:08,  5.88s/it]\u001b[A\n"
     ]
    },
    {
     "name": "stdout",
     "output_type": "stream",
     "text": [
      "== Status ==\n",
      "Current time: 2024-05-29 07:44:37 (running for 00:31:37.93)\n",
      "Using FIFO scheduling algorithm.\n",
      "Logical resource usage: 2.0/128 CPUs, 0/0 GPUs\n",
      "Result logdir: /tmp/ray/session_2024-05-29_06-54-58_814481_446177/artifacts/2024-05-29_07-12-59/TorchTrainer_2024-05-29_07-12-59/driver_artifacts\n",
      "Number of trials: 1/1 (1 RUNNING)\n",
      "\n",
      "\n"
     ]
    },
    {
     "name": "stderr",
     "output_type": "stream",
     "text": [
      "\u001b[36m(RayTrainWorker pid=468095)\u001b[0m \n",
      " 25%|██▍       | 40/163 [03:50<11:59,  5.85s/it]\u001b[A\n"
     ]
    },
    {
     "name": "stdout",
     "output_type": "stream",
     "text": [
      "== Status ==\n",
      "Current time: 2024-05-29 07:44:42 (running for 00:31:42.95)\n",
      "Using FIFO scheduling algorithm.\n",
      "Logical resource usage: 2.0/128 CPUs, 0/0 GPUs\n",
      "Result logdir: /tmp/ray/session_2024-05-29_06-54-58_814481_446177/artifacts/2024-05-29_07-12-59/TorchTrainer_2024-05-29_07-12-59/driver_artifacts\n",
      "Number of trials: 1/1 (1 RUNNING)\n",
      "\n",
      "\n"
     ]
    },
    {
     "name": "stderr",
     "output_type": "stream",
     "text": [
      "\u001b[36m(RayTrainWorker pid=468095)\u001b[0m \n",
      " 25%|██▌       | 41/163 [03:56<11:52,  5.84s/it]\u001b[A\n"
     ]
    },
    {
     "name": "stdout",
     "output_type": "stream",
     "text": [
      "== Status ==\n",
      "Current time: 2024-05-29 07:44:47 (running for 00:31:47.97)\n",
      "Using FIFO scheduling algorithm.\n",
      "Logical resource usage: 2.0/128 CPUs, 0/0 GPUs\n",
      "Result logdir: /tmp/ray/session_2024-05-29_06-54-58_814481_446177/artifacts/2024-05-29_07-12-59/TorchTrainer_2024-05-29_07-12-59/driver_artifacts\n",
      "Number of trials: 1/1 (1 RUNNING)\n",
      "\n",
      "\n"
     ]
    },
    {
     "name": "stderr",
     "output_type": "stream",
     "text": [
      "\u001b[36m(RayTrainWorker pid=468095)\u001b[0m \n",
      " 26%|██▌       | 42/163 [04:01<11:46,  5.84s/it]\u001b[A\n"
     ]
    },
    {
     "name": "stdout",
     "output_type": "stream",
     "text": [
      "== Status ==\n",
      "Current time: 2024-05-29 07:44:52 (running for 00:31:52.99)\n",
      "Using FIFO scheduling algorithm.\n",
      "Logical resource usage: 2.0/128 CPUs, 0/0 GPUs\n",
      "Result logdir: /tmp/ray/session_2024-05-29_06-54-58_814481_446177/artifacts/2024-05-29_07-12-59/TorchTrainer_2024-05-29_07-12-59/driver_artifacts\n",
      "Number of trials: 1/1 (1 RUNNING)\n",
      "\n",
      "\n"
     ]
    },
    {
     "name": "stderr",
     "output_type": "stream",
     "text": [
      "\u001b[36m(RayTrainWorker pid=468095)\u001b[0m \n",
      " 26%|██▋       | 43/163 [04:07<11:38,  5.82s/it]\u001b[A\n"
     ]
    },
    {
     "name": "stdout",
     "output_type": "stream",
     "text": [
      "== Status ==\n",
      "Current time: 2024-05-29 07:44:57 (running for 00:31:58.01)\n",
      "Using FIFO scheduling algorithm.\n",
      "Logical resource usage: 2.0/128 CPUs, 0/0 GPUs\n",
      "Result logdir: /tmp/ray/session_2024-05-29_06-54-58_814481_446177/artifacts/2024-05-29_07-12-59/TorchTrainer_2024-05-29_07-12-59/driver_artifacts\n",
      "Number of trials: 1/1 (1 RUNNING)\n",
      "\n",
      "\n"
     ]
    },
    {
     "name": "stderr",
     "output_type": "stream",
     "text": [
      "\u001b[36m(RayTrainWorker pid=468095)\u001b[0m \n",
      " 27%|██▋       | 44/163 [04:13<11:36,  5.85s/it]\u001b[A\n"
     ]
    },
    {
     "name": "stdout",
     "output_type": "stream",
     "text": [
      "== Status ==\n",
      "Current time: 2024-05-29 07:45:02 (running for 00:32:03.03)\n",
      "Using FIFO scheduling algorithm.\n",
      "Logical resource usage: 2.0/128 CPUs, 0/0 GPUs\n",
      "Result logdir: /tmp/ray/session_2024-05-29_06-54-58_814481_446177/artifacts/2024-05-29_07-12-59/TorchTrainer_2024-05-29_07-12-59/driver_artifacts\n",
      "Number of trials: 1/1 (1 RUNNING)\n",
      "\n",
      "\n",
      "== Status ==\n",
      "Current time: 2024-05-29 07:45:07 (running for 00:32:08.05)\n",
      "Using FIFO scheduling algorithm.\n",
      "Logical resource usage: 2.0/128 CPUs, 0/0 GPUs\n",
      "Result logdir: /tmp/ray/session_2024-05-29_06-54-58_814481_446177/artifacts/2024-05-29_07-12-59/TorchTrainer_2024-05-29_07-12-59/driver_artifacts\n",
      "Number of trials: 1/1 (1 RUNNING)\n",
      "\n",
      "\n"
     ]
    },
    {
     "name": "stderr",
     "output_type": "stream",
     "text": [
      "\u001b[36m(RayTrainWorker pid=468095)\u001b[0m \n",
      " 28%|██▊       | 45/163 [04:19<11:33,  5.88s/it]\u001b[A\n"
     ]
    },
    {
     "name": "stdout",
     "output_type": "stream",
     "text": [
      "== Status ==\n",
      "Current time: 2024-05-29 07:45:12 (running for 00:32:13.07)\n",
      "Using FIFO scheduling algorithm.\n",
      "Logical resource usage: 2.0/128 CPUs, 0/0 GPUs\n",
      "Result logdir: /tmp/ray/session_2024-05-29_06-54-58_814481_446177/artifacts/2024-05-29_07-12-59/TorchTrainer_2024-05-29_07-12-59/driver_artifacts\n",
      "Number of trials: 1/1 (1 RUNNING)\n",
      "\n",
      "\n"
     ]
    },
    {
     "name": "stderr",
     "output_type": "stream",
     "text": [
      "\u001b[36m(RayTrainWorker pid=468095)\u001b[0m \n",
      " 28%|██▊       | 46/163 [04:25<11:24,  5.85s/it]\u001b[A\n"
     ]
    },
    {
     "name": "stdout",
     "output_type": "stream",
     "text": [
      "== Status ==\n",
      "Current time: 2024-05-29 07:45:17 (running for 00:32:18.09)\n",
      "Using FIFO scheduling algorithm.\n",
      "Logical resource usage: 2.0/128 CPUs, 0/0 GPUs\n",
      "Result logdir: /tmp/ray/session_2024-05-29_06-54-58_814481_446177/artifacts/2024-05-29_07-12-59/TorchTrainer_2024-05-29_07-12-59/driver_artifacts\n",
      "Number of trials: 1/1 (1 RUNNING)\n",
      "\n",
      "\n"
     ]
    },
    {
     "name": "stderr",
     "output_type": "stream",
     "text": [
      "\u001b[36m(RayTrainWorker pid=468095)\u001b[0m \n",
      " 29%|██▉       | 47/163 [04:31<11:19,  5.86s/it]\u001b[A\n"
     ]
    },
    {
     "name": "stdout",
     "output_type": "stream",
     "text": [
      "== Status ==\n",
      "Current time: 2024-05-29 07:45:22 (running for 00:32:23.11)\n",
      "Using FIFO scheduling algorithm.\n",
      "Logical resource usage: 2.0/128 CPUs, 0/0 GPUs\n",
      "Result logdir: /tmp/ray/session_2024-05-29_06-54-58_814481_446177/artifacts/2024-05-29_07-12-59/TorchTrainer_2024-05-29_07-12-59/driver_artifacts\n",
      "Number of trials: 1/1 (1 RUNNING)\n",
      "\n",
      "\n"
     ]
    },
    {
     "name": "stderr",
     "output_type": "stream",
     "text": [
      "\u001b[36m(RayTrainWorker pid=468095)\u001b[0m \n",
      " 29%|██▉       | 48/163 [04:36<11:10,  5.83s/it]\u001b[A\n"
     ]
    },
    {
     "name": "stdout",
     "output_type": "stream",
     "text": [
      "== Status ==\n",
      "Current time: 2024-05-29 07:45:27 (running for 00:32:28.13)\n",
      "Using FIFO scheduling algorithm.\n",
      "Logical resource usage: 2.0/128 CPUs, 0/0 GPUs\n",
      "Result logdir: /tmp/ray/session_2024-05-29_06-54-58_814481_446177/artifacts/2024-05-29_07-12-59/TorchTrainer_2024-05-29_07-12-59/driver_artifacts\n",
      "Number of trials: 1/1 (1 RUNNING)\n",
      "\n",
      "\n"
     ]
    },
    {
     "name": "stderr",
     "output_type": "stream",
     "text": [
      "\u001b[36m(RayTrainWorker pid=468095)\u001b[0m \n",
      " 30%|███       | 49/163 [04:42<11:06,  5.85s/it]\u001b[A\n"
     ]
    },
    {
     "name": "stdout",
     "output_type": "stream",
     "text": [
      "== Status ==\n",
      "Current time: 2024-05-29 07:45:32 (running for 00:32:33.15)\n",
      "Using FIFO scheduling algorithm.\n",
      "Logical resource usage: 2.0/128 CPUs, 0/0 GPUs\n",
      "Result logdir: /tmp/ray/session_2024-05-29_06-54-58_814481_446177/artifacts/2024-05-29_07-12-59/TorchTrainer_2024-05-29_07-12-59/driver_artifacts\n",
      "Number of trials: 1/1 (1 RUNNING)\n",
      "\n",
      "\n"
     ]
    },
    {
     "name": "stderr",
     "output_type": "stream",
     "text": [
      "2024-05-29 07:45:33,022\tWARNING tune.py:219 -- Stop signal received (e.g. via SIGINT/Ctrl+C), ending Ray Tune run. This will try to checkpoint the experiment state one last time. Press CTRL+C (or send SIGINT/SIGKILL/SIGTERM) to skip. \n",
      "2024-05-29 07:45:33,026\tINFO tune.py:1007 -- Wrote the latest version of all result files and experiment state to '/root/ray_results/TorchTrainer_2024-05-29_07-12-59' in 0.0024s.\n"
     ]
    },
    {
     "name": "stdout",
     "output_type": "stream",
     "text": [
      "== Status ==\n",
      "Current time: 2024-05-29 07:45:33 (running for 00:32:33.45)\n",
      "Using FIFO scheduling algorithm.\n",
      "Logical resource usage: 2.0/128 CPUs, 0/0 GPUs\n",
      "Result logdir: /tmp/ray/session_2024-05-29_06-54-58_814481_446177/artifacts/2024-05-29_07-12-59/TorchTrainer_2024-05-29_07-12-59/driver_artifacts\n",
      "Number of trials: 1/1 (1 RUNNING)\n",
      "\n",
      "\n"
     ]
    },
    {
     "name": "stderr",
     "output_type": "stream",
     "text": [
      "\u001b[36m(RayTrainWorker pid=468095)\u001b[0m \n",
      " 31%|███       | 50/163 [04:48<11:00,  5.85s/it]\u001b[A\n",
      "\u001b[36m(RayTrainWorker pid=468095)\u001b[0m \n",
      " 31%|███▏      | 51/163 [04:54<10:52,  5.82s/it]\u001b[A\n",
      "2024-05-29 07:45:43,031\tINFO tune.py:1039 -- Total run time: 1963.46 seconds (1953.45 seconds for the tuning loop).\n",
      "2024-05-29 07:45:43,032\tWARNING tune.py:1049 -- Training has been interrupted, but the most recent state was saved.\n",
      "Resume training with: <FrameworkTrainer>.restore(path=\"/root/ray_results/TorchTrainer_2024-05-29_07-12-59\", ...)\n"
     ]
    }
   ],
   "source": [
    "def train_func(config):\n",
    "    model = T5ForConditionalGeneration.from_pretrained(model_dir)\n",
    "    tokenizer = T5Tokenizer.from_pretrained(model_dir)\n",
    "    \n",
    "    training_args = Seq2SeqTrainingArguments(\n",
    "        per_device_train_batch_size=batch_size,\n",
    "        overwrite_output_dir=True,\n",
    "        save_total_limit=save_total_limit,\n",
    "        logging_dir=\"./logs\",\n",
    "        num_train_epochs=num_train_epochs,\n",
    "        report_to=\"none\",\n",
    "        per_device_eval_batch_size=batch_size,\n",
    "        save_strategy=\"steps\",\n",
    "        max_steps=max_steps_per_epoch * 2,\n",
    "        evaluation_strategy=\"steps\",\n",
    "        output_dir=\"./checkpoints\",\n",
    "        warmup_steps=2*eval_steps,\n",
    "        learning_rate=learning_rate,\n",
    "        logging_steps=eval_steps,\n",
    "        predict_with_generate=True,\n",
    "        gradient_accumulation_steps=gradient_accumulation_steps,\n",
    "        save_steps=eval_steps,\n",
    "        eval_steps=eval_steps,\n",
    "    )\n",
    "        \n",
    "    trainer = Seq2SeqTrainer(\n",
    "        model=model,\n",
    "        rain_dataset=dataset[\"train\"],\n",
    "        eval_dataset=dataset[\"test\"],\n",
    "        tokenizer=tokenizer,\n",
    "        args=training_args,\n",
    "    )\n",
    "    \n",
    "    trainer.add_callback(RayTrainReportCallback())\n",
    "    trainer = prepare_trainer(trainer)\n",
    "    trainer.train()\n",
    "\n",
    "scaling_config = ScalingConfig(num_workers=num_workers, use_gpu=False)\n",
    "ray_trainer = TorchTrainer(\n",
    "    train_func,\n",
    "    scaling_config=scaling_config,\n",
    "    datasets={\"train\": ray_train_ds, \"eval\": ray_eval_ds},\n",
    ")\n",
    "\n",
    "result = ray_trainer.fit()"
   ]
  }
 ],
 "metadata": {
  "kernelspec": {
   "display_name": "py3109",
   "language": "python",
   "name": "py3109"
  },
  "language_info": {
   "codemirror_mode": {
    "name": "ipython",
    "version": 3
   },
   "file_extension": ".py",
   "mimetype": "text/x-python",
   "name": "python",
   "nbconvert_exporter": "python",
   "pygments_lexer": "ipython3",
   "version": "3.10.9"
  }
 },
 "nbformat": 4,
 "nbformat_minor": 4
}
